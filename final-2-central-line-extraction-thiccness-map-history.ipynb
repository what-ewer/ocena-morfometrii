{
 "cells": [
  {
   "cell_type": "code",
   "execution_count": 63,
   "metadata": {},
   "outputs": [],
   "source": [
    "import numpy as np\n",
    "import glob\n",
    "import matplotlib.pyplot as plt\n",
    "import pickle\n",
    "from skimage import measure, segmentation, feature\n",
    "from vis_utils import load_volume, VolumeVisualizer, ColorMapVisualizer\n",
    "from scipy.ndimage import zoom\n",
    "from scipy.signal import fftconvolve\n",
    "from skimage.morphology import skeletonize_3d, binary_dilation\n",
    "from skimage import filters, morphology\n",
    "from scipy import signal\n",
    "from skimage.filters import frangi, sato\n",
    "from PIL import Image\n",
    "from tqdm import tqdm"
   ]
  },
  {
   "cell_type": "code",
   "execution_count": 80,
   "metadata": {},
   "outputs": [],
   "source": [
    "TREE_NAME = 'M18'"
   ]
  },
  {
   "cell_type": "markdown",
   "metadata": {},
   "source": [
    "## Utility visualisation functions"
   ]
  },
  {
   "cell_type": "code",
   "execution_count": 81,
   "metadata": {},
   "outputs": [],
   "source": [
    "def visualize_addition(base, base_with_addition):\n",
    "    base = (base.copy() > 0).astype(np.uint8)\n",
    "    addition = (base_with_addition > 0).astype(np.uint8)\n",
    "    addition[base == 1] = 0\n",
    "    ColorMapVisualizer(base + addition * 4).visualize()\n",
    "    \n",
    "def visualize_lsd(lsd_mask):\n",
    "    ColorMapVisualizer(lsd_mask.astype(np.uint8)).visualize()\n",
    "    \n",
    "def visualize_gradient(lsd_mask):\n",
    "    ColorMapVisualizer(lsd_mask.astype(np.uint8)).visualize(gradient=True)\n",
    "    \n",
    "def visualize_mask_bin(mask):\n",
    "    VolumeVisualizer((mask > 0).astype(np.uint8), binary=True).visualize()\n",
    "    \n",
    "def visualize_mask_non_bin(mask):\n",
    "    VolumeVisualizer((mask > 0).astype(np.uint8) * 255, binary=False).visualize()\n",
    "    \n",
    "def visualize_skeleton(mask, visualize_mask=True, visualize_both_versions=False):\n",
    "    skeleton = skeletonize_3d((mask > 0).astype(np.uint8))\n",
    "    if not visualize_mask or visualize_both_versions:\n",
    "        VolumeVisualizer(skeleton, binary=True).visualize()\n",
    "    if visualize_mask or visualize_both_versions:\n",
    "        skeleton = skeleton.astype(np.uint8) * 4\n",
    "        mask = (mask > 0).astype(np.uint8) * 3\n",
    "        mask[skeleton != 0] = 0\n",
    "        ColorMapVisualizer(skeleton + mask).visualize()\n",
    "\n",
    "def visualize_ultimate(lsd, base_mask):\n",
    "    visualize_lsd(lsd)\n",
    "    visualize_mask_non_bin(lsd)\n",
    "    visualize_addition(base_mask, lsd)\n",
    "    visualize_skeleton(lsd, visualize_mask=True)"
   ]
  },
  {
   "cell_type": "code",
   "execution_count": 82,
   "metadata": {},
   "outputs": [],
   "source": [
    "def visualize_skeleton_2(skeleton, mask):\n",
    "    skel = (skeleton > 0).astype(np.uint8) * 4\n",
    "    mask = (mask > 0).astype(np.uint8) * 3\n",
    "    mask[skeleton != 0] = 0\n",
    "    ColorMapVisualizer(skel + mask).visualize()"
   ]
  },
  {
   "cell_type": "markdown",
   "metadata": {},
   "source": [
    "## Loading specimen reconstruction"
   ]
  },
  {
   "cell_type": "code",
   "execution_count": 83,
   "metadata": {},
   "outputs": [],
   "source": [
    "source_dir = './data/models/'\n",
    "reconstruction = np.load(source_dir + TREE_NAME + '/reconstruction.npy')"
   ]
  },
  {
   "cell_type": "code",
   "execution_count": 51,
   "metadata": {},
   "outputs": [],
   "source": [
    "visualize_mask_non_bin(reconstruction)\n",
    "# visualize_mask_bin(reconstruction)\n",
    "# visualize_skeleton(reconstruction)"
   ]
  },
  {
   "cell_type": "markdown",
   "metadata": {},
   "source": [
    "## Obtaining skeleton"
   ]
  },
  {
   "cell_type": "code",
   "execution_count": 84,
   "metadata": {},
   "outputs": [
    {
     "name": "stdout",
     "output_type": "stream",
     "text": [
      "Wall time: 25.7 s\n"
     ]
    }
   ],
   "source": [
    "%%time\n",
    "skeleton = (skeletonize_3d(reconstruction) > 0).astype(np.uint8)"
   ]
  },
  {
   "cell_type": "code",
   "execution_count": 71,
   "metadata": {},
   "outputs": [],
   "source": [
    "visualize_skeleton_2(skeleton, reconstruction)"
   ]
  },
  {
   "cell_type": "code",
   "execution_count": 12,
   "metadata": {},
   "outputs": [],
   "source": [
    "visualize_mask_bin(skeleton)"
   ]
  },
  {
   "cell_type": "markdown",
   "metadata": {},
   "source": [
    "## Trimming skeleton"
   ]
  },
  {
   "cell_type": "code",
   "execution_count": 87,
   "metadata": {},
   "outputs": [],
   "source": [
    "def trim_skeleton_once(skeleton, condidate_voxels):\n",
    "    trimmed_skeleton = skeleton.copy()\n",
    "    leaves_neighbours = []\n",
    "    \n",
    "    for voxel in condidate_voxels:\n",
    "        x, y, z = tuple(voxel)\n",
    "        neighbours_count = 0\n",
    "        voxel_neighbours = []\n",
    "        for dx in [-1, 0, 1]:\n",
    "            for dy in [-1, 0, 1]:\n",
    "                for dz in [-1, 0, 1]:\n",
    "                    if dx == dy == dz == 0:\n",
    "                        continue\n",
    "                    neighbour_x = x + dx\n",
    "                    neighbour_y = y + dy\n",
    "                    neighbour_z = z + dz\n",
    "                    if skeleton[neighbour_x, neighbour_y, neighbour_z]:\n",
    "                        neighbours_count += 1\n",
    "                        voxel_neighbours.append((neighbour_x, neighbour_y, neighbour_z))\n",
    "        if neighbours_count < 2:\n",
    "            trimmed_skeleton[x, y, z] = 0\n",
    "            leaves_neighbours += voxel_neighbours     \n",
    "    return trimmed_skeleton.astype(np.uint8), leaves_neighbours\n",
    "\n",
    "def trim_skeleton(skeleton, iters):\n",
    "    trimmed_skeleton, trim_neighbours = trim_skeleton_once(skeleton, np.argwhere(skeleton))\n",
    "    print('iter 1 done')\n",
    "    for i in range(1, iters):\n",
    "        trimmed_skeleton, trim_neighbours = trim_skeleton_once(trimmed_skeleton, trim_neighbours)\n",
    "        print(f'iter {i + 1} done')\n",
    "    return trimmed_skeleton"
   ]
  },
  {
   "cell_type": "code",
   "execution_count": 90,
   "metadata": {},
   "outputs": [
    {
     "name": "stdout",
     "output_type": "stream",
     "text": [
      "iter 1 done\n",
      "iter 2 done\n",
      "iter 3 done\n",
      "Wall time: 2.44 s\n"
     ]
    }
   ],
   "source": [
    "%%time\n",
    "iterations = {\n",
    "    'P01': 15,\n",
    "    'P05': 75,\n",
    "    'P12': 24,\n",
    "    'M18': 3,\n",
    "}\n",
    "\n",
    "trimmed_skeleton = trim_skeleton(skeleton, iters=iterations.get(TREE_NAME, 30))"
   ]
  },
  {
   "cell_type": "code",
   "execution_count": 91,
   "metadata": {},
   "outputs": [],
   "source": [
    "visualize_addition(trimmed_skeleton, skeleton)\n",
    "# visualize_addition(trimmed_skeleton, reconstruction)"
   ]
  },
  {
   "cell_type": "markdown",
   "metadata": {},
   "source": [
    "## Propagating thickness"
   ]
  },
  {
   "cell_type": "code",
   "execution_count": 92,
   "metadata": {},
   "outputs": [],
   "source": [
    "def spherical_kernel(outer_radius, thickness=1, filled=True):    \n",
    "    outer_sphere = morphology.ball(radius=outer_radius)\n",
    "    if filled:\n",
    "        return outer_sphere\n",
    "    \n",
    "    thickness = min(thickness, outer_radius)\n",
    "    \n",
    "    inner_radius = outer_radius - thickness\n",
    "    inner_sphere = morphology.ball(radius=inner_radius)\n",
    "    \n",
    "    begin = outer_radius - inner_radius\n",
    "    end = begin + inner_sphere.shape[0]\n",
    "    outer_sphere[begin:end, begin:end, begin:end] -= inner_sphere\n",
    "    return outer_sphere"
   ]
  },
  {
   "cell_type": "code",
   "execution_count": 93,
   "metadata": {},
   "outputs": [],
   "source": [
    "# def convolve_with_ball_on_given_voxels(padded_reconstruction, voxels_mask, kernel_radius, normalize=True):\n",
    "#     result = np.zeros(voxels_mask.shape)\n",
    "#     kernel = spherical_kernel(kernel_radius, filled=True)\n",
    "    \n",
    "#     voxels = np.argwhere(voxels_mask)\n",
    "#     for voxel in voxels:\n",
    "#         x, y, z = tuple(voxel + kernel_radius)\n",
    "        \n",
    "#         reconstruction_slice = padded_reconstruction[\n",
    "#             x - kernel_radius : x + kernel_radius + 1,\n",
    "#             y - kernel_radius : y + kernel_radius + 1,\n",
    "#             z - kernel_radius : z + kernel_radius + 1\n",
    "#         ]\n",
    "        \n",
    "#         filled_slice = np.logical_and(reconstruction_slice, kernel)\n",
    "#         result[tuple(voxel)] = np.sum(filled_slice)           \n",
    "    \n",
    "#     if not normalize:\n",
    "#         return result\n",
    "    \n",
    "#     return (result / kernel.sum()).astype(np.float16)"
   ]
  },
  {
   "cell_type": "code",
   "execution_count": 94,
   "metadata": {},
   "outputs": [],
   "source": [
    "# #PSEUDO\n",
    "# def calculate_radii(skeleton, reconstruction):\n",
    "#   radii_mask = zeros(skeleton.shape)\n",
    "\n",
    "#   for voxel in skeleton.voxels:\n",
    "#     for kernel_radius range(60):\n",
    "#       kernel = get_sphere_kernel(kernel_radius)\n",
    "#       volume_slice = get_volume_slice(volume = reconstruction,\n",
    "#                                       midpoint = voxel,\n",
    "#                                       size = kernel_radius)\n",
    "#       covered_size = logical_and(slice, kernel)\n",
    "#       covered_percentage = covered_size /  kernel.sum()\n",
    "#       if covered_percentage > 0.85:\n",
    "#         radii_mask[voxel] = kernel_radius\n",
    "#       else:\n",
    "#         break\n",
    "#   return radii_mask"
   ]
  },
  {
   "cell_type": "code",
   "execution_count": 95,
   "metadata": {},
   "outputs": [],
   "source": [
    "# def calculate_skeleton_thickness(skeleton, \n",
    "#                                  reconstruction, \n",
    "#                                  kernel_sizes, \n",
    "#                                  fill_threshold):\n",
    "    \n",
    "#     kernel_size_map = np.zeros(skeleton.shape)\n",
    "    \n",
    "#     for kernel_size in sorted(kernel_sizes):\n",
    "#         padded_reconstruction = np.pad(reconstruction, kernel_size)\n",
    "#         fill_percentage = convolve_with_ball_on_given_voxels(padded_reconstruction, skeleton, kernel_size)\n",
    "#         above_threshold_fill_indices = fill_percentage >= fill_threshold\n",
    "#         kernel_size_map[above_threshold_fill_indices] = kernel_size + 1\n",
    "#         print(f'Kernel {kernel_size} done')\n",
    "        \n",
    "#     return kernel_size_map"
   ]
  },
  {
   "cell_type": "code",
   "execution_count": 96,
   "metadata": {},
   "outputs": [],
   "source": [
    "def prepare_kernels(kernel_sizes):\n",
    "    kernels = []\n",
    "    for kernel_radius in sorted(kernel_sizes):\n",
    "        kernel = spherical_kernel(kernel_radius, filled=True)\n",
    "        kernels.append((kernel_radius, kernel, np.sum(kernel)))\n",
    "    return kernels\n",
    "\n",
    "def calculate_skeleton_thickness(skeleton, \n",
    "                                 reconstruction, \n",
    "                                 kernel_sizes, \n",
    "                                 fill_threshold):\n",
    "    kernels = prepare_kernels(kernel_sizes)\n",
    "    max_kernel_radius = np.max(kernel_sizes)\n",
    "    padded_reconstruction = np.pad(reconstruction, max_kernel_radius)\n",
    "    skeleton_voxels = np.argwhere(skeleton)\n",
    "    result = np.zeros(skeleton.shape, dtype=np.int)\n",
    "    \n",
    "    for voxel in tqdm(skeleton_voxels):\n",
    "        x, y, z = tuple(voxel + max_kernel_radius)\n",
    "        for kernel_radius, kernel, kernel_sum in kernels:\n",
    "            reconstruction_slice = padded_reconstruction[\n",
    "                x - kernel_radius : x + kernel_radius + 1,\n",
    "                y - kernel_radius : y + kernel_radius + 1,\n",
    "                z - kernel_radius : z + kernel_radius + 1\n",
    "            ]\n",
    "            fill_factor = np.sum(np.logical_and(reconstruction_slice, kernel)) / kernel_sum\n",
    "            if fill_factor > fill_threshold:\n",
    "                result[tuple(voxel)] = kernel_radius + 1\n",
    "            else:\n",
    "                break\n",
    "    return result"
   ]
  },
  {
   "cell_type": "code",
   "execution_count": 97,
   "metadata": {},
   "outputs": [
    {
     "name": "stderr",
     "output_type": "stream",
     "text": [
      "100%|██████████████████████████████████████████████████████████████████████████████████████████████████████████████████████████████████████████████| 25828/25828 [00:03<00:00, 7921.38it/s]"
     ]
    },
    {
     "name": "stdout",
     "output_type": "stream",
     "text": [
      "Wall time: 6.82 s\n"
     ]
    },
    {
     "name": "stderr",
     "output_type": "stream",
     "text": [
      "\n"
     ]
    }
   ],
   "source": [
    "%%time\n",
    "kernel_sizes = {\n",
    "    'P01': range(60),\n",
    "    'P05': range(50),\n",
    "    'P12': range(30),\n",
    "}\n",
    "\n",
    "fill_thresholds = {\n",
    "    'P01': 0.85,\n",
    "}\n",
    "\n",
    "skeleton_thickness = calculate_skeleton_thickness(trimmed_skeleton,\n",
    "                                                  reconstruction,\n",
    "                                                  kernel_sizes.get(TREE_NAME, range(70)),\n",
    "                                                  fill_thresholds.get(TREE_NAME, 0.85))"
   ]
  },
  {
   "cell_type": "code",
   "execution_count": 98,
   "metadata": {},
   "outputs": [
    {
     "name": "stdout",
     "output_type": "stream",
     "text": [
      "Wall time: 3.75 s\n"
     ]
    },
    {
     "data": {
      "text/plain": [
       "(array([ 0,  1,  2,  3,  4,  5,  6,  7,  8,  9, 10, 11, 12, 13, 14, 15, 16,\n",
       "        17, 18, 19, 20, 21, 22, 23, 24, 25, 26, 27]),\n",
       " array([225580252,        14,       201,      6990,      7569,      4724,\n",
       "             2341,       836,      1182,       275,       598,       140,\n",
       "               82,       334,        63,        41,        86,       128,\n",
       "               31,        15,        16,        20,        72,        16,\n",
       "                9,         9,        11,        25], dtype=int64))"
      ]
     },
     "execution_count": 98,
     "metadata": {},
     "output_type": "execute_result"
    }
   ],
   "source": [
    "%%time\n",
    "np.unique(skeleton_thickness, return_counts=True)"
   ]
  },
  {
   "cell_type": "code",
   "execution_count": 99,
   "metadata": {},
   "outputs": [],
   "source": [
    "# %%time\n",
    "# kernel_sizes = {\n",
    "#     'P01': range(50),\n",
    "#     'P05': range(50),\n",
    "#     'P12': range(30),\n",
    "# }\n",
    "\n",
    "# fill_thresholds = {\n",
    "#     'P01': 0.8,\n",
    "#     'P05': 0.8,\n",
    "#     'P12': 0.8,\n",
    "# }\n",
    "\n",
    "# skeleton_thickness = calculate_skeleton_thickness(trimmed_skeleton,\n",
    "#                                                   reconstruction,\n",
    "#                                                   kernel_sizes.get(TREE_NAME, range(12)),\n",
    "#                                                   fill_thresholds.get(TREE_NAME, 0.8))"
   ]
  },
  {
   "cell_type": "code",
   "execution_count": 51,
   "metadata": {},
   "outputs": [],
   "source": [
    "visualize_gradient(skeleton_thickness)"
   ]
  },
  {
   "cell_type": "markdown",
   "metadata": {},
   "source": [
    "## Propagate thickness from trimmed skeleton to the ends"
   ]
  },
  {
   "cell_type": "code",
   "execution_count": 100,
   "metadata": {},
   "outputs": [],
   "source": [
    "def propagate_thickness_to_trims(trimmed_skeleton, skeleton, skeleton_thickness):   \n",
    "    whole_skeleton_thicksness = np.zeros(skeleton.shape, dtype=np.int)\n",
    "    whole_skeleton_thicksness[trimmed_skeleton > 0] = skeleton_thickness[trimmed_skeleton > 0]\n",
    "    \n",
    "    queue = list([tuple(coords) for coords in np.argwhere(trimmed_skeleton)])\n",
    "    while(len(queue) > 0):\n",
    "        x, y, z = queue.pop(0)\n",
    "        thickness = whole_skeleton_thicksness[x, y, z]\n",
    "        \n",
    "        for dx in [-1, 0, 1]:\n",
    "            for dy in [-1, 0, 1]:\n",
    "                for dz in [-1, 0, 1]:\n",
    "                    neighbour_x = x + dx\n",
    "                    neighbour_y = y + dy\n",
    "                    neighbour_z = z + dz\n",
    "                    if whole_skeleton_thicksness[neighbour_x, neighbour_y, neighbour_z] > 0:\n",
    "                        continue\n",
    "                        \n",
    "                    if not skeleton[neighbour_x, neighbour_y, neighbour_z]:\n",
    "                        continue\n",
    "                        \n",
    "                    whole_skeleton_thicksness[neighbour_x, neighbour_y, neighbour_z] = thickness\n",
    "                    queue.append((neighbour_x, neighbour_y, neighbour_z))\n",
    "                        \n",
    "    return whole_skeleton_thicksness"
   ]
  },
  {
   "cell_type": "code",
   "execution_count": 101,
   "metadata": {},
   "outputs": [
    {
     "name": "stdout",
     "output_type": "stream",
     "text": [
      "Wall time: 3.27 s\n"
     ]
    }
   ],
   "source": [
    "%%time\n",
    "whole_skeleton_thicksness = propagate_thickness_to_trims(trimmed_skeleton, skeleton, skeleton_thickness)"
   ]
  },
  {
   "cell_type": "code",
   "execution_count": 102,
   "metadata": {},
   "outputs": [],
   "source": [
    "# visualize_gradient(whole_skeleton_thicksness)"
   ]
  },
  {
   "cell_type": "code",
   "execution_count": 103,
   "metadata": {},
   "outputs": [],
   "source": [
    "def propagate_thickness(skeleton, skeleton_thicksness, reconstruction):   \n",
    "    thiccness_map = np.zeros(reconstruction.shape)\n",
    "    thiccness_map[skeleton > 0] = skeleton_thicksness[skeleton > 0]\n",
    "    \n",
    "    queue = list([tuple(coords) for coords in np.argwhere(skeleton)])\n",
    "    while(len(queue) > 0):\n",
    "        x, y, z = queue.pop(0)\n",
    "        thiccness = thiccness_map[x, y, z]\n",
    "        \n",
    "        for dx in [-1, 0, 1]:\n",
    "            for dy in [-1, 0, 1]:\n",
    "                for dz in [-1, 0, 1]:\n",
    "                    neighbour_x = x + dx\n",
    "                    neighbour_y = y + dy\n",
    "                    neighbour_z = z + dz\n",
    "                    if thiccness_map[neighbour_x, neighbour_y, neighbour_z] > 0:\n",
    "                        continue\n",
    "                        \n",
    "                    if not reconstruction[neighbour_x, neighbour_y, neighbour_z]:\n",
    "                        continue\n",
    "                        \n",
    "                    thiccness_map[neighbour_x, neighbour_y, neighbour_z] = thiccness\n",
    "                    queue.append((neighbour_x, neighbour_y, neighbour_z))\n",
    "                        \n",
    "    return thiccness_map"
   ]
  },
  {
   "cell_type": "code",
   "execution_count": 104,
   "metadata": {},
   "outputs": [],
   "source": [
    "# %%time\n",
    "# thickness_map = propagate_thickness(trimmed_skeleton, skeleton_thickness, reconstruction)"
   ]
  },
  {
   "cell_type": "code",
   "execution_count": 105,
   "metadata": {},
   "outputs": [],
   "source": [
    "# visualize_gradient(thiccness_map)"
   ]
  },
  {
   "cell_type": "markdown",
   "metadata": {},
   "source": [
    "## Adding leaves to the skeleton"
   ]
  },
  {
   "cell_type": "code",
   "execution_count": 106,
   "metadata": {},
   "outputs": [],
   "source": [
    "def get_largest_regions(binary_mask, min_size=1000, connectivity=3):\n",
    "    labeled = measure.label(binary_mask, connectivity=connectivity)\n",
    "    region_props = measure.regionprops(labeled)\n",
    "    \n",
    "    main_regions_labels = []\n",
    "    for props in region_props:\n",
    "        if props.area > min_size:\n",
    "            main_regions_labels.append(props.label)\n",
    "            \n",
    "    print(f\"found {len(main_regions_labels)} main regions, out of {np.max(labeled)} regions\")\n",
    "            \n",
    "    largest_regions = np.zeros(labeled.shape)\n",
    "    for main_region_label in main_regions_labels:\n",
    "        largest_regions[labeled == main_region_label] = 1\n",
    "    return largest_regions.astype(np.uint8)\n",
    "\n",
    "def make_ends_meet(skeleton, trimmed_skeleton, skeleton_thickness, ends_max_radius):\n",
    "    ends = (skeleton - trimmed_skeleton) * (skeleton_thickness <= ends_max_radius)\n",
    "    ends = ends.astype(np.uint8)\n",
    "    \n",
    "    trimmed_with_ends = (trimmed_skeleton > 0).astype(np.uint8) + ends\n",
    "    return get_largest_regions(trimmed_with_ends, connectivity=3)"
   ]
  },
  {
   "cell_type": "code",
   "execution_count": 107,
   "metadata": {},
   "outputs": [
    {
     "name": "stdout",
     "output_type": "stream",
     "text": [
      "found 1 main regions, out of 2 regions\n",
      "Wall time: 5.83 s\n"
     ]
    }
   ],
   "source": [
    "%%time\n",
    "ends_max_radius = {\n",
    "    'P01': 20,\n",
    "    'P05': 24,\n",
    "    'P12': 8,\n",
    "    'M09': 7,\n",
    "    'M10': 7\n",
    "}\n",
    "\n",
    "full_skeleton = make_ends_meet(skeleton, trimmed_skeleton, whole_skeleton_thicksness, \n",
    "                               ends_max_radius=ends_max_radius.get(TREE_NAME, 7)) #20)) # dla normalnych drzew 20"
   ]
  },
  {
   "cell_type": "code",
   "execution_count": 109,
   "metadata": {},
   "outputs": [],
   "source": [
    "visualize_addition(full_skeleton, skeleton) # full_skeleton is green (1)"
   ]
  },
  {
   "cell_type": "code",
   "execution_count": 26,
   "metadata": {},
   "outputs": [],
   "source": [
    "# wasteskel = skeleton.copy()\n",
    "# wasteskel[:-40, :, :] = 0\n",
    "# xdskel = full_skeleton + wasteskel\n",
    "# visualize_addition(xdskel, skeleton)"
   ]
  },
  {
   "cell_type": "code",
   "execution_count": 24,
   "metadata": {},
   "outputs": [],
   "source": [
    "# visualize_mask_bin(skeleton[-10:, :, :])"
   ]
  },
  {
   "cell_type": "code",
   "execution_count": 31,
   "metadata": {},
   "outputs": [],
   "source": [
    "# full_skeleton = xdskel > 0"
   ]
  },
  {
   "cell_type": "code",
   "execution_count": 110,
   "metadata": {},
   "outputs": [],
   "source": [
    "full_skeleton_thickness = whole_skeleton_thicksness.copy()\n",
    "full_skeleton_thickness[full_skeleton == 0] = 0"
   ]
  },
  {
   "cell_type": "code",
   "execution_count": 29,
   "metadata": {},
   "outputs": [],
   "source": [
    "visualize_gradient(full_skeleton_thickness)"
   ]
  },
  {
   "cell_type": "markdown",
   "metadata": {},
   "source": [
    "## Saving skeleton and thiccness map"
   ]
  },
  {
   "cell_type": "code",
   "execution_count": null,
   "metadata": {},
   "outputs": [],
   "source": [
    "np.save(source_dir + TREE_NAME + '/central-line', full_skeleton)\n",
    "np.save(source_dir + TREE_NAME + '/central-line-radii', full_skeleton_thickness.astype(np.uint8))"
   ]
  },
  {
   "cell_type": "code",
   "execution_count": 32,
   "metadata": {},
   "outputs": [],
   "source": [
    "# np.save(source_dir + TREE_NAME + '/thickness-map', thiccness_map)"
   ]
  },
  {
   "cell_type": "code",
   "execution_count": null,
   "metadata": {},
   "outputs": [],
   "source": []
  }
 ],
 "metadata": {
  "kernelspec": {
   "display_name": "Python 3",
   "language": "python",
   "name": "python3"
  },
  "language_info": {
   "codemirror_mode": {
    "name": "ipython",
    "version": 3
   },
   "file_extension": ".py",
   "mimetype": "text/x-python",
   "name": "python",
   "nbconvert_exporter": "python",
   "pygments_lexer": "ipython3",
   "version": "3.7.9"
  }
 },
 "nbformat": 4,
 "nbformat_minor": 4
}
