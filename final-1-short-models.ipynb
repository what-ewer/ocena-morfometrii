{
 "cells": [
  {
   "cell_type": "code",
   "execution_count": 75,
   "metadata": {},
   "outputs": [],
   "source": [
    "import numpy as np\n",
    "import glob\n",
    "import matplotlib.pyplot as plt\n",
    "import pickle\n",
    "from skimage import measure, segmentation, feature\n",
    "from vis_utils import load_volume, VolumeVisualizer, ColorMapVisualizer\n",
    "from scipy.ndimage import zoom\n",
    "from scipy.signal import fftconvolve\n",
    "from skimage.morphology import skeletonize_3d, binary_dilation, convex_hull_image\n",
    "from skimage import filters, morphology\n",
    "from scipy import signal\n",
    "from skimage.filters import frangi, sato\n",
    "from PIL import Image\n",
    "from tqdm import tqdm\n",
    "\n",
    "from scipy.ndimage import zoom"
   ]
  },
  {
   "cell_type": "code",
   "execution_count": 103,
   "metadata": {},
   "outputs": [],
   "source": [
    "TREE_NAME = 'M18' "
   ]
  },
  {
   "cell_type": "markdown",
   "metadata": {},
   "source": [
    "## Loading specimen volume"
   ]
  },
  {
   "cell_type": "code",
   "execution_count": 104,
   "metadata": {
    "scrolled": true
   },
   "outputs": [
    {
     "data": {
      "text/plain": [
       "{'M01': './data/models\\\\M01\\\\M01_60um.npy',\n",
       " 'M02': './data/models\\\\M02\\\\M02_60um.npy',\n",
       " 'M03': './data/models\\\\M03\\\\M03_60um.npy',\n",
       " 'M04': './data/models\\\\M04\\\\M04_60um.npy',\n",
       " 'M05': './data/models\\\\M05\\\\M05_60um.npy',\n",
       " 'M06': './data/models\\\\M06\\\\M06_60um.npy',\n",
       " 'M08': './data/models\\\\M08\\\\M08_60um.npy',\n",
       " 'M09': './data/models\\\\M09\\\\scaled_recos.npy',\n",
       " 'M10': './data/models\\\\M10\\\\reconstruction.npy',\n",
       " 'M11': './data/models\\\\M11\\\\reconstruction.npy',\n",
       " 'M12': './data/models\\\\M12\\\\reconstruction.npy',\n",
       " 'M13': './data/models\\\\M13\\\\reconstruction.npy',\n",
       " 'M14': './data/models\\\\M14\\\\M14_60um.npy',\n",
       " 'M15': './data/models\\\\M15\\\\reconstruction.npy',\n",
       " 'M16': './data/models\\\\M16\\\\reconstruction.npy',\n",
       " 'M17': './data/models\\\\M17\\\\M17_60um.npy',\n",
       " 'M18': './data/models\\\\M18\\\\M18_60um.npy',\n",
       " 'M19': './data/models\\\\M19\\\\M19_60um.npy'}"
      ]
     },
     "execution_count": 104,
     "metadata": {},
     "output_type": "execute_result"
    }
   ],
   "source": [
    "source_dir = './data/models/'\n",
    "files = {path.split('\\\\')[1]: path for path in sorted(glob.glob(source_dir + '*/*.npy'))}\n",
    "files"
   ]
  },
  {
   "cell_type": "code",
   "execution_count": 105,
   "metadata": {},
   "outputs": [
    {
     "name": "stdout",
     "output_type": "stream",
     "text": [
      "(1147, 1340, 1517)\n",
      "Wall time: 6.06 s\n"
     ]
    }
   ],
   "source": [
    "%%time\n",
    "volume = np.load(files[TREE_NAME])\n",
    "print(volume.shape)\n",
    "# VolumeVisualizer(volume, binary=False).visualize()"
   ]
  },
  {
   "cell_type": "markdown",
   "metadata": {},
   "source": [
    "## Utility visualisation functions"
   ]
  },
  {
   "cell_type": "code",
   "execution_count": 106,
   "metadata": {},
   "outputs": [],
   "source": [
    "def visualize_addition(base, base_with_addition):\n",
    "    base = (base.copy() > 0).astype(np.uint8)\n",
    "    addition = (base_with_addition > 0).astype(np.uint8)\n",
    "    addition[base == 1] = 0\n",
    "    ColorMapVisualizer(base + addition * 4).visualize()\n",
    "    \n",
    "def visualize_lsd(lsd_mask):\n",
    "    ColorMapVisualizer(lsd_mask.astype(np.uint8)).visualize()\n",
    "    \n",
    "def visualize_gradient(lsd_mask):\n",
    "    ColorMapVisualizer(lsd_mask.astype(np.uint8)).visualize(gradient=True)\n",
    "    \n",
    "def visualize_mask_bin(mask):\n",
    "    VolumeVisualizer((mask > 0).astype(np.uint8), binary=True).visualize()\n",
    "    \n",
    "def visualize_mask_non_bin(mask):\n",
    "    VolumeVisualizer((mask > 0).astype(np.uint8) * 255, binary=False).visualize()\n",
    "    \n",
    "def visualize_skeleton(mask, visualize_mask=True, visualize_both_versions=False):\n",
    "    skeleton = skeletonize_3d((mask > 0).astype(np.uint8))\n",
    "    if not visualize_mask or visualize_both_versions:\n",
    "        VolumeVisualizer(skeleton, binary=True).visualize()\n",
    "    if visualize_mask or visualize_both_versions:\n",
    "        skeleton = skeleton.astype(np.uint8) * 4\n",
    "        mask = (mask > 0).astype(np.uint8) * 3\n",
    "        mask[skeleton != 0] = 0\n",
    "        ColorMapVisualizer(skeleton + mask).visualize()\n",
    "\n",
    "def visualize_ultimate(lsd, base_mask):\n",
    "    visualize_lsd(lsd)\n",
    "    visualize_mask_non_bin(lsd)\n",
    "    visualize_addition(base_mask, lsd)\n",
    "    visualize_skeleton(lsd, visualize_mask=True)"
   ]
  },
  {
   "cell_type": "markdown",
   "metadata": {},
   "source": [
    "## Thresholding volume to get binary mask"
   ]
  },
  {
   "cell_type": "code",
   "execution_count": 107,
   "metadata": {},
   "outputs": [],
   "source": [
    "# VolumeVisualizer(volume, binary=False).visualize() "
   ]
  },
  {
   "cell_type": "code",
   "execution_count": 108,
   "metadata": {},
   "outputs": [],
   "source": [
    "# %%time\n",
    "# names = list(files.keys())\n",
    "# for i, name in enumerate(names):\n",
    "#     print(i+1, name)\n",
    "#     vol = np.load(files[name])\n",
    "#     print(f'{i+1}, file {name}, shape: {vol.shape}')\n",
    "#     msk = vol > 30\n",
    "#     visualize_mask_bin(msk)"
   ]
  },
  {
   "cell_type": "code",
   "execution_count": 113,
   "metadata": {},
   "outputs": [],
   "source": [
    "thresholds = {\n",
    "    'M01': 30,\n",
    "    'M09': 25,\n",
    "    'M18': 35, #??\n",
    "}\n",
    "\n",
    "# upper_bound = {\n",
    "#     'M01': 100,\n",
    "#     'M09': 40,\n",
    "# }\n",
    "\n",
    "# mask_lower_bounded = volume > thresholds.get(TREE_NAME, 38)\n",
    "# mask_upper_bounded = volume < upper_bound.get(TREE_NAME, 60)\n",
    "# mask = mask_lower_bounded * mask_upper_bounded\n",
    "\n",
    "mask = volume > thresholds.get(TREE_NAME, 25)\n",
    "# volume = None\n",
    "visualize_mask_bin(mask)"
   ]
  },
  {
   "cell_type": "code",
   "execution_count": 24,
   "metadata": {},
   "outputs": [],
   "source": [
    "visualize_mask_non_bin(mask[:-350, :, :])"
   ]
  },
  {
   "cell_type": "code",
   "execution_count": 35,
   "metadata": {},
   "outputs": [
    {
     "name": "stdout",
     "output_type": "stream",
     "text": [
      "Wall time: 6min 12s\n"
     ]
    }
   ],
   "source": [
    "# %%time\n",
    "# test = np.ones([1600, 1300, 1300])\n",
    "# kern = np.ones([5,5,5])\n",
    "# res = fftconvolve(test, kern, mode='same')"
   ]
  },
  {
   "cell_type": "code",
   "execution_count": null,
   "metadata": {},
   "outputs": [],
   "source": []
  },
  {
   "cell_type": "markdown",
   "metadata": {},
   "source": [
    "## Extracting main region "
   ]
  },
  {
   "cell_type": "code",
   "execution_count": 12,
   "metadata": {},
   "outputs": [],
   "source": [
    "def get_main_regions(binary_mask, min_size=10_000, connectivity=3):\n",
    "    labeled = measure.label(binary_mask, connectivity=connectivity)\n",
    "    region_props = measure.regionprops(labeled)\n",
    "    \n",
    "    main_regions = np.zeros(binary_mask.shape)\n",
    "    bounding_boxes = []\n",
    "    for props in region_props:\n",
    "        if props.area >= min_size:\n",
    "            bounding_boxes.append(props.bbox)\n",
    "            main_regions = np.logical_or(main_regions, labeled==props.label)\n",
    "            \n",
    "    lower_bounds = np.min(bounding_boxes, axis=0)[:3]\n",
    "    upper_bounds = np.max(bounding_boxes, axis=0)[3:]\n",
    "\n",
    "    return main_regions[\n",
    "        lower_bounds[0]:upper_bounds[0],\n",
    "        lower_bounds[1]:upper_bounds[1],\n",
    "        lower_bounds[2]:upper_bounds[2],\n",
    "    ], bounding_boxes"
   ]
  },
  {
   "cell_type": "code",
   "execution_count": 14,
   "metadata": {},
   "outputs": [
    {
     "name": "stdout",
     "output_type": "stream",
     "text": [
      "number of main regions: 1\n"
     ]
    }
   ],
   "source": [
    "main_region_min_size = {\n",
    "    'P01': 30_000,\n",
    "    'P03': 50_000,\n",
    "    'P07': 300_000,\n",
    "    'P17': 300_000,\n",
    "}\n",
    "\n",
    "main_regions, bounding_boxes = get_main_regions(mask, min_size=main_region_min_size.get(TREE_NAME, 20_000))\n",
    "print('number of main regions:', len(bounding_boxes))\n",
    "mask_main = main_regions\n",
    "# mask = None\n",
    "visualize_mask_non_bin(mask_main)"
   ]
  },
  {
   "cell_type": "code",
   "execution_count": 25,
   "metadata": {},
   "outputs": [],
   "source": [
    "mask2 = mask[:-370, :, :]\n",
    "# visualize_mask_bin(mask2)"
   ]
  },
  {
   "cell_type": "code",
   "execution_count": 26,
   "metadata": {},
   "outputs": [
    {
     "name": "stdout",
     "output_type": "stream",
     "text": [
      "Wall time: 2min 40s\n"
     ]
    }
   ],
   "source": [
    "%%time\n",
    "skeleton = (skeletonize_3d(mask2) > 0).astype(np.uint8)"
   ]
  },
  {
   "cell_type": "code",
   "execution_count": 27,
   "metadata": {},
   "outputs": [],
   "source": [
    "visualize_mask_bin(skeleton)"
   ]
  },
  {
   "cell_type": "code",
   "execution_count": null,
   "metadata": {},
   "outputs": [],
   "source": [
    "mask "
   ]
  },
  {
   "cell_type": "markdown",
   "metadata": {},
   "source": [
    "# Creating reconstruction using resolution scaling"
   ]
  },
  {
   "cell_type": "code",
   "execution_count": 110,
   "metadata": {},
   "outputs": [],
   "source": [
    "def scale_mask(mask, scale, order=0):\n",
    "    return zoom(mask, scale, order=order)\n",
    "    \n",
    "def verify_mask(mask):\n",
    "    regions_count = np.max(measure.label(mask, connectivity=3))\n",
    "    print(\"one-piece mask\" if regions_count == 1 else f\"scattered mask, number of regions: {regions_count}\")"
   ]
  },
  {
   "cell_type": "markdown",
   "metadata": {},
   "source": [
    "### Creating reconstruction of scaled tree"
   ]
  },
  {
   "cell_type": "code",
   "execution_count": 114,
   "metadata": {},
   "outputs": [
    {
     "name": "stdout",
     "output_type": "stream",
     "text": [
      "scaled volume shape (574, 670, 758)\n",
      "number of s main regions: 1\n",
      "one-piece mask\n",
      "Wall time: 12.6 s\n"
     ]
    }
   ],
   "source": [
    "%%time\n",
    "scales = {\n",
    "    'P01': 0.5,\n",
    "    'P02': 0.7,\n",
    "    'P06': 0.8,\n",
    "    'P09': 0.8,\n",
    "    'P11': 0.7,\n",
    "    'P13': 0.8,\n",
    "    'P17': 0.8,\n",
    "    'P27': 0.8,\n",
    "    'P28': 0.8\n",
    "}\n",
    "s_main_region_min_size = {\n",
    "    'P01': 10_000,\n",
    "    'P17': 50_000,\n",
    "}\n",
    "\n",
    "s_volume = zoom(volume, scales.get(TREE_NAME, 0.5), order=0)#load_volume(files[TREE_NAME], scale=scales.get(TREE_NAME, 0.5))\n",
    "print('scaled volume shape', s_volume.shape)\n",
    "s_mask = s_volume > thresholds.get(TREE_NAME, 25)\n",
    "s_volume = None\n",
    "s_main_regions, s_bounding_boxes = get_main_regions(s_mask, min_size=s_main_region_min_size.get(TREE_NAME, 10_000))\n",
    "print('number of s main regions:', len(s_bounding_boxes))\n",
    "s_mask_main = s_main_regions\n",
    "s_mask = None\n",
    "s_main_regions = None\n",
    "verify_mask(s_mask_main)"
   ]
  },
  {
   "cell_type": "code",
   "execution_count": 115,
   "metadata": {},
   "outputs": [],
   "source": [
    "visualize_mask_non_bin(s_mask_main)"
   ]
  },
  {
   "cell_type": "code",
   "execution_count": 116,
   "metadata": {},
   "outputs": [],
   "source": [
    "mask_2 = s_mask_main[:-125, :, :]\n",
    "visualize_mask_bin(mask_2)"
   ]
  },
  {
   "cell_type": "code",
   "execution_count": 119,
   "metadata": {},
   "outputs": [],
   "source": [
    "s_mask_main = mask_2"
   ]
  },
  {
   "cell_type": "code",
   "execution_count": 117,
   "metadata": {},
   "outputs": [],
   "source": [
    "visualize_skeleton(mask_2)"
   ]
  },
  {
   "cell_type": "code",
   "execution_count": 120,
   "metadata": {},
   "outputs": [],
   "source": [
    "padded_reco = np.pad(s_mask_main, 1) # padding reconstruction to avoid padding later\n",
    "np.save(source_dir + TREE_NAME + '/reconstruction', padded_reco)"
   ]
  },
  {
   "cell_type": "code",
   "execution_count": null,
   "metadata": {},
   "outputs": [],
   "source": []
  },
  {
   "cell_type": "code",
   "execution_count": 37,
   "metadata": {},
   "outputs": [],
   "source": [
    "def spherical_kernel(outer_radius, thickness=1, filled=True):    \n",
    "    outer_sphere = morphology.ball(radius=outer_radius)\n",
    "    if filled:\n",
    "        return outer_sphere\n",
    "    \n",
    "    thickness = min(thickness, outer_radius)\n",
    "    \n",
    "    inner_radius = outer_radius - thickness\n",
    "    inner_sphere = morphology.ball(radius=inner_radius)\n",
    "    \n",
    "    begin = outer_radius - inner_radius\n",
    "    end = begin + inner_sphere.shape[0]\n",
    "    outer_sphere[begin:end, begin:end, begin:end] -= inner_sphere\n",
    "    return outer_sphere\n",
    "\n",
    "def convolve_with_ball(img, ball_radius, dtype=np.uint16, normalize=True, fft=True):\n",
    "    kernel = spherical_kernel(ball_radius, filled=True)\n",
    "    if fft:\n",
    "        convolved = fftconvolve(img.astype(dtype), kernel.astype(dtype), mode='same')\n",
    "    else:\n",
    "        convolved = signal.convolve(img.astype(dtype), kernel.astype(dtype), mode='same')\n",
    "    \n",
    "    if not normalize:\n",
    "        return convolved\n",
    "    \n",
    "    return (convolved / kernel.sum()).astype(np.float16)\n",
    "\n",
    "def calculate_reconstruction(mask, kernel_sizes=[10, 9, 8], fill_threshold=0.5, iters=1, conv_dtype=np.uint16, fft=True):\n",
    "    kernel_sizes_maps = []\n",
    "    mask = mask.astype(np.uint8)\n",
    "    \n",
    "    for i in range(iters):\n",
    "        kernel_size_map = np.zeros(mask.shape, dtype=np.uint8)\n",
    "\n",
    "        for kernel_size in kernel_sizes:\n",
    "            fill_percentage = convolve_with_ball(mask, kernel_size, dtype=conv_dtype, normalize=True, fft=fft)\n",
    "            \n",
    "            above_threshold_fill_indices = fill_percentage > fill_threshold\n",
    "            kernel_size_map[above_threshold_fill_indices] = kernel_size + 1\n",
    "\n",
    "            mask[above_threshold_fill_indices] = 1\n",
    "            \n",
    "            print(f'Iteration {i + 1} kernel {kernel_size} done')\n",
    "\n",
    "        kernel_sizes_maps.append(kernel_size_map)\n",
    "        print(f'Iteration {i + 1} ended successfully')\n",
    "\n",
    "    return kernel_sizes_maps"
   ]
  },
  {
   "cell_type": "code",
   "execution_count": 39,
   "metadata": {
    "scrolled": true
   },
   "outputs": [
    {
     "name": "stdout",
     "output_type": "stream",
     "text": [
      "Wall time: 0 ns\n"
     ]
    }
   ],
   "source": [
    "%%time\n",
    "\n",
    "s_kernel_sizes = {\n",
    "    'P01': range(0, 14),\n",
    "    'P02': range(0, 14),\n",
    "#     'P03': range(0, 13),\n",
    "#     'P04': range(0, 13),\n",
    "#     'P05': range(0, 13),\n",
    "#     'P06': range(0, 13),\n",
    "    'P07': range(0, 14),\n",
    "    'P09': range(0, 12),\n",
    "    'P10': range(0, 12),\n",
    "#     'P11': range(0, 13),\n",
    "#     'P12': range(0, 13),\n",
    "    'P13': range(0, 16),\n",
    "#     'P14': range(0, 13),\n",
    "    'P15': range(0, 14),\n",
    "#     'P16': range(0, 13),\n",
    "    'P17': range(0, 14),\n",
    "#     'P18': range(0, 13),\n",
    "    'P19': range(0, 12),\n",
    "#     'P20': range(0, 13),\n",
    "    'P21': range(0, 12),\n",
    "    'P23': range(0, 14),\n",
    "#     'P24': range(0, 13),\n",
    "#     'P25': range(0, 13),\n",
    "#     'P26': range(0, 13),\n",
    "#     'P27': range(0, 13)\n",
    "    'P28': range(0, 14),\n",
    "}\n",
    "\n",
    "s_number_of_iterations = {\n",
    "    'P01': 7,\n",
    "    'P02': 1,\n",
    "    'P03': 10,\n",
    "    'P04': 2,\n",
    "    'P05': 3,\n",
    "    'P06': 5,\n",
    "    'P07': 4,\n",
    "    'P09': 6,\n",
    "    'P10': 5,\n",
    "    'P11': 4, \n",
    "    'P12': 3,\n",
    "    'P13': 3,\n",
    "    'P14': 2,\n",
    "    'P15': 3,\n",
    "    'P16': 5,\n",
    "    'P17': 10,\n",
    "    'P18': 4,\n",
    "    'P19': 2,\n",
    "    'P20': 1,\n",
    "    'P21': 3,\n",
    "    'P23': 5,\n",
    "    'P24': 2,\n",
    "    'P25': 6,\n",
    "    'P26': 6,\n",
    "    'P27': 1,\n",
    "    'P28': 1,\n",
    "    'P30': 1,\n",
    "    'P31': 3,\n",
    "    'P32': 3,\n",
    "    'P33': 3,\n",
    "}\n",
    "\n",
    "# s_recos = calculate_reconstruction(s_mask_main, \n",
    "#                                    kernel_sizes=s_kernel_sizes.get(TREE_NAME, range(0, 13)), \n",
    "#                                    iters=s_number_of_iterations.get(TREE_NAME, 3))"
   ]
  },
  {
   "cell_type": "code",
   "execution_count": 40,
   "metadata": {},
   "outputs": [
    {
     "name": "stdout",
     "output_type": "stream",
     "text": [
      "Wall time: 0 ns\n",
      "Iteration 1 kernel 0 done\n",
      "Iteration 1 kernel 1 done\n",
      "Iteration 1 kernel 2 done\n",
      "Iteration 1 kernel 3 done\n",
      "Iteration 1 kernel 4 done\n",
      "Iteration 1 kernel 5 done\n",
      "Iteration 1 kernel 6 done\n",
      "Iteration 1 kernel 7 done\n",
      "Iteration 1 kernel 8 done\n",
      "Iteration 1 kernel 9 done\n",
      "Iteration 1 kernel 10 done\n",
      "Iteration 1 kernel 11 done\n",
      "Iteration 1 kernel 12 done\n",
      "Iteration 1 ended successfully\n"
     ]
    }
   ],
   "source": [
    "%%time\n",
    "s_recos = calculate_reconstruction(s_mask_main, \n",
    "                                   kernel_sizes=s_kernel_sizes.get(TREE_NAME, range(0, 13)), \n",
    "                                   iters=s_number_of_iterations.get(TREE_NAME, 1))"
   ]
  },
  {
   "cell_type": "code",
   "execution_count": 53,
   "metadata": {},
   "outputs": [
    {
     "name": "stdout",
     "output_type": "stream",
     "text": [
      "Iteration 1 kernel 0 done\n",
      "Iteration 1 kernel 1 done\n",
      "Iteration 1 kernel 2 done\n",
      "Iteration 1 kernel 3 done\n",
      "Iteration 1 kernel 4 done\n",
      "Iteration 1 kernel 5 done\n",
      "Iteration 1 kernel 6 done\n",
      "Iteration 1 kernel 7 done\n",
      "Iteration 1 kernel 8 done\n",
      "Iteration 1 kernel 9 done\n",
      "Iteration 1 kernel 10 done\n",
      "Iteration 1 kernel 11 done\n",
      "Iteration 1 kernel 12 done\n",
      "Iteration 1 ended successfully\n"
     ]
    }
   ],
   "source": [
    "xd2  = calculate_reconstruction(xd[0], \n",
    "                                   kernel_sizes=s_kernel_sizes.get(TREE_NAME, range(0, 13)), \n",
    "                                   iters=s_number_of_iterations.get(TREE_NAME, 1))"
   ]
  },
  {
   "cell_type": "code",
   "execution_count": 54,
   "metadata": {},
   "outputs": [],
   "source": [
    "visualize_skeleton(xd2[0])"
   ]
  },
  {
   "cell_type": "code",
   "execution_count": 17,
   "metadata": {},
   "outputs": [],
   "source": [
    "# s_recos = np.load(source_dir + TREE_NAME + '/scaled_recos.npy')"
   ]
  },
  {
   "cell_type": "code",
   "execution_count": 47,
   "metadata": {},
   "outputs": [],
   "source": [
    "np.save(source_dir + TREE_NAME + '/scaled_recos', np.array(s_recos))\n",
    "# s_recos = np.load(source_dir + TREE_NAME + '/scaled_recos.npy')"
   ]
  },
  {
   "cell_type": "code",
   "execution_count": 41,
   "metadata": {},
   "outputs": [],
   "source": [
    "s_reco = s_recos[-1] > 0"
   ]
  },
  {
   "cell_type": "markdown",
   "metadata": {},
   "source": [
    "### Scaled reco verification"
   ]
  },
  {
   "cell_type": "code",
   "execution_count": 20,
   "metadata": {},
   "outputs": [],
   "source": [
    "visualize_mask_non_bin(s_reco)"
   ]
  },
  {
   "cell_type": "code",
   "execution_count": 42,
   "metadata": {},
   "outputs": [],
   "source": [
    "visualize_skeleton(s_reco)"
   ]
  },
  {
   "cell_type": "code",
   "execution_count": 48,
   "metadata": {},
   "outputs": [],
   "source": [
    "visualize_addition(s_mask_main, s_reco)"
   ]
  },
  {
   "cell_type": "code",
   "execution_count": 23,
   "metadata": {},
   "outputs": [
    {
     "name": "stdout",
     "output_type": "stream",
     "text": [
      "one-piece mask\n"
     ]
    }
   ],
   "source": [
    "verify_mask(s_reco)"
   ]
  },
  {
   "cell_type": "code",
   "execution_count": null,
   "metadata": {},
   "outputs": [],
   "source": []
  },
  {
   "cell_type": "code",
   "execution_count": 92,
   "metadata": {},
   "outputs": [],
   "source": [
    "padded_reco = np.pad(s_mask_main, 1) # padding reconstruction to avoid padding later\n",
    "np.save(source_dir + TREE_NAME + '/reconstruction', padded_reco)"
   ]
  },
  {
   "cell_type": "markdown",
   "metadata": {},
   "source": [
    "### Scaling up and trimming reconstruction of scaled tree"
   ]
  },
  {
   "cell_type": "code",
   "execution_count": 38,
   "metadata": {},
   "outputs": [],
   "source": [
    "def upscale_reconstruction(s_reco, scale):\n",
    "    upscale = 1 / scale\n",
    "    u_reco = scale_mask(s_reco, upscale, order=3)\n",
    "    return u_reco"
   ]
  },
  {
   "cell_type": "code",
   "execution_count": 39,
   "metadata": {},
   "outputs": [
    {
     "name": "stdout",
     "output_type": "stream",
     "text": [
      "Wall time: 5min 28s\n"
     ]
    }
   ],
   "source": [
    "%%time\n",
    "u_reco = upscale_reconstruction(s_reco, scale=scales.get(TREE_NAME, 0.5))"
   ]
  },
  {
   "cell_type": "code",
   "execution_count": 40,
   "metadata": {},
   "outputs": [
    {
     "name": "stdout",
     "output_type": "stream",
     "text": [
      "mask_main shape (1044, 1000, 1191) u_reco shape (1044, 1000, 1192)\n",
      "final shape [1044 1000 1191]\n"
     ]
    }
   ],
   "source": [
    "shape = np.min([mask_main.shape, u_reco.shape], axis=0)\n",
    "print('mask_main shape', mask_main.shape, 'u_reco shape', u_reco.shape)\n",
    "print('final shape', shape)\n",
    "mask_main_r = mask_main[:shape[0], :shape[1], :shape[2]]\n",
    "u_reco_r = u_reco[:shape[0], :shape[1], :shape[2]]"
   ]
  },
  {
   "cell_type": "code",
   "execution_count": 33,
   "metadata": {},
   "outputs": [
    {
     "data": {
      "text/plain": [
       "(948, 482, 1770)"
      ]
     },
     "execution_count": 33,
     "metadata": {},
     "output_type": "execute_result"
    }
   ],
   "source": [
    "u_reco_r = u_reco[:shape[0], :shape[1], 14:]\n",
    "u_reco_r.shape\n",
    "\n",
    "# mask_main_r = mask_main[:shape[0], :shape[1], 14:]\n",
    "# mask_main_r.shape"
   ]
  },
  {
   "cell_type": "code",
   "execution_count": 41,
   "metadata": {
    "scrolled": true
   },
   "outputs": [
    {
     "name": "stdout",
     "output_type": "stream",
     "text": [
      "scattered mask, number of regions: 40\n",
      "number of main regions: 1\n"
     ]
    }
   ],
   "source": [
    "joint_reco = np.logical_or(mask_main_r, u_reco_r)\n",
    "verify_mask(joint_reco)\n",
    "main_regions, bounding_boxes = get_main_regions(joint_reco, min_size=main_region_min_size.get(TREE_NAME, 20_000))\n",
    "print('number of main regions:', len(bounding_boxes))\n",
    "new_joint_reco = np.logical_or(mask_main_r, main_regions)\n",
    "# visualize_addition(mask_main_r, new_joint_reco)"
   ]
  },
  {
   "cell_type": "code",
   "execution_count": 42,
   "metadata": {},
   "outputs": [
    {
     "data": {
      "text/plain": [
       "(10235963, 10235877, 10235877)"
      ]
     },
     "execution_count": 42,
     "metadata": {},
     "output_type": "execute_result"
    }
   ],
   "source": [
    "np.sum(joint_reco), np.sum(main_regions), np.sum(new_joint_reco)"
   ]
  },
  {
   "cell_type": "code",
   "execution_count": 43,
   "metadata": {},
   "outputs": [],
   "source": [
    "visualize_addition(mask_main_r, new_joint_reco)"
   ]
  },
  {
   "cell_type": "markdown",
   "metadata": {},
   "source": [
    "### Fine tuning full res reconstruction"
   ]
  },
  {
   "cell_type": "code",
   "execution_count": 37,
   "metadata": {
    "scrolled": false
   },
   "outputs": [
    {
     "name": "stdout",
     "output_type": "stream",
     "text": [
      "Iteration 1 kernel 0 done\n",
      "Iteration 1 kernel 1 done\n",
      "Iteration 1 kernel 2 done\n",
      "Iteration 1 kernel 3 done\n",
      "Iteration 1 kernel 4 done\n",
      "Iteration 1 kernel 5 done\n",
      "Iteration 1 kernel 6 done\n",
      "Iteration 1 kernel 7 done\n",
      "Iteration 1 kernel 8 done\n",
      "Iteration 1 kernel 9 done\n",
      "Iteration 1 kernel 10 done\n",
      "Iteration 1 kernel 11 done\n",
      "Iteration 1 kernel 12 done\n",
      "Iteration 1 kernel 13 done\n",
      "Iteration 1 kernel 14 done\n",
      "Iteration 1 kernel 15 done\n",
      "Iteration 1 kernel 16 done\n",
      "Iteration 1 kernel 17 done\n",
      "Iteration 1 kernel 18 done\n",
      "Iteration 1 kernel 19 done\n",
      "Iteration 1 kernel 20 done\n",
      "Iteration 1 kernel 21 done\n",
      "Iteration 1 kernel 22 done\n",
      "Iteration 1 kernel 23 done\n",
      "Iteration 1 kernel 24 done\n",
      "Iteration 1 kernel 25 done\n",
      "Iteration 1 ended successfully\n",
      "Wall time: 42min 48s\n"
     ]
    }
   ],
   "source": [
    "%%time\n",
    "\n",
    "ft_kernel_sizes = {\n",
    "    'P01': range(0, 28),\n",
    "    'P02': range(0, 28),\n",
    "#     'P03': range(0, 26),\n",
    "#     'P04': range(0, 26),\n",
    "#     'P05': range(0, 26),\n",
    "#     'P06': range(0, 26),\n",
    "#     'P07': range(0, 26),\n",
    "    'P09': range(0, 24),\n",
    "    'P10': range(0, 24),\n",
    "#     'P11': range(0, 26),\n",
    "#     'P12': range(0, 26),\n",
    "#     'P13': range(0, 26),\n",
    "#     'P14': range(0, 26),\n",
    "    'P15': range(0, 24),\n",
    "    'P16': range(0, 24),\n",
    "    'P17': range(0, 25),\n",
    "#     'P18': range(0, 26),\n",
    "    'P19': range(0, 24),\n",
    "#     'P20': range(0, 26),\n",
    "    'P21': range(0, 24),\n",
    "    'P23': range(0, 28),\n",
    "#     'P24': range(0, 26),\n",
    "#     'P25': range(0, 26),\n",
    "#     'P26': range(0, 26),\n",
    "#     'P27': range(0, 26),\n",
    "    'P28': range(0, 15),\n",
    "}\n",
    "\n",
    "ft_number_of_iterations = {\n",
    "    'P01': 1,\n",
    "    'P19': 2,\n",
    "    'P20': 2,\n",
    "    'P30': 3,\n",
    "    'P31': 2,\n",
    "    'P33': 2,\n",
    "}\n",
    "\n",
    "ft_recos = calculate_reconstruction(new_joint_reco, \n",
    "                                    kernel_sizes=ft_kernel_sizes.get(TREE_NAME, range(0, 26)), \n",
    "                                    iters=ft_number_of_iterations.get(TREE_NAME, 1))"
   ]
  },
  {
   "cell_type": "code",
   "execution_count": 38,
   "metadata": {},
   "outputs": [],
   "source": [
    "reco = ft_recos[-1]"
   ]
  },
  {
   "cell_type": "markdown",
   "metadata": {},
   "source": [
    "## Verify and save reconstruction"
   ]
  },
  {
   "cell_type": "code",
   "execution_count": 40,
   "metadata": {},
   "outputs": [],
   "source": [
    "visualize_mask_non_bin(reco)\n",
    "visualize_skeleton(reco)\n",
    "visualize_addition(mask_main_r, reco) "
   ]
  },
  {
   "cell_type": "code",
   "execution_count": 39,
   "metadata": {},
   "outputs": [],
   "source": [
    "padded_reco = np.pad(reco, 1) # padding reconstruction to avoid padding later\n",
    "np.save(source_dir + TREE_NAME + '/reconstruction', padded_reco)"
   ]
  },
  {
   "cell_type": "code",
   "execution_count": null,
   "metadata": {},
   "outputs": [],
   "source": []
  },
  {
   "cell_type": "markdown",
   "metadata": {},
   "source": [
    "## Verifying obtained reconstruction "
   ]
  },
  {
   "cell_type": "code",
   "execution_count": null,
   "metadata": {},
   "outputs": [],
   "source": [
    "# if the reconstruction looks bad try using results of previous iterations\n",
    "# if the skelecon still has mistletoes try increasing number of iterations\n",
    "reconstruction = (lsd_trees[-1] > 0).astype(np.uint8)\n",
    "visualize_mask_non_bin(reconstruction) # check for holes\n",
    "visualize_skeleton(reconstruction) # check for mistletoes\n",
    "visualize_addition(mask_main, reconstruction) # check for anomalies"
   ]
  }
 ],
 "metadata": {
  "kernelspec": {
   "display_name": "Python 3",
   "language": "python",
   "name": "python3"
  },
  "language_info": {
   "codemirror_mode": {
    "name": "ipython",
    "version": 3
   },
   "file_extension": ".py",
   "mimetype": "text/x-python",
   "name": "python",
   "nbconvert_exporter": "python",
   "pygments_lexer": "ipython3",
   "version": "3.7.9"
  }
 },
 "nbformat": 4,
 "nbformat_minor": 4
}
