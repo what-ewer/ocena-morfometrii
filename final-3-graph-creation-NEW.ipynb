{
 "cells": [
  {
   "cell_type": "code",
   "execution_count": 1,
   "metadata": {},
   "outputs": [],
   "source": [
    "import numpy as np\n",
    "import glob\n",
    "import matplotlib.pyplot as plt\n",
    "from skimage import measure, segmentation, feature\n",
    "from vis_utils import load_volume, VolumeVisualizer, ColorMapVisualizer\n",
    "from scipy.ndimage import zoom\n",
    "from skimage.morphology import skeletonize_3d, binary_dilation\n",
    "from skimage import filters, morphology\n",
    "from scipy import signal\n",
    "from skimage.filters import frangi, sato\n",
    "from skimage.draw import line_nd\n",
    "from PIL import Image\n",
    "import pickle\n",
    "from queue import PriorityQueue"
   ]
  },
  {
   "cell_type": "code",
   "execution_count": 2,
   "metadata": {},
   "outputs": [],
   "source": [
    "TREE_NAME = 'P21'"
   ]
  },
  {
   "cell_type": "markdown",
   "metadata": {},
   "source": [
    "## Loading skeleton and skeleton_thickness"
   ]
  },
  {
   "cell_type": "code",
   "execution_count": 3,
   "metadata": {
    "scrolled": true
   },
   "outputs": [],
   "source": [
    "source_dir = './data/'\n",
    "central_line = np.load(source_dir + TREE_NAME + '/central-line.npy')\n",
    "central_line_radii = np.load(source_dir + TREE_NAME + '/central-line-radii.npy')\n",
    "reconstruction = np.load(source_dir + TREE_NAME + '/reconstruction.npy')"
   ]
  },
  {
   "cell_type": "markdown",
   "metadata": {},
   "source": [
    "## Utility visualisation functions"
   ]
  },
  {
   "cell_type": "code",
   "execution_count": 4,
   "metadata": {},
   "outputs": [],
   "source": [
    "def visualize_addition(base, base_with_addition):\n",
    "    base = (base.copy() > 0).astype(np.uint8)\n",
    "    addition = (base_with_addition > 0).astype(np.uint8)\n",
    "    addition[base == 1] = 0\n",
    "    ColorMapVisualizer(base + addition * 4).visualize()\n",
    "    \n",
    "def visualize_lsd(lsd_mask):\n",
    "    ColorMapVisualizer(lsd_mask.astype(np.uint8)).visualize()\n",
    "    \n",
    "def visualize_gradient(lsd_mask):\n",
    "    ColorMapVisualizer(lsd_mask.astype(np.uint8)).visualize(gradient=True)\n",
    "    \n",
    "def visualize_mask_bin(mask):\n",
    "    VolumeVisualizer((mask > 0).astype(np.uint8), binary=True).visualize()\n",
    "    \n",
    "def visualize_mask_non_bin(mask):\n",
    "    VolumeVisualizer((mask > 0).astype(np.uint8) * 255, binary=False).visualize()\n",
    "    \n",
    "def visualize_skeleton(mask, visualize_mask=True, visualize_both_versions=False):\n",
    "    skeleton = skeletonize_3d((mask > 0).astype(np.uint8))\n",
    "    if not visualize_mask or visualize_both_versions:\n",
    "        VolumeVisualizer(skeleton, binary=True).visualize()\n",
    "    if visualize_mask or visualize_both_versions:\n",
    "        skeleton = skeleton.astype(np.uint8) * 4\n",
    "        mask = (mask > 0).astype(np.uint8) * 3\n",
    "        mask[skeleton != 0] = 0\n",
    "        ColorMapVisualizer(skeleton + mask).visualize()\n",
    "\n",
    "def visualize_ultimate(lsd, base_mask):\n",
    "    visualize_lsd(lsd)\n",
    "    visualize_mask_non_bin(lsd)\n",
    "    visualize_addition(base_mask, lsd)\n",
    "    visualize_skeleton(lsd, visualize_mask=True)"
   ]
  },
  {
   "cell_type": "code",
   "execution_count": 5,
   "metadata": {},
   "outputs": [],
   "source": [
    "# visualize_mask_bin(reconstruction)\n",
    "# visualize_mask_bin(central_line)"
   ]
  },
  {
   "cell_type": "markdown",
   "metadata": {},
   "source": [
    "## Resolving nodes mask"
   ]
  },
  {
   "cell_type": "markdown",
   "metadata": {},
   "source": [
    "### Resolving leaves mask"
   ]
  },
  {
   "cell_type": "code",
   "execution_count": 6,
   "metadata": {},
   "outputs": [],
   "source": [
    "def trim_skeleton(skeleton):   \n",
    "    new_skeleton = np.zeros(skeleton.shape)\n",
    "    skeleton_voxels = np.argwhere(skeleton)\n",
    "    \n",
    "    for voxel in skeleton_voxels:\n",
    "        x, y, z = tuple(voxel)\n",
    "        neighbours_count = 0\n",
    "        \n",
    "        for dx in [-1, 0, 1]:\n",
    "            for dy in [-1, 0, 1]:\n",
    "                for dz in [-1, 0, 1]:\n",
    "                    if dx == dy == dz == 0:\n",
    "                        continue\n",
    "                    \n",
    "                    neighbour_x = x + dx\n",
    "                    neighbour_y = y + dy\n",
    "                    neighbour_z = z + dz\n",
    "                    if skeleton[neighbour_x, neighbour_y, neighbour_z] > 0:\n",
    "                        neighbours_count += 1\n",
    "                        \n",
    "        if neighbours_count > 1:\n",
    "            new_skeleton[x, y, z] = 1\n",
    "                        \n",
    "    return new_skeleton.astype(np.uint8)\n",
    "\n",
    "\n",
    "def mark_leaves(skeleton):\n",
    "    trimmed = trim_skeleton(skeleton)\n",
    "    leaves = skeleton - trimmed\n",
    "    return leaves"
   ]
  },
  {
   "cell_type": "code",
   "execution_count": 7,
   "metadata": {},
   "outputs": [
    {
     "name": "stdout",
     "output_type": "stream",
     "text": [
      "Wall time: 18.3 s\n"
     ]
    }
   ],
   "source": [
    "%%time\n",
    "leaves_mask = mark_leaves(central_line)"
   ]
  },
  {
   "cell_type": "markdown",
   "metadata": {},
   "source": [
    "### Resolving potential bifurcations mask"
   ]
  },
  {
   "cell_type": "code",
   "execution_count": 8,
   "metadata": {},
   "outputs": [],
   "source": [
    "def mark_bifurcation_regions(skeleton):\n",
    "    padded_skeleton = np.pad(skeleton, 1)\n",
    "    bifurcations_map = np.zeros(padded_skeleton.shape)\n",
    "    \n",
    "    for skeleton_voxel in np.argwhere(padded_skeleton > 0):\n",
    "        x, y, z = tuple(skeleton_voxel)\n",
    "        kernel_radius = 1\n",
    "        kernel = np.ones((3, 3, 3))\n",
    "        kernel[1, 1, 1] = 0\n",
    "        \n",
    "        skeleton_slice = padded_skeleton[\n",
    "            x-kernel_radius:x+kernel_radius + 1,\n",
    "            y-kernel_radius:y+kernel_radius + 1,\n",
    "            z-kernel_radius:z+kernel_radius + 1\n",
    "        ]\n",
    "        \n",
    "        intersections = (skeleton_slice > 0) * kernel\n",
    "        bifurcations_map[x, y, z] = np.sum(intersections)\n",
    "        \n",
    "    return (bifurcations_map[1:-1, 1:-1, 1:-1] > 2).astype(np.uint8)"
   ]
  },
  {
   "cell_type": "code",
   "execution_count": 9,
   "metadata": {},
   "outputs": [
    {
     "name": "stdout",
     "output_type": "stream",
     "text": [
      "Wall time: 18.2 s\n"
     ]
    }
   ],
   "source": [
    "%%time\n",
    "potential_bifurcations_mask = mark_bifurcation_regions(central_line)"
   ]
  },
  {
   "cell_type": "markdown",
   "metadata": {},
   "source": [
    "### Combining masks to resolve potential nodes mask"
   ]
  },
  {
   "cell_type": "code",
   "execution_count": 10,
   "metadata": {},
   "outputs": [],
   "source": [
    "potential_nodes_mask = ((potential_bifurcations_mask + leaves_mask) > 0).astype(np.uint8)"
   ]
  },
  {
   "cell_type": "code",
   "execution_count": 11,
   "metadata": {},
   "outputs": [],
   "source": [
    "# visualize_addition(potential_nodes_mask, central_line)"
   ]
  },
  {
   "cell_type": "markdown",
   "metadata": {},
   "source": [
    "## Constructing graph"
   ]
  },
  {
   "cell_type": "code",
   "execution_count": 12,
   "metadata": {},
   "outputs": [],
   "source": [
    "class Node:\n",
    "    def __init__(self, coords):\n",
    "        self.coords = coords\n",
    "        self.edges = []\n",
    "        self.data = {}\n",
    "            \n",
    "    def add_edge(self, edge):\n",
    "        self.edges.append(edge)\n",
    "        \n",
    "    def get_neighbours(self):\n",
    "        return [e.node_a if e.node_a.coords != self.coords else e.node_b for e in self.edges]\n",
    "    \n",
    "    def copy_without_edges(self):\n",
    "        copied_node = Node(self.coords)\n",
    "        copied_node.data = self.data\n",
    "        return copied_node\n",
    "    \n",
    "    def __setitem__(self, key, value):\n",
    "        self.data[key] = value\n",
    "    \n",
    "    def __getitem__(self, key):\n",
    "        return self.data[key]\n",
    "    \n",
    "    def __hash__(self):\n",
    "        return hash(self.coords)\n",
    "    \n",
    "    def __repr__(self):\n",
    "        return f'Node {str(self.coords)}'\n",
    "        \n",
    "        \n",
    "class Edge:\n",
    "    def __init__(self, node_a, node_b):\n",
    "        self.node_a = node_a\n",
    "        self.node_b = node_b\n",
    "        self.data = {}\n",
    "        \n",
    "    def __setitem__(self, key, value):\n",
    "        self.data[key] = value\n",
    "    \n",
    "    def __getitem__(self, key):\n",
    "        return self.data[key]\n",
    "    \n",
    "    def __repr__(self):\n",
    "        return f'Edge {self.node_a.coords} -> {self.node_b.coords}'"
   ]
  },
  {
   "cell_type": "code",
   "execution_count": 13,
   "metadata": {},
   "outputs": [],
   "source": [
    "def construct_graph(skeleton, nodes_mask, skeleton_thickness):\n",
    "    nodes_labels = measure.label(nodes_mask)\n",
    "    nodes_props = measure.regionprops(nodes_labels)\n",
    "    print('nodes found (regions on nodes mask):', nodes_labels.max())\n",
    "    voxel_to_node = dict()\n",
    "    \n",
    "    for props in nodes_props:\n",
    "        if props.label < 1:\n",
    "            continue\n",
    "            \n",
    "        node = Node(tuple(props.coords[0]))\n",
    "        node['voxels'] = props.coords\n",
    "        node['radius'] = skeleton_thickness[tuple(props.coords[0])]\n",
    "        \n",
    "        for c in props.coords:\n",
    "            voxel_to_node[tuple(c)] = node\n",
    "            \n",
    "    edges_mask = skeleton - nodes_mask\n",
    "    edges_labels = measure.label(edges_mask > 0)\n",
    "    print('edges found:', edges_labels.max())\n",
    "    \n",
    "    visited = np.zeros(skeleton.shape, dtype=np.bool)\n",
    "    \n",
    "    def find_touching_nodes(source_voxel):\n",
    "        touching_nodes = set()\n",
    "        queue = [source_voxel]\n",
    "        while len(queue) > 0:\n",
    "            x, y, z = queue.pop(0)\n",
    "            \n",
    "            for dx in [-1, 0, 1]:\n",
    "                for dy in [-1, 0, 1]:\n",
    "                    for dz in [-1, 0, 1]:\n",
    "                        if dx == dy == dz == 0:\n",
    "                            continue\n",
    "\n",
    "                        neighbour_x = x + dx\n",
    "                        neighbour_y = y + dy\n",
    "                        neighbour_z = z + dz\n",
    "                        if visited[neighbour_x, neighbour_y, neighbour_z]:\n",
    "                            continue\n",
    "                            \n",
    "                        potential_node = voxel_to_node.get((neighbour_x, neighbour_y, neighbour_z))\n",
    "                        if potential_node is not None:\n",
    "                            touching_nodes.add(potential_node)\n",
    "\n",
    "                        if edges_mask[neighbour_x, neighbour_y, neighbour_z] == 1:\n",
    "                            queue.append((neighbour_x, neighbour_y, neighbour_z))\n",
    "                            visited[neighbour_x, neighbour_y, neighbour_z] = True\n",
    "        return list(touching_nodes)\n",
    "       \n",
    "        \n",
    "    edges_props = measure.regionprops(edges_labels)\n",
    "    \n",
    "    edges = []\n",
    "    bad_edges = []\n",
    "    bad_edges_counter = {}\n",
    "    for props in edges_props:\n",
    "        edge_voxel = props.coords[0]\n",
    "        touching_nodes = find_touching_nodes(edge_voxel)\n",
    "        if len(touching_nodes) != 2:\n",
    "            # print(f'bad edge found! touching nodes count: {len(touching_nodes)}')\n",
    "            bad_edges.append(props.coords)\n",
    "            bad_edges_counter[len(touching_nodes)] = bad_edges_counter.get(len(touching_nodes), 0) + 1\n",
    "            continue\n",
    "            \n",
    "        edge = Edge(touching_nodes[0], touching_nodes[1])\n",
    "        edge['voxels'] = props.coords\n",
    "        edges.append(edge)\n",
    "    for touching_nodes, count in bad_edges_counter.items():\n",
    "        print(f'bad edges found! {count} edges found touching {touching_nodes} nodes')\n",
    "    return edges, bad_edges, voxel_to_node"
   ]
  },
  {
   "cell_type": "code",
   "execution_count": 14,
   "metadata": {},
   "outputs": [
    {
     "name": "stdout",
     "output_type": "stream",
     "text": [
      "nodes found (regions on nodes mask): 3194\n",
      "edges found: 3324\n"
     ]
    },
    {
     "name": "stderr",
     "output_type": "stream",
     "text": [
      "<ipython-input-13-f4a374005bba>:22: DeprecationWarning: `np.bool` is a deprecated alias for the builtin `bool`. To silence this warning, use `bool` by itself. Doing this will not modify any behavior and is safe. If you specifically wanted the numpy scalar type, use `np.bool_` here.\n",
      "Deprecated in NumPy 1.20; for more details and guidance: https://numpy.org/devdocs/release/1.20.0-notes.html#deprecations\n",
      "  visited = np.zeros(skeleton.shape, dtype=np.bool)\n"
     ]
    },
    {
     "name": "stdout",
     "output_type": "stream",
     "text": [
      "bad edges found! 48 edges found touching 1 nodes\n",
      "Total number of bad edged found: 48\n",
      "Wall time: 4min 46s\n"
     ]
    }
   ],
   "source": [
    "%%time\n",
    "edges, bad_edges, voxel_to_node = construct_graph(central_line, potential_nodes_mask, central_line_radii)\n",
    "print(\"Total number of bad edged found:\", len(bad_edges))"
   ]
  },
  {
   "cell_type": "code",
   "execution_count": 15,
   "metadata": {},
   "outputs": [
    {
     "data": {
      "text/plain": [
       "4841"
      ]
     },
     "execution_count": 15,
     "metadata": {},
     "output_type": "execute_result"
    }
   ],
   "source": [
    "nodesss = list(voxel_to_node.values())\n",
    "len(nodesss)"
   ]
  },
  {
   "cell_type": "code",
   "execution_count": 16,
   "metadata": {},
   "outputs": [],
   "source": [
    "def spherical_kernel(outer_radius, thickness=1, filled=True):    \n",
    "    outer_sphere = morphology.ball(radius=outer_radius)\n",
    "    if filled:\n",
    "        return outer_sphere\n",
    "    \n",
    "    thickness = min(thickness, outer_radius)\n",
    "    \n",
    "    inner_radius = outer_radius - thickness\n",
    "    inner_sphere = morphology.ball(radius=inner_radius)\n",
    "    \n",
    "    begin = outer_radius - inner_radius\n",
    "    end = begin + inner_sphere.shape[0]\n",
    "    outer_sphere[begin:end, begin:end, begin:end] -= inner_sphere\n",
    "    return outer_sphere\n",
    "\n",
    "\n",
    "def print_kernels(image, nodes, value):\n",
    "    image = image.copy()\n",
    "    max_kernel_radius = int(max([node['radius'] for node in nodes]))\n",
    "    kernels = [spherical_kernel(radius) for radius in range(max_kernel_radius + 1)]\n",
    "    \n",
    "    padded_image = np.pad(image, max_kernel_radius)\n",
    "    kernels_image = np.zeros(padded_image.shape)\n",
    "    \n",
    "    for node in nodes:\n",
    "        x, y, z = (coord + max_kernel_radius for coord in node.coords)\n",
    "        kernel_radius = int(node['radius'])\n",
    "        kernel = kernels[kernel_radius]\n",
    "        \n",
    "        mask_slice = kernels_image[\n",
    "            x-kernel_radius:x+kernel_radius + 1,\n",
    "            y-kernel_radius:y+kernel_radius + 1,\n",
    "            z-kernel_radius:z+kernel_radius + 1\n",
    "        ]\n",
    "        \n",
    "        mask_slice[:] = np.logical_or(mask_slice, kernel)\n",
    "            \n",
    "    kernels_image = kernels_image[\n",
    "        max_kernel_radius:-max_kernel_radius,\n",
    "        max_kernel_radius:-max_kernel_radius,\n",
    "        max_kernel_radius:-max_kernel_radius\n",
    "    ]\n",
    "    \n",
    "    image[kernels_image == 1] = value\n",
    "    return image\n",
    "\n",
    "\n",
    "def draw_nodes(image, nodes, value=2):\n",
    "    nodes_image = print_kernels(image, nodes, value)\n",
    "    return nodes_image\n",
    "\n",
    "    \n",
    "def draw_edges(image, edges, value='mean_radius', interpolate=True):\n",
    "    image = image.copy()\n",
    "\n",
    "    for i, edge in enumerate(edges):\n",
    "        if type(value) == str:\n",
    "            fill_value = edge[value]\n",
    "        else:\n",
    "            fill_value = value\n",
    "        \n",
    "        if interpolate:\n",
    "            image[line_nd(edge.node_a.coords, edge.node_b.coords)] = fill_value\n",
    "        else:\n",
    "            for v in edge['voxels']:\n",
    "                image[tuple(v)] = fill_value\n",
    "        \n",
    "    return image\n",
    "\n",
    "def draw_central_line(image, dag, value=1):\n",
    "    image_with_edges = draw_edges(image, dag.edges, value=value, interpolate=False)\n",
    "    for n in dag.nodes:\n",
    "        for v in n['voxels']:\n",
    "            image_with_edges[tuple(v)] = 1\n",
    "        \n",
    "    return image_with_edges"
   ]
  },
  {
   "cell_type": "code",
   "execution_count": 17,
   "metadata": {},
   "outputs": [],
   "source": [
    "def print_kernels2(image, nodes, size, value):\n",
    "    image = image.copy()\n",
    "    max_kernel_radius = size\n",
    "    kernels = [spherical_kernel(radius) for radius in range(max_kernel_radius + 1)]\n",
    "    \n",
    "    padded_image = np.pad(image, max_kernel_radius)\n",
    "    kernels_image = np.zeros(padded_image.shape)\n",
    "    \n",
    "    for node in nodes:\n",
    "        x, y, z = (coord + max_kernel_radius for coord in node.coords)\n",
    "        kernel_radius = size\n",
    "        kernel = kernels[kernel_radius]\n",
    "        \n",
    "        mask_slice = kernels_image[\n",
    "            x-kernel_radius:x+kernel_radius + 1,\n",
    "            y-kernel_radius:y+kernel_radius + 1,\n",
    "            z-kernel_radius:z+kernel_radius + 1\n",
    "        ]\n",
    "        \n",
    "        mask_slice[:] = np.logical_or(mask_slice, kernel)\n",
    "            \n",
    "    kernels_image = kernels_image[\n",
    "        max_kernel_radius:-max_kernel_radius,\n",
    "        max_kernel_radius:-max_kernel_radius,\n",
    "        max_kernel_radius:-max_kernel_radius\n",
    "    ]\n",
    "    \n",
    "    image[kernels_image == 1] = value\n",
    "    return image\n",
    "\n",
    "\n",
    "def draw_nodes2(image, nodes, size, value=2):\n",
    "    nodes_image = print_kernels2(image, nodes, size, value)\n",
    "    return nodes_image\n",
    "\n",
    "def draw_central_line2(image, central_line, value=1):\n",
    "    image_with_edges = image.copy()\n",
    "    for v in np.argwhere(central_line):\n",
    "        image_with_edges[tuple(v)] = value\n",
    "        \n",
    "    return image_with_edges"
   ]
  },
  {
   "cell_type": "code",
   "execution_count": 18,
   "metadata": {},
   "outputs": [],
   "source": [
    "# visualization = np.zeros(central_line.shape)\n",
    "# visualization = draw_nodes2(visualization, nodesss, 3, 4)\n",
    "# visualization = draw_edges(visualization, edges, value=1)\n",
    "# visualize_lsd(visualization)"
   ]
  },
  {
   "cell_type": "code",
   "execution_count": 19,
   "metadata": {},
   "outputs": [],
   "source": [
    "# visualization = np.zeros(central_line.shape)\n",
    "# visualization = draw_central_line2(visualization, central_line)\n",
    "# visualization = draw_nodes2(visualization, nodesss, 3, 4)\n",
    "# visualize_lsd(visualization)"
   ]
  },
  {
   "cell_type": "markdown",
   "metadata": {},
   "source": [
    "## Cleaning DAG"
   ]
  },
  {
   "cell_type": "markdown",
   "metadata": {},
   "source": [
    "### finding root node"
   ]
  },
  {
   "cell_type": "code",
   "execution_count": 20,
   "metadata": {},
   "outputs": [],
   "source": [
    "def convert_to_nodes_list(edges):\n",
    "    nodes = {}\n",
    "    for e in edges:\n",
    "        nodes[e.node_a] = e.node_a.copy_without_edges()\n",
    "        nodes[e.node_b] = e.node_b.copy_without_edges()\n",
    "        \n",
    "    for e in edges:\n",
    "        new_edge = Edge(nodes[e.node_a], nodes[e.node_b])\n",
    "        new_edge.data = e.data\n",
    "        nodes[e.node_a].add_edge(new_edge)\n",
    "        nodes[e.node_b].add_edge(new_edge)\n",
    "        \n",
    "    return list(nodes.values())\n",
    "\n",
    "def find_tree_root_candidates(nodes, root_degrees, thichness_tolerance):\n",
    "    proper_degree_nodes = [node for node in nodes if len(node.edges) in root_degrees]\n",
    "    root_thickness = max(map(lambda node: node['radius'], proper_degree_nodes))\n",
    "    print(root_thickness)\n",
    "    root_candidates = [node for node in proper_degree_nodes if \n",
    "                       node['radius'] >= root_thickness - thichness_tolerance]\n",
    "    return root_candidates\n",
    "\n",
    "def visualize_root(root, skeleton, mark_radius=2):\n",
    "    visualisation = skeleton.copy().astype(np.uint8)\n",
    "    for v in root['voxels']:\n",
    "            x, y, z = tuple(v)\n",
    "            visualisation[x - mark_radius: x + mark_radius, \n",
    "                          y - mark_radius: y + mark_radius, \n",
    "                          z - mark_radius: z + mark_radius] = 4\n",
    "    visualize_lsd(visualisation)\n",
    "    \n",
    "def visualize_candidates(root_candidates, skeleton, mark_radius=2):\n",
    "    visualisation = skeleton.copy().astype(np.uint8)\n",
    "    for root in root_candidates:\n",
    "        for v in root['voxels']:\n",
    "                x, y, z = tuple(v)\n",
    "                visualisation[x - mark_radius: x + mark_radius, \n",
    "                              y - mark_radius: y + mark_radius, \n",
    "                              z - mark_radius: z + mark_radius] = 4\n",
    "    visualize_lsd(visualisation)"
   ]
  },
  {
   "cell_type": "code",
   "execution_count": 25,
   "metadata": {},
   "outputs": [
    {
     "name": "stdout",
     "output_type": "stream",
     "text": [
      "39\n",
      "found 1 root candidate(s)\n",
      "Wall time: 18 ms\n"
     ]
    }
   ],
   "source": [
    "%%time\n",
    "\n",
    "roots_degrees = {\n",
    "    'P01': [1],\n",
    "    'P02': [2],\n",
    "    'P04': [3],\n",
    "    'P05': [3],\n",
    "    'P06': [3],\n",
    "    'P07': [1],\n",
    "    'P09': [1],\n",
    "    'P10': [1],\n",
    "    'P11': [2],\n",
    "    'P12': [1],\n",
    "    'P13': [2],\n",
    "    'P18': [1],\n",
    "    'P19': [3],\n",
    "    'P21': [3],\n",
    "}\n",
    "\n",
    "root_thickness_tolerance = {\n",
    "    'P01': 0,\n",
    "    'P02': 10,\n",
    "    'P04': 0,\n",
    "    'P05': 6,\n",
    "    'P09': 0,\n",
    "    'P11': 0,\n",
    "    'P12': 0,\n",
    "    'P13': 10,\n",
    "    'P18': 0,\n",
    "    'P19': 5,\n",
    "}\n",
    "\n",
    "nodes = convert_to_nodes_list(edges)\n",
    "# print(nodes)\n",
    "root_candidates = find_tree_root_candidates(nodes, roots_degrees.get(TREE_NAME, [1]), \n",
    "                                            root_thickness_tolerance.get(TREE_NAME, 0))\n",
    "print(f'found {len(root_candidates)} root candidate(s)')\n"
   ]
  },
  {
   "cell_type": "code",
   "execution_count": 55,
   "metadata": {},
   "outputs": [],
   "source": [
    "candidates_indices = {\n",
    "    'P01': 0,\n",
    "    'P02': 9,\n",
    "    'P04': 0,\n",
    "    'P05': 3,\n",
    "    'P07': 0,\n",
    "    'P09': 0,\n",
    "    'P10': 0,\n",
    "    'P12': 1,\n",
    "    'P13': 16,\n",
    "    'P18': 0,\n",
    "    'P19': 23,\n",
    "}\n",
    "root = root_candidates[candidates_indices.get(TREE_NAME, 0)]\n",
    "visualize_root(root, central_line, 5) # verify whether the proper node was selected"
   ]
  },
  {
   "cell_type": "code",
   "execution_count": null,
   "metadata": {},
   "outputs": [],
   "source": [
    "visualize_candidates(root_candidates, central_line, 3)"
   ]
  },
  {
   "cell_type": "markdown",
   "metadata": {},
   "source": [
    "### removing cycles (obtaining DAG)"
   ]
  },
  {
   "cell_type": "code",
   "execution_count": 56,
   "metadata": {},
   "outputs": [],
   "source": [
    "def remove_dag_cycles(root): # TODO pomyśl o - przed node['thickness']\n",
    "    counter = 0\n",
    "    \n",
    "    new_root = root.copy_without_edges()\n",
    "    coords_to_old_parents = {}\n",
    "    coords_to_new_node = { new_root.coords: new_root }\n",
    "    \n",
    "    queue = PriorityQueue()\n",
    "    for node in root.get_neighbours():\n",
    "        coords_to_old_parents[node.coords] = [root]\n",
    "        queue.put(((-node['radius'], counter), node))\n",
    "        counter += 1\n",
    "        \n",
    "    while not queue.empty():\n",
    "        _, node = queue.get()\n",
    "        \n",
    "        if coords_to_new_node.get(node.coords) is not None:\n",
    "            continue\n",
    "        \n",
    "        parent_candidates = coords_to_old_parents[node.coords]\n",
    "        proper_parent_thickness = min([p['radius'] for p in parent_candidates])\n",
    "        proper_parent = [p for p in parent_candidates if p['radius'] == proper_parent_thickness][0]\n",
    "        edge_from_parent = [e for e in proper_parent.edges if e.node_a == node or e.node_b == node][0]\n",
    "        \n",
    "        new_node = node.copy_without_edges()\n",
    "        new_parent = coords_to_new_node[proper_parent.coords]\n",
    "        new_edge = Edge(new_parent, new_node)\n",
    "        new_edge.data = edge_from_parent.data\n",
    "        new_parent.add_edge(new_edge)\n",
    "        \n",
    "        coords_to_new_node[new_node.coords] = new_node\n",
    "        \n",
    "        for neighbour in node.get_neighbours():\n",
    "            parents = coords_to_old_parents.get(neighbour.coords, [])\n",
    "            coords_to_old_parents[neighbour.coords] = parents + [node]\n",
    "            queue.put(((-neighbour['radius'], counter), neighbour))\n",
    "            counter += 1\n",
    "            \n",
    "    return new_root"
   ]
  },
  {
   "cell_type": "code",
   "execution_count": 57,
   "metadata": {},
   "outputs": [
    {
     "name": "stdout",
     "output_type": "stream",
     "text": [
      "Wall time: 641 ms\n"
     ]
    }
   ],
   "source": [
    "%%time\n",
    "\n",
    "clean_root = remove_dag_cycles(root)"
   ]
  },
  {
   "cell_type": "markdown",
   "metadata": {},
   "source": [
    "### removing redundant nodes and edges"
   ]
  },
  {
   "cell_type": "code",
   "execution_count": 58,
   "metadata": {},
   "outputs": [],
   "source": [
    "def merge_edges(a, b, node_a, node_b):\n",
    "        new_edge = Edge(node_a, node_b)\n",
    "        new_edge.data = a.data\n",
    "        new_edge['voxels'] = np.concatenate([a['voxels'], b.node_a['voxels'], b['voxels']])\n",
    "        return new_edge\n",
    "\n",
    "\n",
    "def remove_dag_redundant_nodes(root):\n",
    "    new_root = root.copy_without_edges()\n",
    "    for edge in root.edges:\n",
    "        new_neighbour = remove_dag_redundant_nodes(edge.node_b)\n",
    "        \n",
    "        if len(new_neighbour.edges) == 1:\n",
    "            merged_edge = merge_edges(edge, new_neighbour.edges[0], new_root, new_neighbour.edges[0].node_b)\n",
    "            new_root.add_edge(merged_edge)\n",
    "            \n",
    "        else:\n",
    "            new_edge = Edge(new_root, new_neighbour)\n",
    "            new_edge.data = edge.data\n",
    "            new_root.add_edge(new_edge)\n",
    "            \n",
    "    return new_root"
   ]
  },
  {
   "cell_type": "code",
   "execution_count": 59,
   "metadata": {},
   "outputs": [
    {
     "name": "stdout",
     "output_type": "stream",
     "text": [
      "Wall time: 201 ms\n"
     ]
    }
   ],
   "source": [
    "%%time\n",
    "\n",
    "clean_root = remove_dag_redundant_nodes(clean_root)"
   ]
  },
  {
   "cell_type": "markdown",
   "metadata": {},
   "source": [
    "### Obtaining clean nodes and edges"
   ]
  },
  {
   "cell_type": "code",
   "execution_count": 60,
   "metadata": {},
   "outputs": [],
   "source": [
    "def get_nodes_with_dfs(root):\n",
    "    nodes = [root]\n",
    "    for e in root.edges:\n",
    "        if e.node_a != root:\n",
    "            print(e)\n",
    "        \n",
    "        nodes += get_nodes_with_dfs(e.node_b)\n",
    "        \n",
    "    return nodes\n",
    "\n",
    "\n",
    "def get_edges_with_dfs(root):\n",
    "    edges = []\n",
    "    for e in root.edges:\n",
    "        edges += [e]\n",
    "        edges += get_edges_with_dfs(e.node_b)\n",
    "        \n",
    "    return edges"
   ]
  },
  {
   "cell_type": "code",
   "execution_count": 61,
   "metadata": {},
   "outputs": [
    {
     "name": "stdout",
     "output_type": "stream",
     "text": [
      "# of nodes: 19659, # of edges: 19658\n"
     ]
    }
   ],
   "source": [
    "clean_nodes = get_nodes_with_dfs(clean_root)\n",
    "clean_edges = get_edges_with_dfs(clean_root)\n",
    "\n",
    "print(f'# of nodes: {len(clean_nodes)}, # of edges: {len(clean_edges)}')"
   ]
  },
  {
   "cell_type": "markdown",
   "metadata": {},
   "source": [
    "## Populating graph with basic metadata"
   ]
  },
  {
   "cell_type": "markdown",
   "metadata": {},
   "source": [
    "### reordering edges voxels"
   ]
  },
  {
   "cell_type": "code",
   "execution_count": 62,
   "metadata": {},
   "outputs": [],
   "source": [
    "def reorder_edges_voxels(edge):\n",
    "    node_voxels = [tuple(voxel) for voxel in edge.node_a['voxels']]\n",
    "    edge_voxels = [tuple(voxel) for voxel in edge['voxels']]\n",
    "    all_voxels = node_voxels + edge_voxels\n",
    "    \n",
    "    queue = [node_voxels[0]]\n",
    "    sorted_voxels = [node_voxels[0]]\n",
    "    \n",
    "    while len(queue) != 0:\n",
    "        x, y, z = queue.pop(0)\n",
    "        \n",
    "        for dx in [-1, 0, 1]:\n",
    "            for dy in [-1, 0, 1]:\n",
    "                for dz in [-1, 0, 1]:\n",
    "                    if dx == dy == dz == 0:\n",
    "                        continue\n",
    "                    \n",
    "                    neighbour = (x + dx, y + dy, z + dz)\n",
    "                    \n",
    "                    if (neighbour in sorted_voxels) or (neighbour not in all_voxels):\n",
    "                        continue\n",
    "                    \n",
    "                    sorted_voxels.append(neighbour)\n",
    "                    queue.append(neighbour)\n",
    "                    \n",
    "    sorted_edge_voxels = [voxel for voxel in sorted_voxels if voxel not in node_voxels]\n",
    "    edge['voxels'] = sorted_edge_voxels\n",
    "    \n",
    "def fix_edges_voxels(root):\n",
    "    edges = get_edges_with_dfs(root)\n",
    "    for edge in edges:\n",
    "        reorder_edges_voxels(edge)"
   ]
  },
  {
   "cell_type": "code",
   "execution_count": 63,
   "metadata": {},
   "outputs": [
    {
     "name": "stdout",
     "output_type": "stream",
     "text": [
      "[[866  72 861]\n",
      " [866  73 862]\n",
      " [867  72 861]]\n",
      "[(865, 73, 860), (864, 72, 859), (863, 72, 858), (863, 71, 857), (862, 72, 856), (862, 71, 855), (861, 71, 854), (861, 71, 853), (860, 72, 852), (859, 72, 851), (858, 72, 850), (858, 71, 849), (857, 71, 848), (856, 71, 847), (855, 71, 846), (854, 71, 845), (853, 72, 844), (853, 73, 843), (852, 73, 842), (851, 72, 842), (850, 72, 841), (850, 73, 840), (849, 73, 839), (848, 73, 838), (847, 73, 837), (846, 73, 836), (846, 74, 835), (845, 74, 834), (844, 74, 833), (845, 75, 832), (844, 75, 831), (843, 75, 830), (843, 76, 829), (842, 76, 828), (841, 76, 828), (840, 76, 827), (839, 76, 826), (838, 76, 825), (838, 76, 824), (837, 76, 823), (836, 76, 822), (835, 76, 821), (834, 77, 820), (833, 77, 819), (832, 77, 818), (831, 77, 817), (830, 77, 816), (829, 77, 815), (829, 77, 814), (829, 78, 813), (828, 78, 812), (827, 79, 811), (826, 79, 810), (825, 79, 809), (824, 79, 808), (823, 79, 807), (823, 80, 806), (822, 80, 805), (821, 80, 804), (820, 80, 803), (819, 80, 802), (819, 81, 801), (818, 80, 800), (817, 80, 799), (816, 80, 798), (816, 81, 797), (815, 81, 796), (814, 81, 795), (813, 81, 794), (812, 82, 793), (812, 83, 792), (811, 83, 791), (811, 84, 790), (810, 84, 789), (809, 84, 788), (808, 84, 787), (807, 84, 786), (806, 84, 785), (805, 84, 784), (804, 84, 783), (804, 85, 782), (803, 85, 781), (802, 85, 780), (801, 85, 779), (800, 85, 779), (799, 85, 778), (799, 85, 777), (798, 85, 776), (798, 86, 775), (797, 86, 774), (796, 86, 773), (796, 87, 772), (795, 86, 771), (794, 87, 770), (793, 87, 769), (792, 87, 768), (791, 87, 767), (790, 87, 766), (789, 87, 765), (788, 87, 764), (787, 86, 763), (786, 87, 762), (785, 87, 761), (784, 87, 760)]\n",
      "Wall time: 18.8 s\n"
     ]
    }
   ],
   "source": [
    "%%time\n",
    "fix_edges_voxels(clean_root)\n",
    "print(clean_root['voxels'])\n",
    "print(clean_root.edges[0]['voxels'])"
   ]
  },
  {
   "cell_type": "markdown",
   "metadata": {},
   "source": [
    "### edges and nodes thickness"
   ]
  },
  {
   "cell_type": "code",
   "execution_count": 64,
   "metadata": {},
   "outputs": [],
   "source": [
    "def fix_nodes_thickness(root, skeleton_thickness):\n",
    "    nodes = get_nodes_with_dfs(root)\n",
    "    for node in nodes:\n",
    "        thickness_list = [skeleton_thickness[tuple(coords)] for coords in node['voxels']]\n",
    "        node['radius'] = np.mean(thickness_list)\n",
    "    \n",
    "\n",
    "def add_edges_thickness(root, skeleton_thickness):\n",
    "    edges = get_edges_with_dfs(root)\n",
    "    for edge in edges:\n",
    "        thickness_list = [skeleton_thickness[tuple(coords)] for coords in edge['voxels']]\n",
    "        edge['radii_list'] = np.array(thickness_list)\n",
    "        edge['mean_radius'] = np.mean(thickness_list)"
   ]
  },
  {
   "cell_type": "code",
   "execution_count": 65,
   "metadata": {},
   "outputs": [
    {
     "name": "stdout",
     "output_type": "stream",
     "text": [
      "Wall time: 1.96 s\n"
     ]
    },
    {
     "data": {
      "text/plain": [
       "array([19, 19, 19, 19, 19, 19, 19, 19, 19, 18, 18, 18, 18, 18, 18, 18, 18,\n",
       "       18, 18, 18, 18, 18, 18, 17, 17, 17, 17, 17, 17, 17, 17, 17, 17, 17,\n",
       "       17, 17, 17, 17, 17, 17, 17, 17, 17, 17, 17, 17, 17, 17, 17, 17, 17,\n",
       "       17, 17, 17, 17, 17, 17, 17, 17, 17, 17, 17, 17, 17, 17, 17, 17, 17,\n",
       "       17, 17, 17, 18, 17, 17, 18, 18, 18, 18, 18, 18, 18, 18, 19, 19, 19,\n",
       "       19, 19, 19, 19, 20, 20, 20, 20, 20, 21, 21, 21, 21, 21, 22, 22, 22,\n",
       "       22, 22], dtype=uint8)"
      ]
     },
     "execution_count": 65,
     "metadata": {},
     "output_type": "execute_result"
    }
   ],
   "source": [
    "%%time\n",
    "fix_nodes_thickness(clean_root, central_line_radii)\n",
    "add_edges_thickness(clean_root, central_line_radii)\n",
    "clean_root.edges[0]['radii_list']"
   ]
  },
  {
   "cell_type": "markdown",
   "metadata": {},
   "source": [
    "### centroids and edges lengths"
   ]
  },
  {
   "cell_type": "code",
   "execution_count": 66,
   "metadata": {},
   "outputs": [],
   "source": [
    "def set_nodes_centroids(root):\n",
    "    nodes = get_nodes_with_dfs(root)\n",
    "    for node in nodes:\n",
    "        node['centroid'] = np.mean(node['voxels'], axis=0)\n",
    "\n",
    "        \n",
    "def calculate_edge_length(edge, chunk_length=1):\n",
    "    voxels = np.array(edge['voxels'])\n",
    "    needed_nans = (chunk_length - (len(voxels) % chunk_length)) % chunk_length\n",
    "    voxels = np.concatenate([voxels, np.full((needed_nans, 3), np.nan)])\n",
    "    \n",
    "    chunked_voxels = voxels.reshape(-1, chunk_length, 3)\n",
    "    \n",
    "    edge_centroids = np.nanmean(chunked_voxels, axis=1)\n",
    "    starting_centroid = edge.node_a['centroid']\n",
    "    ending_centroid = edge.node_b['centroid']\n",
    "    \n",
    "    centroids = np.concatenate([\n",
    "        starting_centroid[np.newaxis, ...],\n",
    "        edge_centroids,\n",
    "        ending_centroid[np.newaxis, ...]\n",
    "    ])\n",
    "    \n",
    "    squared_diffs = np.diff(centroids, axis=0) ** 2\n",
    "    squared_lengths = np.sum(squared_diffs, axis=1)\n",
    "    lengths = np.sqrt(squared_lengths)\n",
    "    total_length = np.sum(lengths)\n",
    "    \n",
    "    return total_length\n",
    "    \n",
    "\n",
    "def set_edges_length(root, chunk_length=1):\n",
    "    edges = get_edges_with_dfs(root)\n",
    "    for edge in edges:\n",
    "        edge['length'] = calculate_edge_length(edge, chunk_length)"
   ]
  },
  {
   "cell_type": "code",
   "execution_count": 67,
   "metadata": {},
   "outputs": [
    {
     "name": "stdout",
     "output_type": "stream",
     "text": [
      "137.37576945107824\n",
      "Wall time: 2.12 s\n"
     ]
    }
   ],
   "source": [
    "%%time\n",
    "set_nodes_centroids(clean_root)\n",
    "set_edges_length(clean_root, 2)\n",
    "print(clean_root.edges[0]['length'])"
   ]
  },
  {
   "cell_type": "markdown",
   "metadata": {},
   "source": [
    "## Creating DAG object"
   ]
  },
  {
   "cell_type": "code",
   "execution_count": 68,
   "metadata": {},
   "outputs": [],
   "source": [
    "class DAG:\n",
    "    def __init__(self, root, volume_shape):\n",
    "        self.root = root\n",
    "        self.nodes = get_nodes_with_dfs(root)\n",
    "        self.edges = get_edges_with_dfs(root)\n",
    "        self.volume_shape = volume_shape\n",
    "        self.data = {}\n",
    "    \n",
    "    def __setitem__(self, key, value):\n",
    "        self.data[key] = value\n",
    "    \n",
    "    def __getitem__(self, key):\n",
    "        return self.data[key]\n",
    "        \n",
    "\n",
    "def save_dag(dag, filename):\n",
    "    with open(filename, 'wb') as output:\n",
    "        pickle.dump(dag, output)\n",
    "        \n",
    "\n",
    "def load_dag(filename):\n",
    "    with open(filename, 'rb') as input_:\n",
    "        dag = pickle.load(input_)\n",
    "        return dag"
   ]
  },
  {
   "cell_type": "code",
   "execution_count": 69,
   "metadata": {},
   "outputs": [],
   "source": [
    "dag = DAG(clean_root, reconstruction.shape)"
   ]
  },
  {
   "cell_type": "markdown",
   "metadata": {},
   "source": [
    "## DAG visualization"
   ]
  },
  {
   "cell_type": "code",
   "execution_count": 70,
   "metadata": {},
   "outputs": [],
   "source": [
    "# visualization = np.zeros(central_line.shape)\n",
    "# visualization = draw_nodes(visualization, dag.nodes, 25)\n",
    "# visualization = draw_edges(visualization, dag.edges, value='mean_radius')\n",
    "# visualize_gradient(visualization)"
   ]
  },
  {
   "cell_type": "code",
   "execution_count": 71,
   "metadata": {},
   "outputs": [],
   "source": [
    "# visualization = np.zeros(central_line.shape)\n",
    "# visualization = draw_edges(visualization, dag.edges, value='length')\n",
    "# visualize_gradient(visualization)"
   ]
  },
  {
   "cell_type": "code",
   "execution_count": 72,
   "metadata": {},
   "outputs": [],
   "source": [
    "# skel = skeletonize_3d((reconstruction > 0).astype(np.uint8))"
   ]
  },
  {
   "cell_type": "code",
   "execution_count": 73,
   "metadata": {},
   "outputs": [],
   "source": [
    "# central_line = draw_central_line(np.zeros(central_line.shape), dag)\n",
    "# visualize_addition(central_line, skel)"
   ]
  },
  {
   "cell_type": "code",
   "execution_count": 74,
   "metadata": {},
   "outputs": [],
   "source": [
    "# cline = draw_central_line(np.zeros(central_line.shape), dag, value='mean_radius')\n",
    "# visualize_gradient(cline)"
   ]
  },
  {
   "cell_type": "markdown",
   "metadata": {},
   "source": [
    "## Saving dag"
   ]
  },
  {
   "cell_type": "code",
   "execution_count": 75,
   "metadata": {},
   "outputs": [],
   "source": [
    "save_dag(dag, source_dir + TREE_NAME + '/dag.pkl')"
   ]
  },
  {
   "cell_type": "code",
   "execution_count": null,
   "metadata": {},
   "outputs": [],
   "source": []
  }
 ],
 "metadata": {
  "kernelspec": {
   "display_name": "Python 3",
   "language": "python",
   "name": "python3"
  },
  "language_info": {
   "codemirror_mode": {
    "name": "ipython",
    "version": 3
   },
   "file_extension": ".py",
   "mimetype": "text/x-python",
   "name": "python",
   "nbconvert_exporter": "python",
   "pygments_lexer": "ipython3",
   "version": "3.8.3"
  }
 },
 "nbformat": 4,
 "nbformat_minor": 4
}
