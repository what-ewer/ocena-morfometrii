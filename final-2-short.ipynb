{
 "cells": [
  {
   "cell_type": "code",
   "execution_count": 1,
   "metadata": {},
   "outputs": [],
   "source": [
    "import numpy as np\n",
    "import glob\n",
    "import matplotlib.pyplot as plt\n",
    "import pickle\n",
    "from skimage import measure, segmentation, feature\n",
    "from vis_utils import load_volume, VolumeVisualizer, ColorMapVisualizer\n",
    "from scipy.ndimage import zoom\n",
    "from scipy.signal import fftconvolve\n",
    "from skimage.morphology import skeletonize_3d, binary_dilation\n",
    "from skimage import filters, morphology\n",
    "from scipy import signal\n",
    "from skimage.filters import frangi, sato\n",
    "from PIL import Image\n",
    "from tqdm import tqdm"
   ]
  },
  {
   "cell_type": "code",
   "execution_count": 2,
   "metadata": {},
   "outputs": [],
   "source": [
    "TREE_NAME = 'P07'"
   ]
  },
  {
   "cell_type": "markdown",
   "metadata": {},
   "source": [
    "## Utility visualisation functions"
   ]
  },
  {
   "cell_type": "code",
   "execution_count": 3,
   "metadata": {},
   "outputs": [],
   "source": [
    "def visualize_addition(base, base_with_addition):\n",
    "    base = (base.copy() > 0).astype(np.uint8)\n",
    "    addition = (base_with_addition > 0).astype(np.uint8)\n",
    "    addition[base == 1] = 0\n",
    "    ColorMapVisualizer(base + addition * 4).visualize()\n",
    "    \n",
    "def visualize_lsd(lsd_mask):\n",
    "    ColorMapVisualizer(lsd_mask.astype(np.uint8)).visualize()\n",
    "    \n",
    "def visualize_gradient(lsd_mask):\n",
    "    ColorMapVisualizer(lsd_mask.astype(np.uint8)).visualize(gradient=True)\n",
    "    \n",
    "def visualize_mask_bin(mask):\n",
    "    VolumeVisualizer((mask > 0).astype(np.uint8), binary=True).visualize()\n",
    "    \n",
    "def visualize_mask_non_bin(mask):\n",
    "    VolumeVisualizer((mask > 0).astype(np.uint8) * 255, binary=False).visualize()\n",
    "    \n",
    "def visualize_skeleton(mask, visualize_mask=True, visualize_both_versions=False):\n",
    "    skeleton = skeletonize_3d((mask > 0).astype(np.uint8))\n",
    "    if not visualize_mask or visualize_both_versions:\n",
    "        VolumeVisualizer(skeleton, binary=True).visualize()\n",
    "    if visualize_mask or visualize_both_versions:\n",
    "        skeleton = skeleton.astype(np.uint8) * 4\n",
    "        mask = (mask > 0).astype(np.uint8) * 3\n",
    "        mask[skeleton != 0] = 0\n",
    "        ColorMapVisualizer(skeleton + mask).visualize()\n",
    "\n",
    "def visualize_ultimate(lsd, base_mask):\n",
    "    visualize_lsd(lsd)\n",
    "    visualize_mask_non_bin(lsd)\n",
    "    visualize_addition(base_mask, lsd)\n",
    "    visualize_skeleton(lsd, visualize_mask=True)"
   ]
  },
  {
   "cell_type": "code",
   "execution_count": 4,
   "metadata": {},
   "outputs": [],
   "source": [
    "def visualize_skeleton_2(skeleton, mask):\n",
    "    skel = (skeleton > 0).astype(np.uint8) * 4\n",
    "    mask = (mask > 0).astype(np.uint8) * 3\n",
    "    mask[skeleton != 0] = 0\n",
    "    ColorMapVisualizer(skel + mask).visualize()"
   ]
  },
  {
   "cell_type": "markdown",
   "metadata": {},
   "source": [
    "## Loading specimen reconstruction"
   ]
  },
  {
   "cell_type": "code",
   "execution_count": 5,
   "metadata": {},
   "outputs": [
    {
     "data": {
      "text/plain": [
       "(838, 638, 1120)"
      ]
     },
     "execution_count": 5,
     "metadata": {},
     "output_type": "execute_result"
    }
   ],
   "source": [
    "source_dir = './data/'\n",
    "reconstruction = np.load(source_dir + TREE_NAME + '/reconstruction.npy')\n",
    "reconstruction.shape"
   ]
  },
  {
   "cell_type": "code",
   "execution_count": 6,
   "metadata": {},
   "outputs": [],
   "source": [
    "good_names = list({\n",
    "    'P01': 21,    'P02': 28,    'P03': 160,    'P04': 30,\n",
    "    'P05': 24,    'P06': 22,    'P07': 100,    'P09': 70,\n",
    "    'P10': 50,    'P11': 50,    'P12': 74,    'P13': 45,\n",
    "    'P14': 42,    'P15': 95,    'P16': 25,    'P17': 80,\n",
    "    'P18': 85,    'P19': 50,    'P20': 95,    'P21': 45,\n",
    "    'P23': 60,    'P24': 80,    'P25': 70,    'P26': 130,\n",
    "    'P27': 70,    'P28': 25,    'P30': 80,    'P31': 50,\n",
    "    'P32': 48,    'P33': 65,}.keys())\n",
    "# good_names"
   ]
  },
  {
   "cell_type": "code",
   "execution_count": 7,
   "metadata": {},
   "outputs": [],
   "source": [
    "# for name in good_names:\n",
    "# #     reko = np.load(source_dir + name + '/reconstruction.npy')\n",
    "#     central_line = np.load(source_dir + name + '/central-line.npy')\n",
    "#     print(name)\n",
    "# #     print(reko.shape)\n",
    "# #     print(central_line.shape)\n",
    "# #     visualize_mask_non_bin(reko)\n",
    "# #     visualize_skeleton_2(central_line, reko)\n",
    "#     visualize_mask_bin(central_line)"
   ]
  },
  {
   "cell_type": "code",
   "execution_count": 8,
   "metadata": {},
   "outputs": [],
   "source": [
    "visualize_mask_non_bin(reconstruction)"
   ]
  },
  {
   "cell_type": "code",
   "execution_count": 6,
   "metadata": {},
   "outputs": [],
   "source": [
    "# reco = reconstruction[:-80, :, :]\n",
    "# reco[-1, :, :] = 0\n",
    "# visualize_mask_bin(reco)\n",
    "# # np.save(source_dir + TREE_NAME + '/reconstruction', reco)"
   ]
  },
  {
   "cell_type": "markdown",
   "metadata": {},
   "source": [
    "## Obtaining skeleton"
   ]
  },
  {
   "cell_type": "code",
   "execution_count": 9,
   "metadata": {},
   "outputs": [
    {
     "name": "stdout",
     "output_type": "stream",
     "text": [
      "Wall time: 1min 39s\n"
     ]
    }
   ],
   "source": [
    "%%time\n",
    "skeleton = (skeletonize_3d(reconstruction) > 0).astype(np.uint8)"
   ]
  },
  {
   "cell_type": "code",
   "execution_count": 12,
   "metadata": {},
   "outputs": [],
   "source": [
    "visualize_skeleton_2(skeleton, reconstruction)"
   ]
  },
  {
   "cell_type": "markdown",
   "metadata": {},
   "source": [
    "## Trimming skeleton"
   ]
  },
  {
   "cell_type": "code",
   "execution_count": 23,
   "metadata": {},
   "outputs": [],
   "source": [
    "def trim_skeleton_once(skeleton, condidate_voxels):\n",
    "    trimmed_skeleton = skeleton.copy()\n",
    "    leaves_neighbours = []\n",
    "    \n",
    "    for voxel in condidate_voxels:\n",
    "        x, y, z = tuple(voxel)\n",
    "        neighbours_count = 0\n",
    "        voxel_neighbours = []\n",
    "        for dx in [-1, 0, 1]:\n",
    "            for dy in [-1, 0, 1]:\n",
    "                for dz in [-1, 0, 1]:\n",
    "                    if dx == dy == dz == 0:\n",
    "                        continue\n",
    "                    neighbour_x = x + dx\n",
    "                    neighbour_y = y + dy\n",
    "                    neighbour_z = z + dz\n",
    "                    if skeleton[neighbour_x, neighbour_y, neighbour_z]:\n",
    "                        neighbours_count += 1\n",
    "                        voxel_neighbours.append((neighbour_x, neighbour_y, neighbour_z))\n",
    "        if neighbours_count < 2:\n",
    "            trimmed_skeleton[x, y, z] = 0\n",
    "            leaves_neighbours += voxel_neighbours     \n",
    "    return trimmed_skeleton.astype(np.uint8), leaves_neighbours\n",
    "\n",
    "def trim_skeleton(skeleton, iters):\n",
    "    trimmed_skeleton, trim_neighbours = trim_skeleton_once(skeleton, np.argwhere(skeleton))\n",
    "    print('iter 1 done')\n",
    "    for i in range(1, iters):\n",
    "        trimmed_skeleton, trim_neighbours = trim_skeleton_once(trimmed_skeleton, trim_neighbours)\n",
    "        print(f'iter {i + 1} done')\n",
    "    return trimmed_skeleton"
   ]
  },
  {
   "cell_type": "code",
   "execution_count": 24,
   "metadata": {
    "scrolled": true
   },
   "outputs": [
    {
     "name": "stdout",
     "output_type": "stream",
     "text": [
      "iter 1 done\n",
      "iter 2 done\n",
      "iter 3 done\n",
      "iter 4 done\n",
      "iter 5 done\n",
      "iter 6 done\n",
      "iter 7 done\n",
      "iter 8 done\n",
      "iter 9 done\n",
      "iter 10 done\n",
      "iter 11 done\n",
      "iter 12 done\n",
      "iter 13 done\n",
      "iter 14 done\n",
      "iter 15 done\n",
      "iter 16 done\n",
      "iter 17 done\n",
      "iter 18 done\n",
      "iter 19 done\n",
      "iter 20 done\n",
      "iter 21 done\n",
      "iter 22 done\n",
      "iter 23 done\n",
      "iter 24 done\n",
      "iter 25 done\n",
      "iter 26 done\n",
      "iter 27 done\n",
      "iter 28 done\n",
      "iter 29 done\n",
      "iter 30 done\n",
      "Wall time: 19.4 s\n"
     ]
    }
   ],
   "source": [
    "%%time\n",
    "iterations = {\n",
    "    'P01': 15,\n",
    "    'P02': 65,\n",
    "    'P04': 15,\n",
    "    'P05': 75,\n",
    "    'P11': 45,\n",
    "    'P12': 24,\n",
    "    'P13': 20,\n",
    "    'P15': 45,\n",
    "    'P16': 15,\n",
    "    'P21': 40,\n",
    "    'P26': 45,\n",
    "    'P32': 40,\n",
    "    'P33': 40,\n",
    "}\n",
    "\n",
    "trimmed_skeleton = trim_skeleton(skeleton, iters=iterations.get(TREE_NAME, 30))"
   ]
  },
  {
   "cell_type": "code",
   "execution_count": 25,
   "metadata": {},
   "outputs": [],
   "source": [
    "visualize_addition(trimmed_skeleton, skeleton)\n",
    "# visualize_addition(trimmed_skeleton, reconstruction)"
   ]
  },
  {
   "cell_type": "markdown",
   "metadata": {},
   "source": [
    "## Propagating thickness"
   ]
  },
  {
   "cell_type": "code",
   "execution_count": 26,
   "metadata": {},
   "outputs": [],
   "source": [
    "def spherical_kernel(outer_radius, thickness=1, filled=True):    \n",
    "    outer_sphere = morphology.ball(radius=outer_radius)\n",
    "    if filled:\n",
    "        return outer_sphere\n",
    "    \n",
    "    thickness = min(thickness, outer_radius)\n",
    "    \n",
    "    inner_radius = outer_radius - thickness\n",
    "    inner_sphere = morphology.ball(radius=inner_radius)\n",
    "    \n",
    "    begin = outer_radius - inner_radius\n",
    "    end = begin + inner_sphere.shape[0]\n",
    "    outer_sphere[begin:end, begin:end, begin:end] -= inner_sphere\n",
    "    return outer_sphere\n",
    "\n",
    "def prepare_kernels(kernel_sizes):\n",
    "    kernels = []\n",
    "    for kernel_radius in sorted(kernel_sizes):\n",
    "        kernel = spherical_kernel(kernel_radius, filled=True)\n",
    "        kernels.append((kernel_radius, kernel, np.sum(kernel)))\n",
    "    return kernels\n",
    "\n",
    "def calculate_skeleton_thickness(skeleton, \n",
    "                                 reconstruction, \n",
    "                                 kernel_sizes, \n",
    "                                 fill_threshold):\n",
    "    kernels = prepare_kernels(kernel_sizes)\n",
    "    max_kernel_radius = np.max(kernel_sizes)\n",
    "    padded_reconstruction = np.pad(reconstruction, max_kernel_radius)\n",
    "    skeleton_voxels = np.argwhere(skeleton)\n",
    "    result = np.zeros(skeleton.shape, dtype=np.int)\n",
    "    \n",
    "    for voxel in tqdm(skeleton_voxels):\n",
    "        x, y, z = tuple(voxel + max_kernel_radius)\n",
    "        for kernel_radius, kernel, kernel_sum in kernels:\n",
    "            reconstruction_slice = padded_reconstruction[\n",
    "                x - kernel_radius : x + kernel_radius + 1,\n",
    "                y - kernel_radius : y + kernel_radius + 1,\n",
    "                z - kernel_radius : z + kernel_radius + 1\n",
    "            ]\n",
    "            fill_factor = np.sum(np.logical_and(reconstruction_slice, kernel)) / kernel_sum\n",
    "            if fill_factor > fill_threshold:\n",
    "                result[tuple(voxel)] = kernel_radius + 1\n",
    "            else:\n",
    "                break\n",
    "    return result"
   ]
  },
  {
   "cell_type": "code",
   "execution_count": 27,
   "metadata": {},
   "outputs": [
    {
     "name": "stderr",
     "output_type": "stream",
     "text": [
      "100%|██████████████████████████████████████████████████████████████████████████| 51657/51657 [00:10<00:00, 4879.11it/s]"
     ]
    },
    {
     "name": "stdout",
     "output_type": "stream",
     "text": [
      "Wall time: 16.1 s\n"
     ]
    },
    {
     "name": "stderr",
     "output_type": "stream",
     "text": [
      "\n"
     ]
    }
   ],
   "source": [
    "%%time\n",
    "kernel_sizes = {\n",
    "    'P01': range(70),\n",
    "}\n",
    "\n",
    "fill_thresholds = {\n",
    "    'P01': 0.85,\n",
    "}\n",
    "\n",
    "skeleton_thickness = calculate_skeleton_thickness(trimmed_skeleton,\n",
    "                                                  reconstruction,\n",
    "                                                  kernel_sizes.get(TREE_NAME, range(70)),\n",
    "                                                  fill_thresholds.get(TREE_NAME, 0.85))"
   ]
  },
  {
   "cell_type": "code",
   "execution_count": 28,
   "metadata": {},
   "outputs": [
    {
     "name": "stdout",
     "output_type": "stream",
     "text": [
      "Wall time: 10.5 s\n"
     ]
    },
    {
     "data": {
      "text/plain": [
       "(array([ 0,  1,  2,  3,  4,  5,  6,  7,  8,  9, 10, 11, 12, 13, 14, 15, 16,\n",
       "        17, 18, 19, 20, 21, 22, 23, 24, 25, 26, 27, 28, 29, 30, 31, 32, 33,\n",
       "        34, 35, 36, 37, 38, 39, 40, 41, 42, 43]),\n",
       " array([598749623,      2258,      4485,     11193,      7892,      6922,\n",
       "             4150,      3025,      2348,      2378,      1434,      1019,\n",
       "              776,       744,       634,       529,       302,       295,\n",
       "              279,       174,        84,       110,        71,       114,\n",
       "               60,        31,       110,       112,        28,        11,\n",
       "                5,        11,         6,         6,         6,         4,\n",
       "                4,         4,         4,         6,         4,         6,\n",
       "               15,         8], dtype=int64))"
      ]
     },
     "execution_count": 28,
     "metadata": {},
     "output_type": "execute_result"
    }
   ],
   "source": [
    "%%time\n",
    "np.unique(skeleton_thickness, return_counts=True)"
   ]
  },
  {
   "cell_type": "code",
   "execution_count": 29,
   "metadata": {},
   "outputs": [],
   "source": [
    "visualize_gradient(skeleton_thickness)"
   ]
  },
  {
   "cell_type": "markdown",
   "metadata": {},
   "source": [
    "## Propagate thickness from trimmed skeleton to the ends"
   ]
  },
  {
   "cell_type": "code",
   "execution_count": 30,
   "metadata": {},
   "outputs": [],
   "source": [
    "def propagate_thickness_to_trims(trimmed_skeleton, skeleton, skeleton_thickness):   \n",
    "    whole_skeleton_thicksness = np.zeros(skeleton.shape, dtype=np.int)\n",
    "    whole_skeleton_thicksness[trimmed_skeleton > 0] = skeleton_thickness[trimmed_skeleton > 0]\n",
    "    \n",
    "    queue = list([tuple(coords) for coords in np.argwhere(trimmed_skeleton)])\n",
    "    while(len(queue) > 0):\n",
    "        x, y, z = queue.pop(0)\n",
    "        thickness = whole_skeleton_thicksness[x, y, z]\n",
    "        \n",
    "        for dx in [-1, 0, 1]:\n",
    "            for dy in [-1, 0, 1]:\n",
    "                for dz in [-1, 0, 1]:\n",
    "                    neighbour_x = x + dx\n",
    "                    neighbour_y = y + dy\n",
    "                    neighbour_z = z + dz\n",
    "                    if whole_skeleton_thicksness[neighbour_x, neighbour_y, neighbour_z] > 0:\n",
    "                        continue\n",
    "                        \n",
    "                    if not skeleton[neighbour_x, neighbour_y, neighbour_z]:\n",
    "                        continue\n",
    "                        \n",
    "                    whole_skeleton_thicksness[neighbour_x, neighbour_y, neighbour_z] = thickness\n",
    "                    queue.append((neighbour_x, neighbour_y, neighbour_z))\n",
    "                        \n",
    "    return whole_skeleton_thicksness"
   ]
  },
  {
   "cell_type": "code",
   "execution_count": 31,
   "metadata": {},
   "outputs": [
    {
     "name": "stdout",
     "output_type": "stream",
     "text": [
      "Wall time: 9.05 s\n"
     ]
    }
   ],
   "source": [
    "%%time\n",
    "whole_skeleton_thicksness = propagate_thickness_to_trims(trimmed_skeleton, skeleton, skeleton_thickness)"
   ]
  },
  {
   "cell_type": "markdown",
   "metadata": {},
   "source": [
    "## Adding leaves to the skeleton"
   ]
  },
  {
   "cell_type": "code",
   "execution_count": 32,
   "metadata": {},
   "outputs": [],
   "source": [
    "def get_largest_regions(binary_mask, min_size=1000, connectivity=3):\n",
    "    labeled = measure.label(binary_mask, connectivity=connectivity)\n",
    "    region_props = measure.regionprops(labeled)\n",
    "    \n",
    "    main_regions_labels = []\n",
    "    for props in region_props:\n",
    "        if props.area > min_size:\n",
    "            main_regions_labels.append(props.label)\n",
    "            \n",
    "    print(f\"found {len(main_regions_labels)} main regions, out of {np.max(labeled)} regions\")\n",
    "            \n",
    "    largest_regions = np.zeros(labeled.shape)\n",
    "    for main_region_label in main_regions_labels:\n",
    "        largest_regions[labeled == main_region_label] = 1\n",
    "    return largest_regions.astype(np.uint8)\n",
    "\n",
    "def make_ends_meet(skeleton, trimmed_skeleton, skeleton_thickness, ends_max_radius):\n",
    "    ends = (skeleton - trimmed_skeleton) * (skeleton_thickness <= ends_max_radius)\n",
    "    ends = ends.astype(np.uint8)\n",
    "    \n",
    "    trimmed_with_ends = (trimmed_skeleton > 0).astype(np.uint8) + ends\n",
    "    return get_largest_regions(trimmed_with_ends, connectivity=3)"
   ]
  },
  {
   "cell_type": "code",
   "execution_count": 33,
   "metadata": {},
   "outputs": [],
   "source": [
    "# visualize_gradient(whole_skeleton_thicksness)"
   ]
  },
  {
   "cell_type": "code",
   "execution_count": 34,
   "metadata": {},
   "outputs": [
    {
     "name": "stdout",
     "output_type": "stream",
     "text": [
      "found 1 main regions, out of 1 regions\n",
      "Wall time: 15.9 s\n"
     ]
    }
   ],
   "source": [
    "%%time\n",
    "ends_max_radius = {\n",
    "#     'P01': 20,\n",
    "    'P02': 30,\n",
    "    'P05': 30,\n",
    "    'P07': 15,\n",
    "    'P10': 7,    \n",
    "    'P12': 10,\n",
    "    'P13': 10,\n",
    "    'P14': 15,\n",
    "    'P15': 17,\n",
    "    'P18': 15,\n",
    "    'P19': 15,\n",
    "    'P21': 17,\n",
    "    'P23': 17,\n",
    "    'P24': 17,\n",
    "    'P25': 17,\n",
    "    'P26': 13,\n",
    "    'P27': 10,\n",
    "    'P28': 14,\n",
    "    'P30': 15,\n",
    "    'P30': 18,\n",
    "    'P32': 22,\n",
    "    'P33': 17,\n",
    "}\n",
    "\n",
    "full_skeleton = make_ends_meet(skeleton, trimmed_skeleton, whole_skeleton_thicksness, \n",
    "                               ends_max_radius=ends_max_radius.get(TREE_NAME, 20))"
   ]
  },
  {
   "cell_type": "code",
   "execution_count": 35,
   "metadata": {},
   "outputs": [],
   "source": [
    "visualize_addition(full_skeleton, skeleton) # full_skeleton is green (1), purple is what i trimmed"
   ]
  },
  {
   "cell_type": "code",
   "execution_count": 36,
   "metadata": {},
   "outputs": [],
   "source": [
    "full_skeleton_thickness = whole_skeleton_thicksness.copy()\n",
    "full_skeleton_thickness[full_skeleton == 0] = 0"
   ]
  },
  {
   "cell_type": "code",
   "execution_count": 37,
   "metadata": {},
   "outputs": [],
   "source": [
    "# visualize_gradient(full_skeleton_thickness)"
   ]
  },
  {
   "cell_type": "code",
   "execution_count": 27,
   "metadata": {},
   "outputs": [],
   "source": [
    "visualize_gradient(full_skeleton_thickness)"
   ]
  },
  {
   "cell_type": "markdown",
   "metadata": {},
   "source": [
    "## Saving skeleton and thiccness map"
   ]
  },
  {
   "cell_type": "code",
   "execution_count": 28,
   "metadata": {},
   "outputs": [],
   "source": [
    "np.save(source_dir + TREE_NAME + '/central-line', full_skeleton)\n",
    "np.save(source_dir + TREE_NAME + '/central-line-radii', full_skeleton_thickness.astype(np.uint8))"
   ]
  },
  {
   "cell_type": "code",
   "execution_count": null,
   "metadata": {},
   "outputs": [],
   "source": []
  }
 ],
 "metadata": {
  "kernelspec": {
   "display_name": "Python 3",
   "language": "python",
   "name": "python3"
  },
  "language_info": {
   "codemirror_mode": {
    "name": "ipython",
    "version": 3
   },
   "file_extension": ".py",
   "mimetype": "text/x-python",
   "name": "python",
   "nbconvert_exporter": "python",
   "pygments_lexer": "ipython3",
   "version": "3.7.9"
  }
 },
 "nbformat": 4,
 "nbformat_minor": 4
}
