{
 "cells": [
  {
   "cell_type": "code",
   "execution_count": 1,
   "metadata": {},
   "outputs": [],
   "source": [
    "import re, os\n",
    "from src.graph_parameters import GraphParameters\n",
    "from src.graph_stats import GraphStats\n",
    "from src.dag_generational_comparison import DAG_GenerationalComparison\n",
    "from src.dag import DAG\n",
    "from src.node import Node\n",
    "from src.edge import Edge\n",
    "from src.utils import load_dag"
   ]
  },
  {
   "cell_type": "code",
   "execution_count": 2,
   "metadata": {},
   "outputs": [
    {
     "name": "stdout",
     "output_type": "stream",
     "text": [
      "Currently avalible graph files: ['.\\\\data\\\\P01\\\\dag.pkl', '.\\\\data\\\\P07\\\\dag.pkl', '.\\\\data\\\\P09\\\\dag.pkl', '.\\\\data\\\\P12\\\\dag.pkl', '.\\\\data\\\\P18\\\\dag.pkl']\n"
     ]
    }
   ],
   "source": [
    "pkl_re = re.compile('.*P[0-9]*\\\\\\\\dag.pkl')\n",
    "data_files = [os.path.join(path, name) for path, _, files in os.walk('.\\\\data') for name in files]\n",
    "graph_files = list(filter(pkl_re.match, data_files)) \n",
    "print(f\"Currently avalible graph files: {graph_files}\")\n",
    "\n",
    "dag_names = []\n",
    "dags = []\n",
    "\n",
    "for g in graph_files:\n",
    "    dag_id = g.split('data\\\\')[1].split('\\\\')[0]\n",
    "    dag_stats = f'results/{dag_id}_dag_with_stats.pkl'\n",
    "    rec_file = g.split('dag.pkl')[0] + 'reconstruction.npy'\n",
    "    dag_with_stats = load_dag(dag_stats)\n",
    "    dags.append(dag_with_stats)\n",
    "    dag_names.append(dag_id)"
   ]
  },
  {
   "cell_type": "code",
   "execution_count": 3,
   "metadata": {},
   "outputs": [
    {
     "data": {
      "text/plain": [
       "<Figure size 432x288 with 0 Axes>"
      ]
     },
     "metadata": {},
     "output_type": "display_data"
    }
   ],
   "source": [
    "from src.graph_stats import GraphStats\n",
    "gs = GraphStats(dags[0], \"P01\")\n",
    "gs.mean_length()"
   ]
  },
  {
   "cell_type": "code",
   "execution_count": 4,
   "metadata": {},
   "outputs": [
    {
     "name": "stderr",
     "output_type": "stream",
     "text": [
      "d:\\AnalizaParametrowMorfometrycznychNerki\\src\\dag_generational_comparison.py:26: UserWarning: FixedFormatter should only be used together with FixedLocator\n",
      "  plt.setp(axis, xticklabels=self.dag_names)\n"
     ]
    },
    {
     "data": {
      "text/plain": [
       "<Figure size 576x2304 with 0 Axes>"
      ]
     },
     "metadata": {},
     "output_type": "display_data"
    },
    {
     "data": {
      "text/plain": [
       "<Figure size 576x2304 with 0 Axes>"
      ]
     },
     "metadata": {},
     "output_type": "display_data"
    },
    {
     "data": {
      "text/plain": [
       "<Figure size 360x360 with 0 Axes>"
      ]
     },
     "metadata": {},
     "output_type": "display_data"
    }
   ],
   "source": [
    "dag_gen_comparison = DAG_GenerationalComparison(dags, dag_names, 8)\n",
    "dag_gen_comparison.compare_lengths()"
   ]
  },
  {
   "cell_type": "code",
   "execution_count": null,
   "metadata": {},
   "outputs": [],
   "source": []
  }
 ],
 "metadata": {
  "interpreter": {
   "hash": "4621226a8bc6b3af89fc8741b9adbfba9d66687f10f5589f24f90f61eff0d708"
  },
  "kernelspec": {
   "display_name": "Python 3.7.0 64-bit",
   "language": "python",
   "name": "python3"
  },
  "language_info": {
   "codemirror_mode": {
    "name": "ipython",
    "version": 3
   },
   "file_extension": ".py",
   "mimetype": "text/x-python",
   "name": "python",
   "nbconvert_exporter": "python",
   "pygments_lexer": "ipython3",
   "version": "3.7.0"
  },
  "orig_nbformat": 4
 },
 "nbformat": 4,
 "nbformat_minor": 2
}
