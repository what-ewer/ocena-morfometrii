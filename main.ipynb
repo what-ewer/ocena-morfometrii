{
 "cells": [
  {
   "cell_type": "code",
   "execution_count": 2,
   "metadata": {},
   "outputs": [],
   "source": [
    "import re, os\n",
    "from src.graph_parameters import GraphParameters\n",
    "from src.graph_stats import GraphStats\n",
    "from src.dag_generational_comparison import DAG_GenerationalComparison\n",
    "from src.dag import DAG\n",
    "from src.node import Node\n",
    "from src.edge import Edge\n",
    "from src.utils import load_dag"
   ]
  },
  {
   "cell_type": "code",
   "execution_count": 3,
   "metadata": {},
   "outputs": [
    {
     "name": "stdout",
     "output_type": "stream",
     "text": [
      "Currently avalible graph files: ['.\\\\data\\\\P01\\\\dag.pkl', '.\\\\data\\\\P07\\\\dag.pkl', '.\\\\data\\\\P09\\\\dag.pkl', '.\\\\data\\\\P12\\\\dag.pkl', '.\\\\data\\\\P18\\\\dag.pkl']\n"
     ]
    }
   ],
   "source": [
    "pkl_re = re.compile('.*P[0-9]*\\\\\\\\dag.pkl')\n",
    "data_files = [os.path.join(path, name) for path, _, files in os.walk('.\\\\data') for name in files]\n",
    "graph_files = list(filter(pkl_re.match, data_files)) \n",
    "print(f\"Currently avalible graph files: {graph_files}\")\n",
    "\n",
    "dag_names = []\n",
    "dags = []\n",
    "\n",
    "for g in graph_files:\n",
    "    dag_id = g.split('data\\\\')[1].split('\\\\')[0]\n",
    "    dag_stats = f'results/{dag_id}_dag_with_stats.pkl'\n",
    "    rec_file = g.split('dag.pkl')[0] + 'reconstruction.npy'\n",
    "    # gp = GraphParameters(g, rec_file, dag_id=dag_id)\n",
    "    # gs = GraphStats(gp.dag, dag_id)\n",
    "    dag_with_stats = load_dag(dag_stats)\n",
    "    # gs.generate_all_stats()\n",
    "\n",
    "    dags.append(dag_with_stats)\n",
    "    dag_names.append(dag_id)"
   ]
  },
  {
   "cell_type": "code",
   "execution_count": 30,
   "metadata": {},
   "outputs": [],
   "source": [
    "import matplotlib.pyplot as plt\n",
    "import numpy as np\n",
    "import csv\n",
    "\n",
    "class DAG_GenerationalComparison:\n",
    "    def __init__(self, dags, dag_names, max_gen=8):\n",
    "        self.dags = dags\n",
    "        self.dag_names = dag_names\n",
    "        assert len(dags) == len(dag_names)\n",
    "        self.max_gen = max_gen\n",
    "\n",
    "    def __get_plot_comparison(self, data, title):\n",
    "        figure, axis = plt.subplots(self.max_gen, 1)\n",
    "        figure.set_size_inches(8, self.max_gen * 4)\n",
    "        for gen in range(1, self.max_gen+1):\n",
    "            axis[gen-1].set_title(f'Generation {gen}')\n",
    "            axis[gen-1].plot(self.dag_names, [data[gen-1][graph] for graph in range(len(self.dags))], 'd')\n",
    "            \n",
    "        plt.xlabel('Liver Graph')\n",
    "        plt.ylabel('Generation')\n",
    "        plt.savefig(f\"results/graph_comparison_{title}\")\n",
    "        plt.clf()\n",
    "\n",
    "    def __get_boxplot_comparison(self, data, title):\n",
    "        figure, axis = plt.subplots(self.max_gen, 1)\n",
    "        figure.set_size_inches(8, self.max_gen * 4)\n",
    "        plt.setp(axis, xticklabels=self.dag_names)\n",
    "        for gen in range(1, self.max_gen+1):\n",
    "            axis[gen-1].set_title(f'Generation {gen}')\n",
    "            axis[gen-1].boxplot([data[gen-1][graph] for graph in range(len(self.dags))], showfliers=False)\n",
    "            \n",
    "        plt.xlabel('Liver Graph')\n",
    "        plt.ylabel('Generation')\n",
    "        plt.savefig(f\"results/graph_comparison_{title}\")\n",
    "        plt.clf()\n",
    "\n",
    "    def __generational_comparison(self, data, title, y_label):\n",
    "        for d in data:\n",
    "            sd = sum(d)\n",
    "            for i in range(len(d)):\n",
    "                d[i] /= sd\n",
    "\n",
    "        gens = [i+1 for i in range(self.max_gen)]\n",
    "        plot_data = []\n",
    "        \n",
    "        for i,d in enumerate(data):\n",
    "            plot_data.append(gens)\n",
    "            plot_data.append(d)\n",
    "\n",
    "        plt.plot(*plot_data)\n",
    "        plt.legend(self.dag_names)\n",
    "        plt.ylabel(y_label)\n",
    "        plt.xlabel('Generation')\n",
    "        plt.savefig(f\"results/generational_comparison_{title}\")\n",
    "        print(plot_data[1::2])\n",
    "        with open('GFG', 'w') as f:\n",
    "            # using csv.writer method from CSV package\n",
    "            write = csv.writer(f)\n",
    "            write.writerow([i+1 for i in range(self.max_gen)])\n",
    "            write.writerows(plot_data[1::2])\n",
    "        plt.clf()\n",
    "\n",
    "    def __compare_lengths(self):\n",
    "        lengths_per_gen_per_graph = [[[] for _ in range(len(self.dags))] for _ in range(self.max_gen)]\n",
    "\n",
    "        for i, d in enumerate(self.dags):\n",
    "            lengths_generations = [(edge['length'], edge['generation']) for edge in d.edges]\n",
    "            for e in lengths_generations:\n",
    "                if (e[1]-1 < self.max_gen):\n",
    "                    lengths_per_gen_per_graph[e[1]-1][i].append(e[0])\n",
    "\n",
    "        edges_per_gen_per_graph = [[len(lengths_per_gen_per_graph[g][i]) for i in range(len(self.dags))] for g in range(self.max_gen)]\n",
    "        edges_per_graph_per_gen = [[edges_per_gen_per_graph[g][i] for g in range(self.max_gen)] for i in range(len(self.dags))]\n",
    "\n",
    "        self.__get_boxplot_comparison(lengths_per_gen_per_graph, \"lengths_per_generation\")\n",
    "        self.__get_plot_comparison(edges_per_gen_per_graph, \"edges_per_generation\")\n",
    "        self.__generational_comparison(edges_per_graph_per_gen, \"edges_per_graph_per_gen\", \"edges / total edges\")\n",
    "\n",
    "\n",
    "    def __compare_diameters(self):\n",
    "        diameters_per_gen_per_graph = [[[] for _ in range(len(self.dags))] for _ in range(self.max_gen)]\n",
    "        for i, d in enumerate(self.dags):\n",
    "            diameters_generations = [(edge['mean_radius'], edge['generation']) for edge in d.edges]\n",
    "            for e in diameters_generations:\n",
    "                if (e[1]-1 < self.max_gen):\n",
    "                    diameters_per_gen_per_graph[e[1]-1][i].append(e[0])\n",
    "\n",
    "        self.__get_boxplot_comparison(diameters_per_gen_per_graph, \"diameters_per_generation\")\n",
    "\n",
    "    def __compare_bifurcation_angles(self):\n",
    "        bifurcation_angles_per_gen_per_graph = [[[] for _ in range(len(self.dags))] for _ in range(self.max_gen)]\n",
    "        for i, d in enumerate(self.dags):\n",
    "            angles_generations = [(edge['relative_angle'] / np.pi * 180, edge['generation']) for edge in d.edges[1:]]\n",
    "            for e in angles_generations:\n",
    "                if (e[1]-1 < self.max_gen):\n",
    "                    bifurcation_angles_per_gen_per_graph[e[1]-1][i].append(e[0])\n",
    "\n",
    "        self.__get_boxplot_comparison(bifurcation_angles_per_gen_per_graph, \"bifurcation_angles_per_generation\")\n",
    "\n",
    "    def __compare_tortuosities(self):\n",
    "        tortuosities_per_gen_per_graph = [[[] for _ in range(len(self.dags))] for _ in range(self.max_gen)]\n",
    "        for i, d in enumerate(self.dags):\n",
    "            tortuosities_generations = [(edge['tortuosity'], edge['generation']) for edge in d.edges]\n",
    "            for e in tortuosities_generations:\n",
    "                if (e[1]-1 < self.max_gen):\n",
    "                    tortuosities_per_gen_per_graph[e[1]-1][i].append(e[0])\n",
    "\n",
    "        self.__get_boxplot_comparison(tortuosities_per_gen_per_graph, \"tortuosities_per_generation\")\n",
    "\n",
    "    def __compare_interstitial_distances(self):\n",
    "        interstitial_distances_per_gen_per_graph = [[[] for _ in range(len(self.dags))] for _ in range(self.max_gen)]\n",
    "        for i, d in enumerate(self.dags):\n",
    "            interstitial_distances_generations = [(edge['interstitial_distance'], edge['generation']) for edge in d.edges]\n",
    "            for e in interstitial_distances_generations:\n",
    "                if (e[1]-1 < self.max_gen):\n",
    "                    interstitial_distances_per_gen_per_graph[e[1]-1][i].append(e[0])\n",
    "\n",
    "        self.__get_boxplot_comparison(interstitial_distances_per_gen_per_graph, \"interstitial_distances_angles_per_generation\")\n",
    "\n",
    "    def compare_all(self):\n",
    "        self.__compare_lengths()\n",
    "        # self.__compare_diameters()\n",
    "        # self.__compare_bifurcation_angles()\n",
    "        # self.__compare_tortuosities()\n",
    "        # self.__compare_interstitial_distances()"
   ]
  },
  {
   "cell_type": "code",
   "execution_count": 31,
   "metadata": {},
   "outputs": [
    {
     "name": "stderr",
     "output_type": "stream",
     "text": [
      "c:\\Users\\kopty\\AppData\\Local\\Programs\\Python\\Python37\\lib\\site-packages\\ipykernel_launcher.py:27: UserWarning: FixedFormatter should only be used together with FixedLocator\n"
     ]
    },
    {
     "name": "stdout",
     "output_type": "stream",
     "text": [
      "[[0.0016025641025641025, 0.008012820512820512, 0.019230769230769232, 0.046474358974358976, 0.09134615384615384, 0.18108974358974358, 0.27884615384615385, 0.3733974358974359], [0.001890359168241966, 0.005671077504725898, 0.015122873345935728, 0.034026465028355386, 0.07750472589792061, 0.15500945179584122, 0.28166351606805295, 0.42911153119092627], [0.004366812227074236, 0.008733624454148471, 0.021834061135371178, 0.048034934497816595, 0.1091703056768559, 0.21397379912663755, 0.2183406113537118, 0.37554585152838427], [0.0026041666666666665, 0.005208333333333333, 0.018229166666666668, 0.033854166666666664, 0.0703125, 0.14583333333333334, 0.2682291666666667, 0.4557291666666667], [0.0013568521031207597, 0.0027137042062415195, 0.013568521031207599, 0.04341926729986431, 0.07327001356852103, 0.1546811397557666, 0.2645861601085482, 0.44640434192673]]\n"
     ]
    },
    {
     "data": {
      "text/plain": [
       "<Figure size 576x2304 with 0 Axes>"
      ]
     },
     "metadata": {},
     "output_type": "display_data"
    },
    {
     "data": {
      "text/plain": [
       "<Figure size 576x2304 with 0 Axes>"
      ]
     },
     "metadata": {},
     "output_type": "display_data"
    }
   ],
   "source": [
    "dag_gen_comparison = DAG_GenerationalComparison(dags, dag_names, 8)\n",
    "dag_gen_comparison.compare_all()"
   ]
  },
  {
   "cell_type": "code",
   "execution_count": null,
   "metadata": {},
   "outputs": [],
   "source": []
  }
 ],
 "metadata": {
  "interpreter": {
   "hash": "4621226a8bc6b3af89fc8741b9adbfba9d66687f10f5589f24f90f61eff0d708"
  },
  "kernelspec": {
   "display_name": "Python 3.7.0 64-bit",
   "language": "python",
   "name": "python3"
  },
  "language_info": {
   "codemirror_mode": {
    "name": "ipython",
    "version": 3
   },
   "file_extension": ".py",
   "mimetype": "text/x-python",
   "name": "python",
   "nbconvert_exporter": "python",
   "pygments_lexer": "ipython3",
   "version": "3.7.0"
  },
  "orig_nbformat": 4
 },
 "nbformat": 4,
 "nbformat_minor": 2
}
