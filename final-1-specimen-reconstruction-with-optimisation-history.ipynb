{
 "cells": [
  {
   "cell_type": "code",
   "execution_count": 1,
   "metadata": {},
   "outputs": [],
   "source": [
    "import numpy as np\n",
    "import glob\n",
    "import matplotlib.pyplot as plt\n",
    "import pickle\n",
    "from skimage import measure, segmentation, feature\n",
    "from vis_utils import load_volume, VolumeVisualizer, ColorMapVisualizer\n",
    "from scipy.ndimage import zoom\n",
    "from scipy.signal import fftconvolve\n",
    "from skimage.morphology import skeletonize_3d, binary_dilation, convex_hull_image\n",
    "from skimage import filters, morphology\n",
    "from scipy import signal\n",
    "from skimage.filters import frangi, sato\n",
    "from PIL import Image\n",
    "from tqdm import tqdm\n",
    "\n",
    "from scipy.ndimage import zoom"
   ]
  },
  {
   "cell_type": "code",
   "execution_count": 2,
   "metadata": {},
   "outputs": [],
   "source": [
    "TREE_NAME = 'P02'"
   ]
  },
  {
   "cell_type": "markdown",
   "metadata": {},
   "source": [
    "## Loading specimen volume"
   ]
  },
  {
   "cell_type": "code",
   "execution_count": 3,
   "metadata": {
    "scrolled": true
   },
   "outputs": [
    {
     "data": {
      "text/plain": [
       "{'P01': './data\\\\P01\\\\P01_60um_1612x623x1108.raw',\n",
       " 'P02': './data\\\\P02\\\\P02_60um_1387x778x1149.raw',\n",
       " 'P03': './data\\\\P03\\\\P03_60um_1473x1163x1148.raw',\n",
       " 'P04': './data\\\\P04\\\\P04_60um_1273x466x1045.raw',\n",
       " 'P05': './data\\\\P05\\\\P05_60um_1454x817x1102.raw',\n",
       " 'P06': './data\\\\P06\\\\P06_60um_1425x564x1028.raw',\n",
       " 'P07': './data\\\\P07\\\\P7_60um_1216x692x926.raw',\n",
       " 'P08': './data\\\\P08\\\\P08_60um_1728x927x1149.raw',\n",
       " 'P09': './data\\\\P09\\\\P09_60um_1359x456x1040.raw',\n",
       " 'P10': './data\\\\P10\\\\P10_60um_1339x537x1035.raw',\n",
       " 'P11': './data\\\\P11\\\\P11_60um_1735x595x1150.raw',\n",
       " 'P12': './data\\\\P12\\\\P12_60um_1333x443x864.raw',\n",
       " 'P13': './data\\\\P13\\\\P13_60um_1132x488x877.raw',\n",
       " 'P14': './data\\\\P14\\\\P14_60um_1927x746x1124.raw',\n",
       " 'P15': './data\\\\P15\\\\P15_60um_1318x640x1059.raw',\n",
       " 'P16': './data\\\\P16\\\\P16_60um_1558x687x1084.raw',\n",
       " 'P17': './data\\\\P17\\\\P17_60um_1573x555x968.raw',\n",
       " 'P18': './data\\\\P18\\\\73_60um_1729x854x1143.raw',\n",
       " 'P19': './data\\\\P19\\\\320_60um_1739x553x960.raw',\n",
       " 'P20': './data\\\\P20\\\\333_60um_1762x989x1095.raw',\n",
       " 'P21': './data\\\\P21\\\\Nerka7_60um_1590x727x1149.raw',\n",
       " 'P22': './data\\\\P22\\\\Nerka31_60um_1611x687x1089.raw',\n",
       " 'P23': './data\\\\P23\\\\Nerka25_60um_1656x558x986.raw',\n",
       " 'P24': './data\\\\P24\\\\Nerka40_60um_1554x546x1150.raw',\n",
       " 'P25': './data\\\\P25\\\\nerka55_60um_1654x507x1138.raw',\n",
       " 'P26': './data\\\\P26\\\\nerka66_60um_1800x580x1150.raw',\n",
       " 'P27': './data\\\\P27\\\\nerka88_60um_1372x590x1102.raw',\n",
       " 'P28': './data\\\\P28\\\\Nerka11_60um_1463x576x1150.raw'}"
      ]
     },
     "execution_count": 3,
     "metadata": {},
     "output_type": "execute_result"
    }
   ],
   "source": [
    "source_dir = './data/'\n",
    "files = {path.split('\\\\')[1]: path for path in sorted(glob.glob(source_dir + '*/*.raw'))}\n",
    "files"
   ]
  },
  {
   "cell_type": "code",
   "execution_count": 4,
   "metadata": {},
   "outputs": [
    {
     "name": "stdout",
     "output_type": "stream",
     "text": [
      "(1149, 778, 1387)\n",
      "Wall time: 2.83 s\n"
     ]
    }
   ],
   "source": [
    "%%time\n",
    "\n",
    "# scales = {\n",
    "#     'P01': 0.5,\n",
    "#     'P04': 0.5,\n",
    "#     'P05': 0.5,\n",
    "#     'P12': 0.5,\n",
    "# }\n",
    "\n",
    "volume = load_volume(files[TREE_NAME]) #, scale=scales.get(TREE_NAME, 0.5))\n",
    "print(volume.shape)\n",
    "# VolumeVisualizer(volume, binary=False).visualize()"
   ]
  },
  {
   "cell_type": "markdown",
   "metadata": {},
   "source": [
    "## Utility visualisation functions"
   ]
  },
  {
   "cell_type": "code",
   "execution_count": 5,
   "metadata": {},
   "outputs": [],
   "source": [
    "def visualize_addition(base, base_with_addition):\n",
    "    base = (base.copy() > 0).astype(np.uint8)\n",
    "    addition = (base_with_addition > 0).astype(np.uint8)\n",
    "    addition[base == 1] = 0\n",
    "    ColorMapVisualizer(base + addition * 4).visualize()\n",
    "    \n",
    "def visualize_lsd(lsd_mask):\n",
    "    ColorMapVisualizer(lsd_mask.astype(np.uint8)).visualize()\n",
    "    \n",
    "def visualize_gradient(lsd_mask):\n",
    "    ColorMapVisualizer(lsd_mask.astype(np.uint8)).visualize(gradient=True)\n",
    "    \n",
    "def visualize_mask_bin(mask):\n",
    "    VolumeVisualizer((mask > 0).astype(np.uint8), binary=True).visualize()\n",
    "    \n",
    "def visualize_mask_non_bin(mask):\n",
    "    VolumeVisualizer((mask > 0).astype(np.uint8) * 255, binary=False).visualize()\n",
    "    \n",
    "def visualize_skeleton(mask, visualize_mask=True, visualize_both_versions=False):\n",
    "    skeleton = skeletonize_3d((mask > 0).astype(np.uint8))\n",
    "    if not visualize_mask or visualize_both_versions:\n",
    "        VolumeVisualizer(skeleton, binary=True).visualize()\n",
    "    if visualize_mask or visualize_both_versions:\n",
    "        skeleton = skeleton.astype(np.uint8) * 4\n",
    "        mask = (mask > 0).astype(np.uint8) * 3\n",
    "        mask[skeleton != 0] = 0\n",
    "        ColorMapVisualizer(skeleton + mask).visualize()\n",
    "\n",
    "def visualize_ultimate(lsd, base_mask):\n",
    "    visualize_lsd(lsd)\n",
    "    visualize_mask_non_bin(lsd)\n",
    "    visualize_addition(base_mask, lsd)\n",
    "    visualize_skeleton(lsd, visualize_mask=True)"
   ]
  },
  {
   "cell_type": "markdown",
   "metadata": {},
   "source": [
    "## Thresholding volume to get binary mask"
   ]
  },
  {
   "cell_type": "code",
   "execution_count": 6,
   "metadata": {},
   "outputs": [],
   "source": [
    "VolumeVisualizer(volume, binary=False).visualize()"
   ]
  },
  {
   "cell_type": "code",
   "execution_count": 7,
   "metadata": {},
   "outputs": [],
   "source": [
    "thresholds = {\n",
    "    'P01': 21,\n",
    "    'P02': 26,\n",
    "    'P04': 30,\n",
    "    'P05': 24,\n",
    "    'P12': 70,\n",
    "}\n",
    "\n",
    "mask = volume > thresholds[TREE_NAME]\n",
    "# volume = None\n",
    "visualize_mask_bin(mask)"
   ]
  },
  {
   "cell_type": "code",
   "execution_count": 8,
   "metadata": {},
   "outputs": [],
   "source": [
    "visualize_mask_non_bin(mask)"
   ]
  },
  {
   "cell_type": "markdown",
   "metadata": {},
   "source": [
    "## Extracting main region "
   ]
  },
  {
   "cell_type": "code",
   "execution_count": 10,
   "metadata": {},
   "outputs": [],
   "source": [
    "def get_main_regions(binary_mask, min_size=10_000, connectivity=3):\n",
    "    labeled = measure.label(binary_mask, connectivity=connectivity)\n",
    "    region_props = measure.regionprops(labeled)\n",
    "    \n",
    "    main_regions = np.zeros(binary_mask.shape)\n",
    "    bounding_boxes = []\n",
    "    for props in region_props:\n",
    "        if props.area >= min_size:\n",
    "            bounding_boxes.append(props.bbox)\n",
    "            main_regions = np.logical_or(main_regions, labeled==props.label)\n",
    "            \n",
    "    lower_bounds = np.min(bounding_boxes, axis=0)[:3]\n",
    "    upper_bounds = np.max(bounding_boxes, axis=0)[3:]\n",
    "\n",
    "    return main_regions[\n",
    "        lower_bounds[0]:upper_bounds[0],\n",
    "        lower_bounds[1]:upper_bounds[1],\n",
    "        lower_bounds[2]:upper_bounds[2],\n",
    "    ], bounding_boxes\n",
    "\n",
    "# def get_main_regions(binary_mask, min_size=10_000, connectivity=3):\n",
    "#     labeled = measure.label(binary_mask, connectivity=connectivity)\n",
    "#     region_props = measure.regionprops(labeled)\n",
    "    \n",
    "#     main_regions_masks = []\n",
    "#     regions_labels = []\n",
    "#     bounding_boxes = []\n",
    "    \n",
    "#     for props in region_props:\n",
    "#         if props.area >= min_size:\n",
    "#             main_regions_masks.append(props.filled_image)\n",
    "#             regions_labels.append(props.label)\n",
    "#             bounding_boxes.append(props.bbox)\n",
    "            \n",
    "#     return main_regions_masks, regions_labels, bounding_boxes"
   ]
  },
  {
   "cell_type": "code",
   "execution_count": 13,
   "metadata": {},
   "outputs": [
    {
     "name": "stdout",
     "output_type": "stream",
     "text": [
      "number of main regions: 2\n"
     ]
    }
   ],
   "source": [
    "main_region_min_size = {\n",
    "    'P01': 30_000,\n",
    "    'P04': 30_000,\n",
    "    'P05': 30_000,\n",
    "    'P12': 30_000,\n",
    "}\n",
    "\n",
    "main_regions, bounding_boxes = get_main_regions(mask, min_size=main_region_min_size.get(TREE_NAME, 20_000))\n",
    "print('number of main regions:', len(bounding_boxes))\n",
    "mask_main = main_regions\n",
    "# mask = None\n",
    "visualize_mask_non_bin(mask_main)"
   ]
  },
  {
   "cell_type": "markdown",
   "metadata": {},
   "source": [
    "# Creating reconstruction using resolution scaling"
   ]
  },
  {
   "cell_type": "code",
   "execution_count": 17,
   "metadata": {},
   "outputs": [],
   "source": [
    "def scale_mask(mask, scale, order=0):\n",
    "    return zoom(mask, scale, order=order)\n",
    "    \n",
    "def verify_mask(mask):\n",
    "    regions_count = np.max(measure.label(mask, connectivity=3))\n",
    "    return \"good mask\" if regions_count == 1 else f\"scattered mask, number of regions: {regions_count}\""
   ]
  },
  {
   "cell_type": "markdown",
   "metadata": {},
   "source": [
    "### Creating reconstruction of scaled tree"
   ]
  },
  {
   "cell_type": "code",
   "execution_count": 20,
   "metadata": {},
   "outputs": [
    {
     "name": "stdout",
     "output_type": "stream",
     "text": [
      "scaled volume shape (804, 545, 971)\n",
      "number of s main regions: 2\n",
      "Wall time: 17.3 s\n"
     ]
    },
    {
     "data": {
      "text/plain": [
       "'scattered mask, number of regions: 2'"
      ]
     },
     "execution_count": 20,
     "metadata": {},
     "output_type": "execute_result"
    }
   ],
   "source": [
    "%%time\n",
    "scales = {\n",
    "    'P01': 0.5,\n",
    "    'P02': 0.7,\n",
    "    'P04': 0.5,\n",
    "    'P05': 0.5,\n",
    "    'P12': 0.5,\n",
    "}\n",
    "s_main_region_min_size = {\n",
    "    'P01': 10_000,\n",
    "    'P04': 10_000,\n",
    "    'P05': 10_000,\n",
    "    'P12': 10_000,\n",
    "}\n",
    "\n",
    "s_volume = load_volume(files[TREE_NAME], scale=scales.get(TREE_NAME, 0.5))\n",
    "print('scaled volume shape', s_volume.shape)\n",
    "s_mask = s_volume > thresholds[TREE_NAME]\n",
    "s_volume = None\n",
    "s_main_regions, s_bounding_boxes = get_main_regions(s_mask, min_size=s_main_region_min_size.get(TREE_NAME, 10_000))\n",
    "print('number of s main regions:', len(s_bounding_boxes))\n",
    "s_mask_main = s_main_regions\n",
    "s_mask = None\n",
    "s_main_regions = None\n",
    "verify_mask(s_mask_main)"
   ]
  },
  {
   "cell_type": "code",
   "execution_count": 21,
   "metadata": {},
   "outputs": [],
   "source": [
    "visualize_mask_bin(s_mask_main)"
   ]
  },
  {
   "cell_type": "code",
   "execution_count": 22,
   "metadata": {},
   "outputs": [],
   "source": [
    "def spherical_kernel(outer_radius, thickness=1, filled=True):    \n",
    "    outer_sphere = morphology.ball(radius=outer_radius)\n",
    "    if filled:\n",
    "        return outer_sphere\n",
    "    \n",
    "    thickness = min(thickness, outer_radius)\n",
    "    \n",
    "    inner_radius = outer_radius - thickness\n",
    "    inner_sphere = morphology.ball(radius=inner_radius)\n",
    "    \n",
    "    begin = outer_radius - inner_radius\n",
    "    end = begin + inner_sphere.shape[0]\n",
    "    outer_sphere[begin:end, begin:end, begin:end] -= inner_sphere\n",
    "    return outer_sphere\n",
    "\n",
    "def convolve_with_ball(img, ball_radius, dtype=np.uint16, normalize=True, fft=True):\n",
    "    kernel = spherical_kernel(ball_radius, filled=True)\n",
    "    if fft:\n",
    "        convolved = fftconvolve(img.astype(dtype), kernel.astype(dtype), mode='same')\n",
    "    else:\n",
    "        convolved = signal.convolve(img.astype(dtype), kernel.astype(dtype), mode='same')\n",
    "    \n",
    "    if not normalize:\n",
    "        return convolved\n",
    "    \n",
    "    return (convolved / kernel.sum()).astype(np.float16)\n",
    "\n",
    "def calculate_reconstruction(mask, kernel_sizes=[10, 9, 8], fill_threshold=0.5, iters=1, conv_dtype=np.uint16, fft=True):\n",
    "    kernel_sizes_maps = []\n",
    "    mask = mask.astype(np.uint8)\n",
    "    \n",
    "    for i in range(iters):\n",
    "        kernel_size_map = np.zeros(mask.shape, dtype=np.uint8)\n",
    "\n",
    "        for kernel_size in kernel_sizes:\n",
    "            fill_percentage = convolve_with_ball(mask, kernel_size, dtype=conv_dtype, normalize=True, fft=fft)\n",
    "            \n",
    "            above_threshold_fill_indices = fill_percentage > fill_threshold\n",
    "            kernel_size_map[above_threshold_fill_indices] = kernel_size + 1\n",
    "\n",
    "            mask[above_threshold_fill_indices] = 1\n",
    "            \n",
    "            print(f'Iteration {i + 1} kernel {kernel_size} done')\n",
    "\n",
    "        kernel_sizes_maps.append(kernel_size_map)\n",
    "        print(f'Iteration {i + 1} ended successfully')\n",
    "\n",
    "    return kernel_sizes_maps"
   ]
  },
  {
   "cell_type": "code",
   "execution_count": 23,
   "metadata": {
    "scrolled": true
   },
   "outputs": [
    {
     "name": "stdout",
     "output_type": "stream",
     "text": [
      "Iteration 1 kernel 0 done\n",
      "Iteration 1 kernel 1 done\n",
      "Iteration 1 kernel 2 done\n",
      "Iteration 1 kernel 3 done\n",
      "Iteration 1 kernel 4 done\n",
      "Iteration 1 kernel 5 done\n",
      "Iteration 1 kernel 6 done\n",
      "Iteration 1 kernel 7 done\n",
      "Iteration 1 kernel 8 done\n",
      "Iteration 1 kernel 9 done\n",
      "Iteration 1 kernel 10 done\n",
      "Iteration 1 kernel 11 done\n",
      "Iteration 1 kernel 12 done\n",
      "Iteration 1 kernel 13 done\n",
      "Iteration 1 ended successfully\n",
      "Iteration 2 kernel 0 done\n",
      "Iteration 2 kernel 1 done\n",
      "Iteration 2 kernel 2 done\n",
      "Iteration 2 kernel 3 done\n",
      "Iteration 2 kernel 4 done\n",
      "Iteration 2 kernel 5 done\n",
      "Iteration 2 kernel 6 done\n",
      "Iteration 2 kernel 7 done\n",
      "Iteration 2 kernel 8 done\n",
      "Iteration 2 kernel 9 done\n",
      "Iteration 2 kernel 10 done\n",
      "Iteration 2 kernel 11 done\n",
      "Iteration 2 kernel 12 done\n",
      "Iteration 2 kernel 13 done\n",
      "Iteration 2 ended successfully\n",
      "Iteration 3 kernel 0 done\n",
      "Iteration 3 kernel 1 done\n",
      "Iteration 3 kernel 2 done\n",
      "Iteration 3 kernel 3 done\n",
      "Iteration 3 kernel 4 done\n",
      "Iteration 3 kernel 5 done\n",
      "Iteration 3 kernel 6 done\n",
      "Iteration 3 kernel 7 done\n",
      "Iteration 3 kernel 8 done\n",
      "Iteration 3 kernel 9 done\n",
      "Iteration 3 kernel 10 done\n",
      "Iteration 3 kernel 11 done\n",
      "Iteration 3 kernel 12 done\n",
      "Iteration 3 kernel 13 done\n",
      "Iteration 3 ended successfully\n",
      "Iteration 4 kernel 0 done\n",
      "Iteration 4 kernel 1 done\n",
      "Iteration 4 kernel 2 done\n",
      "Iteration 4 kernel 3 done\n",
      "Iteration 4 kernel 4 done\n",
      "Iteration 4 kernel 5 done\n",
      "Iteration 4 kernel 6 done\n",
      "Iteration 4 kernel 7 done\n",
      "Iteration 4 kernel 8 done\n",
      "Iteration 4 kernel 9 done\n",
      "Iteration 4 kernel 10 done\n",
      "Iteration 4 kernel 11 done\n",
      "Iteration 4 kernel 12 done\n",
      "Iteration 4 kernel 13 done\n",
      "Iteration 4 ended successfully\n",
      "Iteration 5 kernel 0 done\n",
      "Iteration 5 kernel 1 done\n",
      "Iteration 5 kernel 2 done\n",
      "Iteration 5 kernel 3 done\n",
      "Iteration 5 kernel 4 done\n",
      "Iteration 5 kernel 5 done\n",
      "Iteration 5 kernel 6 done\n",
      "Iteration 5 kernel 7 done\n",
      "Iteration 5 kernel 8 done\n",
      "Iteration 5 kernel 9 done\n",
      "Iteration 5 kernel 10 done\n",
      "Iteration 5 kernel 11 done\n",
      "Iteration 5 kernel 12 done\n",
      "Iteration 5 kernel 13 done\n",
      "Iteration 5 ended successfully\n",
      "Wall time: 45min 50s\n"
     ]
    }
   ],
   "source": [
    "%%time\n",
    "\n",
    "s_kernel_sizes = {\n",
    "    'P01': range(0, 14),\n",
    "    'P02': range(0, 14),\n",
    "    'P04': range(0, 13),\n",
    "    'P05': range(0, 13),\n",
    "    'P12': range(0, 13),\n",
    "}\n",
    "\n",
    "s_number_of_iterations = {\n",
    "    'P01': 7,\n",
    "    'P02': 5,\n",
    "    'P04': 2,\n",
    "    'P05': 3,\n",
    "    'P12': 3,\n",
    "}\n",
    "\n",
    "s_recos = calculate_reconstruction(s_mask_main, \n",
    "                                   kernel_sizes=s_kernel_sizes.get(TREE_NAME, range(0, 13)), \n",
    "                                   iters=s_number_of_iterations.get(TREE_NAME, 3))"
   ]
  },
  {
   "cell_type": "code",
   "execution_count": 24,
   "metadata": {},
   "outputs": [
    {
     "data": {
      "text/plain": [
       "'good mask'"
      ]
     },
     "execution_count": 24,
     "metadata": {},
     "output_type": "execute_result"
    }
   ],
   "source": [
    "s_reco = s_recos[-1] > 0\n",
    "verify_mask(s_reco)\n",
    "# visualize_mask_non_bin(s_reco)\n",
    "# visualize_addition(s_mask_main, s_reco)"
   ]
  },
  {
   "cell_type": "markdown",
   "metadata": {},
   "source": [
    "### Scaling up and trimming reconstruction of scaled tree"
   ]
  },
  {
   "cell_type": "code",
   "execution_count": 25,
   "metadata": {},
   "outputs": [],
   "source": [
    "def upscale_reconstruction(s_reco, scale):\n",
    "    upscale = 1 / scale\n",
    "    u_reco = scale_mask(s_reco, upscale, order=3)\n",
    "    return u_reco"
   ]
  },
  {
   "cell_type": "code",
   "execution_count": 26,
   "metadata": {},
   "outputs": [
    {
     "name": "stdout",
     "output_type": "stream",
     "text": [
      "Wall time: 4min 52s\n"
     ]
    }
   ],
   "source": [
    "%%time\n",
    "u_reco = upscale_reconstruction(s_reco, scale=scales.get(TREE_NAME, 0.5))"
   ]
  },
  {
   "cell_type": "code",
   "execution_count": 27,
   "metadata": {},
   "outputs": [
    {
     "name": "stdout",
     "output_type": "stream",
     "text": [
      "mask_main shape (1121, 719, 1260) u_reco shape (1120, 720, 1259)\n",
      "final shape [1120  719 1259]\n"
     ]
    }
   ],
   "source": [
    "shape = np.min([mask_main.shape, u_reco.shape], axis=0)\n",
    "print('mask_main shape', mask_main.shape, 'u_reco shape', u_reco.shape)\n",
    "print('final shape', shape)\n",
    "mask_main_r = mask_main[:shape[0], :shape[1], :shape[2]]\n",
    "u_reco_r = u_reco[:shape[0], :shape[1], :shape[2]]"
   ]
  },
  {
   "cell_type": "code",
   "execution_count": 28,
   "metadata": {
    "scrolled": true
   },
   "outputs": [
    {
     "name": "stdout",
     "output_type": "stream",
     "text": [
      "number of main regions: 1\n"
     ]
    }
   ],
   "source": [
    "joint_reco = np.logical_or(mask_main_r, u_reco_r)\n",
    "verify_mask(joint_reco)\n",
    "main_regions, bounding_boxes = get_main_regions(joint_reco, min_size=main_region_min_size.get(TREE_NAME, 20_000))\n",
    "print('number of main regions:', len(bounding_boxes))\n",
    "joint_reco_main = main_regions\n",
    "mask = None\n",
    "main_regions = None\n",
    "new_joint_reco = np.logical_or(mask_main_r, joint_reco_main)\n",
    "# visualize_addition(mask_main_r, new_joint_reco)"
   ]
  },
  {
   "cell_type": "code",
   "execution_count": 29,
   "metadata": {},
   "outputs": [
    {
     "data": {
      "text/plain": [
       "(24107828, 24107169, 24107169)"
      ]
     },
     "execution_count": 29,
     "metadata": {},
     "output_type": "execute_result"
    }
   ],
   "source": [
    "np.sum(joint_reco), np.sum(joint_reco_main), np.sum(new_joint_reco)"
   ]
  },
  {
   "cell_type": "code",
   "execution_count": 30,
   "metadata": {},
   "outputs": [],
   "source": [
    "# def is_any_neighbour_in_mask(voxel, mask):\n",
    "#     for margin in [[0, 0, 0], [-1, 0, 0], [1, 0, 0], [0, -1, 0], [0, 1, 0], [0, 0, -1], [0, 0, 1]]:\n",
    "#         neighbour = voxel + margin\n",
    "#         if (np.zeros(3) <= neighbour).all() and (neighbour < mask.shape).all() and mask[tuple(neighbour)]:\n",
    "#             return True\n",
    "#     return False\n",
    "    \n",
    "\n",
    "# def trim_upscaled_reco(joint_reco, mask_main_r, min_removed=1000):\n",
    "#     reco = joint_reco.copy()\n",
    "#     removed_count = min_removed + 1\n",
    "#     while(removed_count >= min_removed):\n",
    "#         removed_count = 0\n",
    "#         convolution = convolve_with_ball(reco, 1)\n",
    "#         edge_voxels = np.argwhere(np.logical_and(convolution < 1, convolution > 0))\n",
    "#         print(f'{edge_voxels.shape[0]} edge voxels found')\n",
    "#         for edge_voxel in edge_voxels:\n",
    "#             if not is_any_neighbour_in_mask(edge_voxel, mask_main_r):\n",
    "#                 removed_count += 1\n",
    "#                 reco[tuple(edge_voxel)] = 0\n",
    "#         print('removed', removed_count, 'vertices,', 'finished' if removed_count < min_removed else 'continuing')\n",
    "#     return reco"
   ]
  },
  {
   "cell_type": "code",
   "execution_count": 31,
   "metadata": {},
   "outputs": [],
   "source": [
    "# new_joint_reco.sum()"
   ]
  },
  {
   "cell_type": "code",
   "execution_count": 32,
   "metadata": {},
   "outputs": [],
   "source": [
    "# %%time\n",
    "# trimmed_reco = trim_upscaled_reco(new_joint_reco, mask_main_r, min_removed=1000)"
   ]
  },
  {
   "cell_type": "code",
   "execution_count": 33,
   "metadata": {},
   "outputs": [],
   "source": [
    "trimmed_reco = new_joint_reco"
   ]
  },
  {
   "cell_type": "markdown",
   "metadata": {},
   "source": [
    "### Fine tuning full res reconstruction"
   ]
  },
  {
   "cell_type": "code",
   "execution_count": 34,
   "metadata": {
    "scrolled": true
   },
   "outputs": [
    {
     "name": "stdout",
     "output_type": "stream",
     "text": [
      "Iteration 1 kernel 0 done\n",
      "Iteration 1 kernel 1 done\n",
      "Iteration 1 kernel 2 done\n",
      "Iteration 1 kernel 3 done\n",
      "Iteration 1 kernel 4 done\n",
      "Iteration 1 kernel 5 done\n",
      "Iteration 1 kernel 6 done\n",
      "Iteration 1 kernel 7 done\n",
      "Iteration 1 kernel 8 done\n",
      "Iteration 1 kernel 9 done\n",
      "Iteration 1 kernel 10 done\n",
      "Iteration 1 kernel 11 done\n",
      "Iteration 1 kernel 12 done\n",
      "Iteration 1 kernel 13 done\n",
      "Iteration 1 kernel 14 done\n",
      "Iteration 1 kernel 15 done\n",
      "Iteration 1 kernel 16 done\n",
      "Iteration 1 kernel 17 done\n",
      "Iteration 1 kernel 18 done\n",
      "Iteration 1 kernel 19 done\n",
      "Iteration 1 kernel 20 done\n",
      "Iteration 1 kernel 21 done\n",
      "Iteration 1 kernel 22 done\n",
      "Iteration 1 kernel 23 done\n",
      "Iteration 1 kernel 24 done\n",
      "Iteration 1 kernel 25 done\n",
      "Iteration 1 kernel 26 done\n",
      "Iteration 1 kernel 27 done\n",
      "Iteration 1 ended successfully\n",
      "Wall time: 59min 58s\n"
     ]
    }
   ],
   "source": [
    "%%time\n",
    "\n",
    "ft_kernel_sizes = {\n",
    "    'P01': range(0, 28),\n",
    "    'P02': range(0, 28),\n",
    "    'P04': range(0, 26),\n",
    "    'P05': range(0, 26),\n",
    "    'P12': range(0, 26),\n",
    "}\n",
    "\n",
    "ft_number_of_iterations = {\n",
    "    'P01': 1,\n",
    "    'P02': 1,\n",
    "    'P04': 1,\n",
    "    'P05': 1,\n",
    "    'P12': 1,\n",
    "}\n",
    "\n",
    "ft_recos = calculate_reconstruction(new_joint_reco, \n",
    "                                    kernel_sizes=ft_kernel_sizes.get(TREE_NAME, range(0, 25)), \n",
    "                                    iters=ft_number_of_iterations.get(TREE_NAME, 1))"
   ]
  },
  {
   "cell_type": "code",
   "execution_count": 35,
   "metadata": {},
   "outputs": [],
   "source": [
    "reco = ft_recos[-1]"
   ]
  },
  {
   "cell_type": "code",
   "execution_count": 36,
   "metadata": {},
   "outputs": [],
   "source": [
    "# %%time\n",
    "# # second iter\n",
    "\n",
    "# ft_recos2 = calculate_reconstruction(reco, \n",
    "#                                     kernel_sizes=ft_kernel_sizes.get(TREE_NAME, range(0, 25)), \n",
    "#                                     iters=1)"
   ]
  },
  {
   "cell_type": "code",
   "execution_count": 37,
   "metadata": {},
   "outputs": [],
   "source": [
    "# reco2 = ft_recos2[-1]"
   ]
  },
  {
   "cell_type": "code",
   "execution_count": 38,
   "metadata": {},
   "outputs": [],
   "source": [
    "# Verify and save reconstruction"
   ]
  },
  {
   "cell_type": "code",
   "execution_count": 39,
   "metadata": {},
   "outputs": [],
   "source": [
    "# np.sum(reco != reco2)"
   ]
  },
  {
   "cell_type": "code",
   "execution_count": 40,
   "metadata": {},
   "outputs": [],
   "source": [
    "# visualize_skeleton(reco2)"
   ]
  },
  {
   "cell_type": "code",
   "execution_count": 41,
   "metadata": {},
   "outputs": [],
   "source": [
    "# visualize_mask_non_bin(reco)\n",
    "# visualize_skeleton(reco)"
   ]
  },
  {
   "cell_type": "code",
   "execution_count": 42,
   "metadata": {},
   "outputs": [],
   "source": [
    "# visualize_addition(mask_main_r, reco)"
   ]
  },
  {
   "cell_type": "code",
   "execution_count": 43,
   "metadata": {},
   "outputs": [],
   "source": [
    "padded_reco = np.pad(reco, 1) # padding reconstruction to avoid padding later\n",
    "np.save(source_dir + TREE_NAME + '/reco', padded_reco)"
   ]
  },
  {
   "cell_type": "code",
   "execution_count": null,
   "metadata": {},
   "outputs": [],
   "source": [
    "# pray for it to work"
   ]
  },
  {
   "cell_type": "code",
   "execution_count": 74,
   "metadata": {},
   "outputs": [],
   "source": [
    "old_reco = np.load(source_dir + TREE_NAME + '/reconstruction.npy')"
   ]
  },
  {
   "cell_type": "code",
   "execution_count": 79,
   "metadata": {},
   "outputs": [
    {
     "data": {
      "text/plain": [
       "(1096, 571, 1546)"
      ]
     },
     "execution_count": 79,
     "metadata": {},
     "output_type": "execute_result"
    }
   ],
   "source": [
    "reco.shape"
   ]
  },
  {
   "cell_type": "code",
   "execution_count": 78,
   "metadata": {},
   "outputs": [
    {
     "data": {
      "text/plain": [
       "(1098, 573, 1560)"
      ]
     },
     "execution_count": 78,
     "metadata": {},
     "output_type": "execute_result"
    }
   ],
   "source": [
    "old_reco.shape"
   ]
  },
  {
   "cell_type": "code",
   "execution_count": 82,
   "metadata": {},
   "outputs": [
    {
     "data": {
      "text/plain": [
       "(1096, 571, 1546)"
      ]
     },
     "execution_count": 82,
     "metadata": {},
     "output_type": "execute_result"
    }
   ],
   "source": [
    "old_reco[1:-1, 1:-1, 7:-7].shape"
   ]
  },
  {
   "cell_type": "code",
   "execution_count": 83,
   "metadata": {},
   "outputs": [
    {
     "data": {
      "text/plain": [
       "24223410"
      ]
     },
     "execution_count": 83,
     "metadata": {},
     "output_type": "execute_result"
    }
   ],
   "source": [
    "np.sum(reco != old_reco[1:-1, 1:-1, 7:-7])"
   ]
  },
  {
   "cell_type": "code",
   "execution_count": 84,
   "metadata": {},
   "outputs": [],
   "source": [
    "visualize_mask_non_bin(old_reco)"
   ]
  },
  {
   "cell_type": "code",
   "execution_count": 85,
   "metadata": {},
   "outputs": [],
   "source": [
    "visualize_skeleton(old_reco)"
   ]
  },
  {
   "cell_type": "code",
   "execution_count": 87,
   "metadata": {},
   "outputs": [],
   "source": [
    "visualize_addition(np.pad(mask_main, 1), old_reco)"
   ]
  },
  {
   "cell_type": "code",
   "execution_count": 86,
   "metadata": {},
   "outputs": [
    {
     "data": {
      "text/plain": [
       "(1096, 571, 1558)"
      ]
     },
     "execution_count": 86,
     "metadata": {},
     "output_type": "execute_result"
    }
   ],
   "source": [
    "mask_main.shape"
   ]
  },
  {
   "cell_type": "code",
   "execution_count": 89,
   "metadata": {},
   "outputs": [
    {
     "name": "stdout",
     "output_type": "stream",
     "text": [
      "Wall time: 6min 19s\n"
     ]
    }
   ],
   "source": [
    "%%time\n",
    "old_skel = skeletonize_3d((old_reco > 0).astype(np.uint8))\n",
    "skel = skeletonize_3d((reco > 0).astype(np.uint8))"
   ]
  },
  {
   "cell_type": "code",
   "execution_count": 91,
   "metadata": {},
   "outputs": [
    {
     "data": {
      "text/plain": [
       "(1096, 571, 1546)"
      ]
     },
     "execution_count": 91,
     "metadata": {},
     "output_type": "execute_result"
    }
   ],
   "source": [
    "skel.shape"
   ]
  },
  {
   "cell_type": "code",
   "execution_count": 92,
   "metadata": {},
   "outputs": [
    {
     "data": {
      "text/plain": [
       "(1098, 573, 1560)"
      ]
     },
     "execution_count": 92,
     "metadata": {},
     "output_type": "execute_result"
    }
   ],
   "source": [
    "old_skel.shape"
   ]
  },
  {
   "cell_type": "code",
   "execution_count": 93,
   "metadata": {},
   "outputs": [
    {
     "data": {
      "text/plain": [
       "157283"
      ]
     },
     "execution_count": 93,
     "metadata": {},
     "output_type": "execute_result"
    }
   ],
   "source": [
    "skel.sum()"
   ]
  },
  {
   "cell_type": "code",
   "execution_count": 94,
   "metadata": {},
   "outputs": [
    {
     "data": {
      "text/plain": [
       "153510"
      ]
     },
     "execution_count": 94,
     "metadata": {},
     "output_type": "execute_result"
    }
   ],
   "source": [
    "old_skel.sum()"
   ]
  },
  {
   "cell_type": "code",
   "execution_count": 113,
   "metadata": {},
   "outputs": [
    {
     "data": {
      "text/plain": [
       "157283"
      ]
     },
     "execution_count": 113,
     "metadata": {},
     "output_type": "execute_result"
    }
   ],
   "source": [
    "skel[1:-1, 1:-1, 2:-1].sum()"
   ]
  },
  {
   "cell_type": "code",
   "execution_count": 114,
   "metadata": {},
   "outputs": [
    {
     "data": {
      "text/plain": [
       "279506"
      ]
     },
     "execution_count": 114,
     "metadata": {},
     "output_type": "execute_result"
    }
   ],
   "source": [
    "np.sum(skel != old_skel[1:-1, 1:-1, 1:-13])"
   ]
  },
  {
   "cell_type": "code",
   "execution_count": 115,
   "metadata": {},
   "outputs": [],
   "source": [
    "visualize_addition(old_skel[1:-1, 1:-1, 1:-13], skel)"
   ]
  },
  {
   "cell_type": "code",
   "execution_count": 116,
   "metadata": {},
   "outputs": [],
   "source": [
    "visualize_mask_bin(skel)"
   ]
  },
  {
   "cell_type": "code",
   "execution_count": null,
   "metadata": {},
   "outputs": [],
   "source": []
  },
  {
   "cell_type": "code",
   "execution_count": null,
   "metadata": {},
   "outputs": [],
   "source": []
  },
  {
   "cell_type": "code",
   "execution_count": null,
   "metadata": {},
   "outputs": [],
   "source": []
  },
  {
   "cell_type": "code",
   "execution_count": 22,
   "metadata": {},
   "outputs": [
    {
     "data": {
      "text/plain": [
       "'scattered mask!!! number of regions: 767'"
      ]
     },
     "execution_count": 22,
     "metadata": {},
     "output_type": "execute_result"
    }
   ],
   "source": [
    "scales = {\n",
    "    'P01': 0.5,\n",
    "    'P04': 0.5,\n",
    "    'P05': 0.5,\n",
    "    'P12': 0.5,\n",
    "}\n",
    "\n",
    "scaled_mask = scale_mask(mask_main, scale=scales.get(TREE_NAME, 0.5))\n",
    "verify_mask(scaled_mask)"
   ]
  },
  {
   "cell_type": "code",
   "execution_count": 18,
   "metadata": {},
   "outputs": [],
   "source": [
    "visualize_mask_non_bin(scaled_mask)"
   ]
  },
  {
   "cell_type": "code",
   "execution_count": 29,
   "metadata": {
    "scrolled": true
   },
   "outputs": [
    {
     "name": "stdout",
     "output_type": "stream",
     "text": [
      "Iteration 1 kernel 0 done\n",
      "Iteration 1 kernel 1 done\n",
      "Iteration 1 kernel 2 done\n",
      "Iteration 1 kernel 3 done\n",
      "Iteration 1 kernel 4 done\n",
      "Iteration 1 kernel 5 done\n",
      "Iteration 1 kernel 6 done\n",
      "Iteration 1 kernel 7 done\n",
      "Iteration 1 kernel 8 done\n",
      "Iteration 1 kernel 9 done\n",
      "Iteration 1 kernel 10 done\n",
      "Iteration 1 kernel 11 done\n",
      "Iteration 1 kernel 12 done\n",
      "Iteration 1 kernel 13 done\n",
      "Iteration 1 ended successfully\n",
      "Iteration 2 kernel 0 done\n",
      "Iteration 2 kernel 1 done\n",
      "Iteration 2 kernel 2 done\n",
      "Iteration 2 kernel 3 done\n",
      "Iteration 2 kernel 4 done\n",
      "Iteration 2 kernel 5 done\n",
      "Iteration 2 kernel 6 done\n",
      "Iteration 2 kernel 7 done\n",
      "Iteration 2 kernel 8 done\n",
      "Iteration 2 kernel 9 done\n",
      "Iteration 2 kernel 10 done\n",
      "Iteration 2 kernel 11 done\n",
      "Iteration 2 kernel 12 done\n",
      "Iteration 2 kernel 13 done\n",
      "Iteration 2 ended successfully\n",
      "Iteration 3 kernel 0 done\n",
      "Iteration 3 kernel 1 done\n",
      "Iteration 3 kernel 2 done\n",
      "Iteration 3 kernel 3 done\n",
      "Iteration 3 kernel 4 done\n",
      "Iteration 3 kernel 5 done\n",
      "Iteration 3 kernel 6 done\n",
      "Iteration 3 kernel 7 done\n",
      "Iteration 3 kernel 8 done\n",
      "Iteration 3 kernel 9 done\n",
      "Iteration 3 kernel 10 done\n",
      "Iteration 3 kernel 11 done\n",
      "Iteration 3 kernel 12 done\n",
      "Iteration 3 kernel 13 done\n",
      "Iteration 3 ended successfully\n",
      "Iteration 4 kernel 0 done\n",
      "Iteration 4 kernel 1 done\n",
      "Iteration 4 kernel 2 done\n",
      "Iteration 4 kernel 3 done\n",
      "Iteration 4 kernel 4 done\n",
      "Iteration 4 kernel 5 done\n",
      "Iteration 4 kernel 6 done\n",
      "Iteration 4 kernel 7 done\n",
      "Iteration 4 kernel 8 done\n",
      "Iteration 4 kernel 9 done\n",
      "Iteration 4 kernel 10 done\n",
      "Iteration 4 kernel 11 done\n",
      "Iteration 4 kernel 12 done\n",
      "Iteration 4 kernel 13 done\n",
      "Iteration 4 ended successfully\n",
      "Iteration 5 kernel 0 done\n",
      "Iteration 5 kernel 1 done\n",
      "Iteration 5 kernel 2 done\n",
      "Iteration 5 kernel 3 done\n",
      "Iteration 5 kernel 4 done\n",
      "Iteration 5 kernel 5 done\n",
      "Iteration 5 kernel 6 done\n",
      "Iteration 5 kernel 7 done\n",
      "Iteration 5 kernel 8 done\n",
      "Iteration 5 kernel 9 done\n",
      "Iteration 5 kernel 10 done\n",
      "Iteration 5 kernel 11 done\n",
      "Iteration 5 kernel 12 done\n",
      "Iteration 5 kernel 13 done\n",
      "Iteration 5 ended successfully\n",
      "Wall time: 20min 48s\n"
     ]
    }
   ],
   "source": [
    "%%time\n",
    "\n",
    "kernel_sizes = {\n",
    "    'P01': range(0, 14),\n",
    "    'P04': range(0, 13),\n",
    "    'P05': range(0, 13),\n",
    "    'P12': range(0, 13),\n",
    "}\n",
    "\n",
    "number_of_iterations = {\n",
    "    'P01': 5,\n",
    "    'P04': 1,\n",
    "    'P05': 2,\n",
    "    'P12': 2,\n",
    "}\n",
    "\n",
    "low_res_lsd_trees_2 = annihilate_jemiolas(scaled_mask, \n",
    "                                        kernel_sizes=kernel_sizes.get(TREE_NAME, range(0, 13)), \n",
    "                                        iters=number_of_iterations.get(TREE_NAME, 3),\n",
    "                                        fft=False)"
   ]
  },
  {
   "cell_type": "code",
   "execution_count": 32,
   "metadata": {},
   "outputs": [
    {
     "data": {
      "text/plain": [
       "array([ True])"
      ]
     },
     "execution_count": 32,
     "metadata": {},
     "output_type": "execute_result"
    }
   ],
   "source": [
    "low_res_reco = low_res_lsd_trees[-1]\n",
    "reco_2 = low_res_lsd_trees_2[-1]\n",
    "np.unique(low_res_reco == reco_2)"
   ]
  },
  {
   "cell_type": "code",
   "execution_count": 31,
   "metadata": {},
   "outputs": [],
   "source": [
    "visualize_mask_non_bin(low_res_reco)"
   ]
  },
  {
   "cell_type": "code",
   "execution_count": 33,
   "metadata": {},
   "outputs": [],
   "source": [
    "visualize_addition(scaled_mask, low_res_reco)"
   ]
  },
  {
   "cell_type": "code",
   "execution_count": 68,
   "metadata": {},
   "outputs": [],
   "source": [
    "xd = r * np.logical_not(e)"
   ]
  },
  {
   "cell_type": "code",
   "execution_count": 70,
   "metadata": {},
   "outputs": [
    {
     "data": {
      "text/plain": [
       "'scattered mask!!! number of regions: 2131'"
      ]
     },
     "execution_count": 70,
     "metadata": {},
     "output_type": "execute_result"
    }
   ],
   "source": [
    "verify_mask(xd)"
   ]
  },
  {
   "cell_type": "code",
   "execution_count": 53,
   "metadata": {},
   "outputs": [],
   "source": [
    "visualize_addition(mask, upscaled_r)"
   ]
  },
  {
   "cell_type": "code",
   "execution_count": 55,
   "metadata": {},
   "outputs": [
    {
     "data": {
      "text/plain": [
       "'good mask'"
      ]
     },
     "execution_count": 55,
     "metadata": {},
     "output_type": "execute_result"
    }
   ],
   "source": [
    "verify_mask(mask)"
   ]
  },
  {
   "cell_type": "code",
   "execution_count": null,
   "metadata": {},
   "outputs": [],
   "source": []
  },
  {
   "cell_type": "markdown",
   "metadata": {},
   "source": [
    "## Filling holes in the mask to get rid of mistletoes in skeleton"
   ]
  },
  {
   "cell_type": "code",
   "execution_count": 9,
   "metadata": {},
   "outputs": [],
   "source": [
    "def spherical_kernel(outer_radius, thickness=1, filled=True):    \n",
    "    outer_sphere = morphology.ball(radius=outer_radius)\n",
    "    if filled:\n",
    "        return outer_sphere\n",
    "    \n",
    "    thickness = min(thickness, outer_radius)\n",
    "    \n",
    "    inner_radius = outer_radius - thickness\n",
    "    inner_sphere = morphology.ball(radius=inner_radius)\n",
    "    \n",
    "    begin = outer_radius - inner_radius\n",
    "    end = begin + inner_sphere.shape[0]\n",
    "    outer_sphere[begin:end, begin:end, begin:end] -= inner_sphere\n",
    "    return outer_sphere\n",
    "\n",
    "def convolve_with_ball(img, ball_radius, dtype=np.uint16, normalize=True):\n",
    "    kernel = spherical_kernel(ball_radius, filled=True)\n",
    "    convolved = fftconvolve(img.astype(dtype), kernel.astype(dtype), mode='same')\n",
    "    \n",
    "    if not normalize:\n",
    "        return convolved\n",
    "    \n",
    "    return (convolved / kernel.sum()).astype(np.float16)\n",
    "\n",
    "def annihilate_jemiolas(mask, kernel_sizes=[10, 9, 8], fill_threshold=0.5, iters=1, conv_dtype=np.uint16):\n",
    "    kernel_sizes_maps = []\n",
    "    mask = mask.astype(np.uint8)\n",
    "    \n",
    "    for i in range(iters):\n",
    "#         kernel_sizes_maps = []\n",
    "        kernel_size_map = np.zeros(mask.shape, dtype=np.uint8)\n",
    "\n",
    "        for kernel_size in kernel_sizes:\n",
    "            fill_percentage = convolve_with_ball(mask, kernel_size, dtype=conv_dtype, normalize=True)\n",
    "            \n",
    "            above_threshold_fill_indices = fill_percentage > fill_threshold\n",
    "            kernel_size_map[above_threshold_fill_indices] = kernel_size + 1\n",
    "\n",
    "            mask[above_threshold_fill_indices] = 1\n",
    "            \n",
    "            print(f'Iteration {i + 1} kernel {kernel_size} done')\n",
    "\n",
    "        kernel_sizes_maps.append(kernel_size_map)\n",
    "        print(f'Iteration {i + 1} ended successfully')\n",
    "\n",
    "    return kernel_sizes_maps"
   ]
  },
  {
   "cell_type": "markdown",
   "metadata": {},
   "source": [
    "# TODO\n",
    "\n",
    "na zmniejszonej rozdzielczosci pusc konwolucje duzymi kernelami zeby uzyskac te pewne punkty w srodku, a potem zrob taki fine tuning juz na duzej rozdzielczosci"
   ]
  },
  {
   "cell_type": "code",
   "execution_count": null,
   "metadata": {},
   "outputs": [],
   "source": []
  },
  {
   "cell_type": "code",
   "execution_count": 11,
   "metadata": {},
   "outputs": [],
   "source": [
    "# from scipy.spatial import ConvexHull, Delaunay\n",
    "\n",
    "# specimen_voxels = np.argwhere(mask_main)\n",
    "# specimen_voxels.shape\n",
    "\n",
    "# hull = ConvexHull(specimen_voxels)\n",
    "# hull.simplices.shape\n",
    "\n",
    "# triangles = [specimen_voxels[simplex] for simplex in hull.simplices]\n",
    "\n",
    "# extreme_voxels = np.array([specimen_voxels[i] for i in np.unique(hull.simplices.flatten())])\n",
    "# inside_point = np.round(np.mean(extreme_voxels, axis=0)).astype(np.int)\n",
    "\n",
    "# def tmp_vis(mask, extreme_voxels, mark_radius):\n",
    "#     mask2 = mask.copy()\n",
    "#     for v in extreme_voxels:\n",
    "#         x, y, z = tuple(v)\n",
    "#         mask2[x - mark_radius: x + mark_radius, \n",
    "#               y - mark_radius: y + mark_radius, \n",
    "#               z - mark_radius: z + mark_radius] = 4\n",
    "#     visualize_lsd(mask2)\n",
    "    \n",
    "# tmp_vis(mask_main, extreme_voxels, 5)\n",
    "# tmp_vis(mask_main, [inside_point], 5)\n",
    "\n",
    "# normals_per_triangle = []\n",
    "# for triangle in triangles:\n",
    "#     p0, p1, p2 = tuple(triangle)\n",
    "#     normal = np.cross(p1 - p0, p2 - p0)\n",
    "#     if np.dot(p0 - inside_point, normal) < 0:\n",
    "#         normal *= -1\n",
    "#     normals_per_triangle.append(normal)\n",
    "    \n",
    "# all_points = np.argwhere(np.ones(mask_main.shape))"
   ]
  },
  {
   "cell_type": "code",
   "execution_count": 12,
   "metadata": {},
   "outputs": [],
   "source": [
    "# %%time\n",
    "# convex_hull_mask = np.zeros(mask_main.shape)\n",
    "# for point in all_points:\n",
    "#     inside = True\n",
    "#     for tri, normal in zip(triangles, normals_per_triangle):\n",
    "#         if np.dot(point - tri[0], normal) > 0:\n",
    "#             inside = False\n",
    "#             break\n",
    "#     if inside:\n",
    "#         convex_hull_mask[tuple(point)] = 1"
   ]
  },
  {
   "cell_type": "code",
   "execution_count": 13,
   "metadata": {},
   "outputs": [],
   "source": [
    "## bad idea :c"
   ]
  },
  {
   "cell_type": "code",
   "execution_count": null,
   "metadata": {},
   "outputs": [],
   "source": []
  },
  {
   "cell_type": "code",
   "execution_count": 14,
   "metadata": {},
   "outputs": [],
   "source": [
    "max_kernel_size = 28"
   ]
  },
  {
   "cell_type": "code",
   "execution_count": 15,
   "metadata": {},
   "outputs": [
    {
     "name": "stdout",
     "output_type": "stream",
     "text": [
      "Wall time: 2min 2s\n"
     ]
    }
   ],
   "source": [
    "%%time\n",
    "convolution = convolve_with_ball(mask_main, max_kernel_size, dtype=np.int)"
   ]
  },
  {
   "cell_type": "code",
   "execution_count": 16,
   "metadata": {},
   "outputs": [
    {
     "data": {
      "text/plain": [
       "(235902399, 3)"
      ]
     },
     "execution_count": 16,
     "metadata": {},
     "output_type": "execute_result"
    }
   ],
   "source": [
    "candidate_mask = (convolution > 0).astype(np.int) - mask_main\n",
    "candidate_vertices = np.argwhere(candidate_mask)\n",
    "candidate_vertices.shape"
   ]
  },
  {
   "cell_type": "code",
   "execution_count": 18,
   "metadata": {},
   "outputs": [],
   "source": [
    "convolution_hull = (convolution > 0)"
   ]
  },
  {
   "cell_type": "code",
   "execution_count": 19,
   "metadata": {},
   "outputs": [],
   "source": [
    "visualize_mask_non_bin(convolution_hull)"
   ]
  },
  {
   "cell_type": "code",
   "execution_count": null,
   "metadata": {},
   "outputs": [],
   "source": []
  },
  {
   "cell_type": "code",
   "execution_count": 38,
   "metadata": {},
   "outputs": [],
   "source": [
    "def prepare_kernels(kernel_sizes):\n",
    "    kernels = []\n",
    "    for kernel_radius in sorted(kernel_sizes):\n",
    "        kernel = spherical_kernel(kernel_radius, filled=True)\n",
    "        kernels.append((kernel_radius, kernel, np.sum(kernel)))\n",
    "    return kernels\n",
    "\n",
    "def prepare_kernels2(kernel_sizes):\n",
    "    kernels = []\n",
    "    max_kernel_radius = max(kernel_sizes)\n",
    "    for kernel_radius in sorted(kernel_sizes):\n",
    "        kernel = spherical_kernel(kernel_radius, filled=True)\n",
    "        kernel_sum = np.sum(kernel)\n",
    "        kernel = np.pad(kernel, max_kernel_radius - kernel_radius)\n",
    "        kernels.append((kernel_radius, kernel, kernel_sum))\n",
    "    return kernels\n",
    "\n",
    "def try_fill_voxels(candidate_voxels, \n",
    "                    kernels,\n",
    "                    max_kernel_radius,\n",
    "                    reconstruction,\n",
    "                    fill_threshold):\n",
    "    \n",
    "    result = reconstruction.copy()\n",
    "    padded_reconstruction = np.pad(reconstruction, max_kernel_radius)\n",
    "    \n",
    "    for voxel in tqdm(candidate_voxels):\n",
    "        x, y, z = tuple(voxel + max_kernel_radius)\n",
    "        reconstruction_slice = padded_reconstruction[\n",
    "                x - max_kernel_radius : x + max_kernel_radius + 1,\n",
    "                y - max_kernel_radius : y + max_kernel_radius + 1,\n",
    "                z - max_kernel_radius : z + max_kernel_radius + 1\n",
    "            ]\n",
    "        for kernel_radius, kernel, kernel_sum in kernels:\n",
    "            fill_factor = np.sum(np.logical_and(reconstruction_slice, kernel)) / kernel_sum\n",
    "            if fill_factor > fill_threshold:\n",
    "                result[tuple(voxel)] = 1\n",
    "                break\n",
    "    return result\n",
    "\n",
    "def create_reconstruction(mask,\n",
    "                          hull_mask,\n",
    "                          kernel_sizes,\n",
    "                          fill_threshold,\n",
    "                          iters=2,\n",
    "                          save_history=False):\n",
    "    kernels = prepare_kernels2(kernel_sizes)\n",
    "    max_kernel_radius = np.max(kernel_sizes)\n",
    "    reconstruction = mask\n",
    "    history = []\n",
    "    \n",
    "    for i in range(iters):\n",
    "        candidate_mask = hull_mask - reconstruction\n",
    "        candidate_voxels = np.argwhere(candidate_mask)\n",
    "        \n",
    "        reconstruction = try_fill_voxels(candidate_voxels,\n",
    "                                         kernels,\n",
    "                                         max_kernel_radius,\n",
    "                                         reconstruction,\n",
    "                                         fill_threshold)\n",
    "        if save_history:\n",
    "            history.append(reconstruction)\n",
    "        print(f'iteration {i} done')\n",
    "    return reconstruction, history"
   ]
  },
  {
   "cell_type": "code",
   "execution_count": 39,
   "metadata": {},
   "outputs": [
    {
     "name": "stderr",
     "output_type": "stream",
     "text": [
      "  0%|                                                                    | 3155/235902399 [00:31<651:58:52, 100.51it/s]\n"
     ]
    },
    {
     "ename": "KeyboardInterrupt",
     "evalue": "",
     "output_type": "error",
     "traceback": [
      "\u001b[1;31m---------------------------------------------------------------------------\u001b[0m",
      "\u001b[1;31mKeyboardInterrupt\u001b[0m                         Traceback (most recent call last)",
      "\u001b[1;32m<timed exec>\u001b[0m in \u001b[0;36m<module>\u001b[1;34m\u001b[0m\n",
      "\u001b[1;32m<ipython-input-38-93b87b1d9677>\u001b[0m in \u001b[0;36mcreate_reconstruction\u001b[1;34m(mask, hull_mask, kernel_sizes, fill_threshold, iters, save_history)\u001b[0m\n\u001b[0;32m     58\u001b[0m                                          \u001b[0mmax_kernel_radius\u001b[0m\u001b[1;33m,\u001b[0m\u001b[1;33m\u001b[0m\u001b[1;33m\u001b[0m\u001b[0m\n\u001b[0;32m     59\u001b[0m                                          \u001b[0mreconstruction\u001b[0m\u001b[1;33m,\u001b[0m\u001b[1;33m\u001b[0m\u001b[1;33m\u001b[0m\u001b[0m\n\u001b[1;32m---> 60\u001b[1;33m                                          fill_threshold)\n\u001b[0m\u001b[0;32m     61\u001b[0m         \u001b[1;32mif\u001b[0m \u001b[0msave_history\u001b[0m\u001b[1;33m:\u001b[0m\u001b[1;33m\u001b[0m\u001b[1;33m\u001b[0m\u001b[0m\n\u001b[0;32m     62\u001b[0m             \u001b[0mhistory\u001b[0m\u001b[1;33m.\u001b[0m\u001b[0mappend\u001b[0m\u001b[1;33m(\u001b[0m\u001b[0mreconstruction\u001b[0m\u001b[1;33m)\u001b[0m\u001b[1;33m\u001b[0m\u001b[1;33m\u001b[0m\u001b[0m\n",
      "\u001b[1;32m<ipython-input-38-93b87b1d9677>\u001b[0m in \u001b[0;36mtry_fill_voxels\u001b[1;34m(candidate_voxels, kernels, max_kernel_radius, reconstruction, fill_threshold)\u001b[0m\n\u001b[0;32m     33\u001b[0m             ]\n\u001b[0;32m     34\u001b[0m         \u001b[1;32mfor\u001b[0m \u001b[0mkernel_radius\u001b[0m\u001b[1;33m,\u001b[0m \u001b[0mkernel\u001b[0m\u001b[1;33m,\u001b[0m \u001b[0mkernel_sum\u001b[0m \u001b[1;32min\u001b[0m \u001b[0mkernels\u001b[0m\u001b[1;33m:\u001b[0m\u001b[1;33m\u001b[0m\u001b[1;33m\u001b[0m\u001b[0m\n\u001b[1;32m---> 35\u001b[1;33m             \u001b[0mfill_factor\u001b[0m \u001b[1;33m=\u001b[0m \u001b[0mnp\u001b[0m\u001b[1;33m.\u001b[0m\u001b[0msum\u001b[0m\u001b[1;33m(\u001b[0m\u001b[0mnp\u001b[0m\u001b[1;33m.\u001b[0m\u001b[0mlogical_and\u001b[0m\u001b[1;33m(\u001b[0m\u001b[0mreconstruction_slice\u001b[0m\u001b[1;33m,\u001b[0m \u001b[0mkernel\u001b[0m\u001b[1;33m)\u001b[0m\u001b[1;33m)\u001b[0m \u001b[1;33m/\u001b[0m \u001b[0mkernel_sum\u001b[0m\u001b[1;33m\u001b[0m\u001b[1;33m\u001b[0m\u001b[0m\n\u001b[0m\u001b[0;32m     36\u001b[0m             \u001b[1;32mif\u001b[0m \u001b[0mfill_factor\u001b[0m \u001b[1;33m>\u001b[0m \u001b[0mfill_threshold\u001b[0m\u001b[1;33m:\u001b[0m\u001b[1;33m\u001b[0m\u001b[1;33m\u001b[0m\u001b[0m\n\u001b[0;32m     37\u001b[0m                 \u001b[0mresult\u001b[0m\u001b[1;33m[\u001b[0m\u001b[0mtuple\u001b[0m\u001b[1;33m(\u001b[0m\u001b[0mvoxel\u001b[0m\u001b[1;33m)\u001b[0m\u001b[1;33m]\u001b[0m \u001b[1;33m=\u001b[0m \u001b[1;36m1\u001b[0m\u001b[1;33m\u001b[0m\u001b[1;33m\u001b[0m\u001b[0m\n",
      "\u001b[1;32m<__array_function__ internals>\u001b[0m in \u001b[0;36msum\u001b[1;34m(*args, **kwargs)\u001b[0m\n",
      "\u001b[1;32mc:\\users\\user\\appdata\\local\\programs\\python\\python37\\lib\\site-packages\\numpy\\core\\fromnumeric.py\u001b[0m in \u001b[0;36msum\u001b[1;34m(a, axis, dtype, out, keepdims, initial, where)\u001b[0m\n\u001b[0;32m   2240\u001b[0m \u001b[1;33m\u001b[0m\u001b[0m\n\u001b[0;32m   2241\u001b[0m     return _wrapreduction(a, np.add, 'sum', axis, dtype, out, keepdims=keepdims,\n\u001b[1;32m-> 2242\u001b[1;33m                           initial=initial, where=where)\n\u001b[0m\u001b[0;32m   2243\u001b[0m \u001b[1;33m\u001b[0m\u001b[0m\n\u001b[0;32m   2244\u001b[0m \u001b[1;33m\u001b[0m\u001b[0m\n",
      "\u001b[1;32mc:\\users\\user\\appdata\\local\\programs\\python\\python37\\lib\\site-packages\\numpy\\core\\fromnumeric.py\u001b[0m in \u001b[0;36m_wrapreduction\u001b[1;34m(obj, ufunc, method, axis, dtype, out, **kwargs)\u001b[0m\n\u001b[0;32m     85\u001b[0m                 \u001b[1;32mreturn\u001b[0m \u001b[0mreduction\u001b[0m\u001b[1;33m(\u001b[0m\u001b[0maxis\u001b[0m\u001b[1;33m=\u001b[0m\u001b[0maxis\u001b[0m\u001b[1;33m,\u001b[0m \u001b[0mout\u001b[0m\u001b[1;33m=\u001b[0m\u001b[0mout\u001b[0m\u001b[1;33m,\u001b[0m \u001b[1;33m**\u001b[0m\u001b[0mpasskwargs\u001b[0m\u001b[1;33m)\u001b[0m\u001b[1;33m\u001b[0m\u001b[1;33m\u001b[0m\u001b[0m\n\u001b[0;32m     86\u001b[0m \u001b[1;33m\u001b[0m\u001b[0m\n\u001b[1;32m---> 87\u001b[1;33m     \u001b[1;32mreturn\u001b[0m \u001b[0mufunc\u001b[0m\u001b[1;33m.\u001b[0m\u001b[0mreduce\u001b[0m\u001b[1;33m(\u001b[0m\u001b[0mobj\u001b[0m\u001b[1;33m,\u001b[0m \u001b[0maxis\u001b[0m\u001b[1;33m,\u001b[0m \u001b[0mdtype\u001b[0m\u001b[1;33m,\u001b[0m \u001b[0mout\u001b[0m\u001b[1;33m,\u001b[0m \u001b[1;33m**\u001b[0m\u001b[0mpasskwargs\u001b[0m\u001b[1;33m)\u001b[0m\u001b[1;33m\u001b[0m\u001b[1;33m\u001b[0m\u001b[0m\n\u001b[0m\u001b[0;32m     88\u001b[0m \u001b[1;33m\u001b[0m\u001b[0m\n\u001b[0;32m     89\u001b[0m \u001b[1;33m\u001b[0m\u001b[0m\n",
      "\u001b[1;31mKeyboardInterrupt\u001b[0m: "
     ]
    }
   ],
   "source": [
    "%%time\n",
    "reconstruction, history = create_reconstruction(mask=mask_main,\n",
    "                                                hull_mask=convolution_hull,\n",
    "                                                kernel_sizes=list(range(28)),\n",
    "                                                fill_threshold=0.5,\n",
    "                                                iters=1)"
   ]
  },
  {
   "cell_type": "code",
   "execution_count": null,
   "metadata": {},
   "outputs": [],
   "source": []
  },
  {
   "cell_type": "code",
   "execution_count": 40,
   "metadata": {},
   "outputs": [
    {
     "name": "stderr",
     "output_type": "stream",
     "text": [
      "  0%|                                                                    | 3125/235902399 [00:30<647:49:42, 101.15it/s]\n"
     ]
    },
    {
     "ename": "KeyboardInterrupt",
     "evalue": "",
     "output_type": "error",
     "traceback": [
      "\u001b[1;31m---------------------------------------------------------------------------\u001b[0m",
      "\u001b[1;31mKeyboardInterrupt\u001b[0m                         Traceback (most recent call last)",
      "\u001b[1;32m<timed exec>\u001b[0m in \u001b[0;36m<module>\u001b[1;34m\u001b[0m\n",
      "\u001b[1;32m<ipython-input-38-93b87b1d9677>\u001b[0m in \u001b[0;36mcreate_reconstruction\u001b[1;34m(mask, hull_mask, kernel_sizes, fill_threshold, iters, save_history)\u001b[0m\n\u001b[0;32m     58\u001b[0m                                          \u001b[0mmax_kernel_radius\u001b[0m\u001b[1;33m,\u001b[0m\u001b[1;33m\u001b[0m\u001b[1;33m\u001b[0m\u001b[0m\n\u001b[0;32m     59\u001b[0m                                          \u001b[0mreconstruction\u001b[0m\u001b[1;33m,\u001b[0m\u001b[1;33m\u001b[0m\u001b[1;33m\u001b[0m\u001b[0m\n\u001b[1;32m---> 60\u001b[1;33m                                          fill_threshold)\n\u001b[0m\u001b[0;32m     61\u001b[0m         \u001b[1;32mif\u001b[0m \u001b[0msave_history\u001b[0m\u001b[1;33m:\u001b[0m\u001b[1;33m\u001b[0m\u001b[1;33m\u001b[0m\u001b[0m\n\u001b[0;32m     62\u001b[0m             \u001b[0mhistory\u001b[0m\u001b[1;33m.\u001b[0m\u001b[0mappend\u001b[0m\u001b[1;33m(\u001b[0m\u001b[0mreconstruction\u001b[0m\u001b[1;33m)\u001b[0m\u001b[1;33m\u001b[0m\u001b[1;33m\u001b[0m\u001b[0m\n",
      "\u001b[1;32m<ipython-input-38-93b87b1d9677>\u001b[0m in \u001b[0;36mtry_fill_voxels\u001b[1;34m(candidate_voxels, kernels, max_kernel_radius, reconstruction, fill_threshold)\u001b[0m\n\u001b[0;32m     33\u001b[0m             ]\n\u001b[0;32m     34\u001b[0m         \u001b[1;32mfor\u001b[0m \u001b[0mkernel_radius\u001b[0m\u001b[1;33m,\u001b[0m \u001b[0mkernel\u001b[0m\u001b[1;33m,\u001b[0m \u001b[0mkernel_sum\u001b[0m \u001b[1;32min\u001b[0m \u001b[0mkernels\u001b[0m\u001b[1;33m:\u001b[0m\u001b[1;33m\u001b[0m\u001b[1;33m\u001b[0m\u001b[0m\n\u001b[1;32m---> 35\u001b[1;33m             \u001b[0mfill_factor\u001b[0m \u001b[1;33m=\u001b[0m \u001b[0mnp\u001b[0m\u001b[1;33m.\u001b[0m\u001b[0msum\u001b[0m\u001b[1;33m(\u001b[0m\u001b[0mnp\u001b[0m\u001b[1;33m.\u001b[0m\u001b[0mlogical_and\u001b[0m\u001b[1;33m(\u001b[0m\u001b[0mreconstruction_slice\u001b[0m\u001b[1;33m,\u001b[0m \u001b[0mkernel\u001b[0m\u001b[1;33m)\u001b[0m\u001b[1;33m)\u001b[0m \u001b[1;33m/\u001b[0m \u001b[0mkernel_sum\u001b[0m\u001b[1;33m\u001b[0m\u001b[1;33m\u001b[0m\u001b[0m\n\u001b[0m\u001b[0;32m     36\u001b[0m             \u001b[1;32mif\u001b[0m \u001b[0mfill_factor\u001b[0m \u001b[1;33m>\u001b[0m \u001b[0mfill_threshold\u001b[0m\u001b[1;33m:\u001b[0m\u001b[1;33m\u001b[0m\u001b[1;33m\u001b[0m\u001b[0m\n\u001b[0;32m     37\u001b[0m                 \u001b[0mresult\u001b[0m\u001b[1;33m[\u001b[0m\u001b[0mtuple\u001b[0m\u001b[1;33m(\u001b[0m\u001b[0mvoxel\u001b[0m\u001b[1;33m)\u001b[0m\u001b[1;33m]\u001b[0m \u001b[1;33m=\u001b[0m \u001b[1;36m1\u001b[0m\u001b[1;33m\u001b[0m\u001b[1;33m\u001b[0m\u001b[0m\n",
      "\u001b[1;31mKeyboardInterrupt\u001b[0m: "
     ]
    }
   ],
   "source": [
    "%%time\n",
    "reconstruction, history = create_reconstruction(mask=mask_main,\n",
    "                                                hull_mask=convolution_hull,\n",
    "                                                kernel_sizes=list(range(28)),\n",
    "                                                fill_threshold=0.5,\n",
    "                                                iters=1)"
   ]
  },
  {
   "cell_type": "code",
   "execution_count": 124,
   "metadata": {},
   "outputs": [
    {
     "data": {
      "text/plain": [
       "(13215738, 3)"
      ]
     },
     "execution_count": 124,
     "metadata": {},
     "output_type": "execute_result"
    }
   ],
   "source": [
    "np.argwhere(mask_main).shape"
   ]
  },
  {
   "cell_type": "code",
   "execution_count": null,
   "metadata": {},
   "outputs": [],
   "source": []
  },
  {
   "cell_type": "code",
   "execution_count": 128,
   "metadata": {},
   "outputs": [
    {
     "data": {
      "text/plain": [
       "array([[[0, 0, 0],\n",
       "        [0, 1, 0],\n",
       "        [0, 0, 0]],\n",
       "\n",
       "       [[0, 1, 0],\n",
       "        [1, 1, 1],\n",
       "        [0, 1, 0]],\n",
       "\n",
       "       [[0, 0, 0],\n",
       "        [0, 1, 0],\n",
       "        [0, 0, 0]]], dtype=uint8)"
      ]
     },
     "execution_count": 128,
     "metadata": {},
     "output_type": "execute_result"
    }
   ],
   "source": [
    "spherical_kernel(1)"
   ]
  },
  {
   "cell_type": "code",
   "execution_count": 24,
   "metadata": {},
   "outputs": [
    {
     "name": "stdout",
     "output_type": "stream",
     "text": [
      "Wall time: 1min 48s\n"
     ]
    }
   ],
   "source": [
    "%%time\n",
    "colvolution_with_1 = convolve_with_ball(mask_main, 1)"
   ]
  },
  {
   "cell_type": "code",
   "execution_count": 25,
   "metadata": {},
   "outputs": [],
   "source": [
    "borderline_voxels_mask = np.logical_and(mask_main > 0, colvolution_with_1 < 1)\n",
    "borderline_voxels = np.argwhere(borderline_voxels_mask)"
   ]
  },
  {
   "cell_type": "code",
   "execution_count": 26,
   "metadata": {},
   "outputs": [
    {
     "data": {
      "text/plain": [
       "(4277192, 3)"
      ]
     },
     "execution_count": 26,
     "metadata": {},
     "output_type": "execute_result"
    }
   ],
   "source": [
    "borderline_voxels.shape"
   ]
  },
  {
   "cell_type": "code",
   "execution_count": 27,
   "metadata": {},
   "outputs": [],
   "source": [
    "borderline_voxels = [tuple(v) for v in borderline_voxels]"
   ]
  },
  {
   "cell_type": "code",
   "execution_count": null,
   "metadata": {},
   "outputs": [],
   "source": [
    "# %%time\n",
    "# thresshold = np.ceil(spherical_kernel(1).sum() / 2)\n",
    "\n",
    "# reconstruction = mask_main.copy()\n",
    "# new_reconstruction = np.pad((reconstruction > 0) * 10, 1)\n",
    "\n",
    "# new_borderline_voxels = []\n",
    "\n",
    "# for borderline_voxel in tqdm(borderline_voxels):\n",
    "#     neighbours_in_reconstruction = 0\n",
    "#     x, y, z = borderline_voxel\n",
    "#     for dx, dy, dz in [(-1, 0, 0), (1, 0, 0), (0, -1, 0), (0, 1, 0), (0, 0, -1), (0, 0, 1)]:\n",
    "#         neighbour_x = x + dx + 1\n",
    "#         neighbour_y = y + dy + 1\n",
    "#         neighbour_z = z + dz + 1\n",
    "#         if(new_reconstruction[neighbour_x, neighbour_y, neighbour_z] >= thresshold):\n",
    "#             neighbours_in_reconstruction += 1\n",
    "#             continue\n",
    "#         else:\n",
    "#             new_reconstruction[neighbour_x, neighbour_y, neighbour_z] += 1\n",
    "#             if new_reconstruction[neighbour_x, neighbour_y, neighbour_z] >= thresshold:\n",
    "#                 new_borderline_voxels.append((neighbour_x, neighbour_y, neighbour_z))\n",
    "#     if neighbours_in_reconstruction < 6:\n",
    "#         new_borderline_voxels.append(borderline_voxel)\n",
    "# new_reconstruction = (new_reconstruction > thresshold)[1:-1, 1:-1, 1:-1]"
   ]
  },
  {
   "cell_type": "code",
   "execution_count": 42,
   "metadata": {},
   "outputs": [],
   "source": [
    "def create_reconstruction(mask, starting_borderline_voxels, iters=5):\n",
    "    reconstruction = (mask > 0) * 10\n",
    "    thresshold = np.floor(spherical_kernel(1).sum() / 2)\n",
    "    borderline_voxels = starting_borderline_voxels.copy()\n",
    "\n",
    "    for it in range(iters):\n",
    "        new_borderline_voxels = []\n",
    "        for borderline_voxel in tqdm(borderline_voxels):\n",
    "            neighbours_in_reconstruction = 0\n",
    "            x, y, z = borderline_voxel\n",
    "            for dx, dy, dz in [(-1, 0, 0), (1, 0, 0), (0, -1, 0), (0, 1, 0), (0, 0, -1), (0, 0, 1)]:\n",
    "                neighbour_x = x + dx + 1\n",
    "                neighbour_y = y + dy + 1\n",
    "                neighbour_z = z + dz + 1\n",
    "                try:\n",
    "                    reconstruction[neighbour_x, neighbour_y, neighbour_z]\n",
    "                except:\n",
    "                    neighbours_in_reconstruction += 1\n",
    "                    continue\n",
    "                if(reconstruction[neighbour_x, neighbour_y, neighbour_z] >= thresshold):\n",
    "                    neighbours_in_reconstruction += 1\n",
    "                    continue\n",
    "                else:\n",
    "                    reconstruction[neighbour_x, neighbour_y, neighbour_z] += 1\n",
    "                    if reconstruction[neighbour_x, neighbour_y, neighbour_z] >= thresshold:\n",
    "                        new_borderline_voxels.append((neighbour_x, neighbour_y, neighbour_z))\n",
    "            if neighbours_in_reconstruction < 6:\n",
    "                new_borderline_voxels.append(borderline_voxel)\n",
    "        reconstruction = (reconstruction >= thresshold) * 10\n",
    "        borderline_voxels = new_borderline_voxels\n",
    "        print(f'Iteration {it} done')\n",
    "    return reconstruction > 0"
   ]
  },
  {
   "cell_type": "code",
   "execution_count": null,
   "metadata": {},
   "outputs": [],
   "source": []
  },
  {
   "cell_type": "code",
   "execution_count": null,
   "metadata": {},
   "outputs": [],
   "source": []
  },
  {
   "cell_type": "code",
   "execution_count": 62,
   "metadata": {},
   "outputs": [
    {
     "name": "stdout",
     "output_type": "stream",
     "text": [
      "Wall time: 7.64 s\n"
     ]
    }
   ],
   "source": [
    "%%time\n",
    "# colvolution_with_1 = convolve_with_ball(mask_main, 1)\n",
    "borderline_voxels_mask = np.logical_and(mask_main > 0, colvolution_with_1 < 1)\n",
    "borderline_voxels = np.argwhere(borderline_voxels_mask)\n",
    "borderline_voxels = list(borderline_voxels)"
   ]
  },
  {
   "cell_type": "code",
   "execution_count": 95,
   "metadata": {},
   "outputs": [],
   "source": [
    "# temporary\n",
    "import warnings\n",
    "warnings.filterwarnings(\"ignore\")"
   ]
  },
  {
   "cell_type": "code",
   "execution_count": 113,
   "metadata": {},
   "outputs": [],
   "source": [
    "def create_reconstruction_2(mask, starting_borderline_voxels, iters=5):\n",
    "    reconstruction = mask > 0\n",
    "    thresshold = np.floor(spherical_kernel(1).sum() / 2)\n",
    "    borderline_voxels = starting_borderline_voxels.copy()\n",
    "    \n",
    "    padded_shape = (np.array(mask_main.shape) + np.array([2, 2, 2])).astype(np.int)\n",
    "\n",
    "    for it in range(iters):       \n",
    "        borderline_voxels_array = np.array(borderline_voxels)        \n",
    "        votings = np.zeros(padded_shape)\n",
    "        voted_for_reco_counter = np.zeros(len(borderline_voxels))\n",
    "        for column in [0, 1, 2]:\n",
    "            for value in [-1, 1]:\n",
    "                voted_voxels = borderline_voxels_array.copy()\n",
    "                voted_voxels[:, column] += value\n",
    "                votings[list(voted_voxels.T)] += 1\n",
    "                print('.', end='')\n",
    "                voted_for_reco_counter += np.pad(reconstruction, 1, constant_values=1)[list(voted_voxels.T)]\n",
    "                \n",
    "        chosen_new_voxels_mask = votings[1:-1, 1:-1, 1:-1] >= thresshold\n",
    "        chosen_new_voxels_mask[reconstruction > 0] = 0\n",
    "        still_borderline = voted_for_reco_counter < 6\n",
    "        borderline_voxels = list(borderline_voxels_array[still_borderline]) + list(np.argwhere(chosen_new_voxels_mask))\n",
    "#         borderline_voxels = borderline_voxels + list(np.argwhere(chosen_new_voxels_mask))\n",
    "        reconstruction = (reconstruction + chosen_new_voxels_mask) > 0\n",
    "        print(f'iter {it + 1} done')\n",
    "        \n",
    "    return reconstruction"
   ]
  },
  {
   "cell_type": "code",
   "execution_count": 107,
   "metadata": {},
   "outputs": [
    {
     "name": "stdout",
     "output_type": "stream",
     "text": [
      "4277192\n",
      "......4639389\n",
      "iter 1 done\n",
      "4639389\n",
      "......6259520\n",
      "iter 2 done\n",
      "6259520\n",
      "......7414711\n",
      "iter 3 done\n",
      "Wall time: 54 s\n"
     ]
    }
   ],
   "source": [
    "%%time\n",
    "recco = create_reconstruction_2(mask=mask_main,\n",
    "                                starting_borderline_voxels=borderline_voxels,\n",
    "                                iters=3)"
   ]
  },
  {
   "cell_type": "code",
   "execution_count": 112,
   "metadata": {},
   "outputs": [
    {
     "name": "stderr",
     "output_type": "stream",
     "text": [
      "100%|█████████████████████████████████████████████████████████████████████| 4277192/4277192 [02:35<00:00, 27520.24it/s]\n",
      "  0%|                                                                        | 4911/4637967 [00:00<03:02, 25433.86it/s]"
     ]
    },
    {
     "name": "stdout",
     "output_type": "stream",
     "text": [
      "Iteration 0 done\n"
     ]
    },
    {
     "name": "stderr",
     "output_type": "stream",
     "text": [
      "100%|█████████████████████████████████████████████████████████████████████| 4637967/4637967 [02:44<00:00, 28221.10it/s]\n"
     ]
    },
    {
     "name": "stdout",
     "output_type": "stream",
     "text": [
      "Iteration 1 done\n",
      "Wall time: 5min 28s\n"
     ]
    }
   ],
   "source": [
    "%%time\n",
    "reco = create_reconstruction(mask=mask_main,\n",
    "                             starting_borderline_voxels=borderline_voxels,\n",
    "                             iters=2)"
   ]
  },
  {
   "cell_type": "code",
   "execution_count": 114,
   "metadata": {},
   "outputs": [],
   "source": [
    "visualize_mask_non_bin(recco)"
   ]
  },
  {
   "cell_type": "code",
   "execution_count": 115,
   "metadata": {},
   "outputs": [
    {
     "name": "stdout",
     "output_type": "stream",
     "text": [
      "......iter 1 done\n",
      "......iter 2 done\n",
      "......iter 3 done\n",
      "......iter 4 done\n",
      "......iter 5 done\n",
      "......iter 6 done\n",
      "......iter 7 done\n",
      "......iter 8 done\n",
      "......iter 9 done\n",
      "......iter 10 done\n",
      "......iter 11 done\n",
      "......iter 12 done\n",
      "......iter 13 done\n",
      "......iter 14 done\n",
      "......iter 15 done\n",
      "......iter 16 done\n",
      "......iter 17 done\n",
      "......iter 18 done\n",
      "......iter 19 done\n",
      "......iter 20 done\n",
      "......iter 21 done\n",
      "......iter 22 done\n",
      "......iter 23 done\n",
      "......iter 24 done\n",
      "......iter 25 done\n",
      "......iter 26 done\n",
      "......iter 27 done\n",
      "......iter 28 done\n",
      "......iter 29 done\n",
      "......iter 30 done\n",
      "......iter 31 done\n",
      "......iter 32 done\n",
      "......iter 33 done\n",
      "......iter 34 done\n",
      "......iter 35 done\n",
      "......iter 36 done\n",
      "......iter 37 done\n",
      "......iter 38 done\n",
      "......iter 39 done\n",
      "......iter 40 done\n",
      "......iter 41 done\n",
      "......iter 42 done\n",
      "......iter 43 done\n",
      "......iter 44 done\n",
      "......iter 45 done\n",
      "......iter 46 done\n",
      "......iter 47 done\n",
      "......iter 48 done\n",
      "......iter 49 done\n",
      "......iter 50 done\n",
      "......iter 51 done\n",
      "......iter 52 done\n",
      "......iter 53 done\n",
      "......iter 54 done\n",
      "......iter 55 done\n",
      "......iter 56 done\n",
      "......iter 57 done\n",
      "......iter 58 done\n",
      "......iter 59 done\n",
      "......iter 60 done\n",
      "......iter 61 done\n",
      "......iter 62 done\n",
      "......iter 63 done\n",
      "......iter 64 done\n",
      "......iter 65 done\n",
      "......iter 66 done\n",
      "......iter 67 done\n",
      "......iter 68 done\n",
      "......iter 69 done\n",
      "......iter 70 done\n",
      "......iter 71 done\n",
      "......iter 72 done\n",
      "......iter 73 done\n",
      "......iter 74 done\n",
      "......iter 75 done\n",
      "......iter 76 done\n",
      "......iter 77 done\n",
      "......iter 78 done\n",
      "......iter 79 done\n",
      "......iter 80 done\n",
      "......iter 81 done\n",
      "......iter 82 done\n",
      "......iter 83 done\n",
      "......iter 84 done\n",
      "......iter 85 done\n",
      "......iter 86 done\n",
      "......iter 87 done\n",
      "......iter 88 done\n",
      "......iter 89 done\n",
      "......iter 90 done\n",
      "......iter 91 done\n",
      "......iter 92 done\n",
      "......iter 93 done\n",
      "......iter 94 done\n",
      "......iter 95 done\n",
      "......iter 96 done\n",
      "......iter 97 done\n",
      "......iter 98 done\n",
      "......iter 99 done\n",
      "......iter 100 done\n",
      "......iter 101 done\n",
      "......iter 102 done\n",
      "......iter 103 done\n",
      "......iter 104 done\n",
      "......iter 105 done\n",
      "......iter 106 done\n",
      "......iter 107 done\n",
      "......iter 108 done\n",
      "......iter 109 done\n",
      "......iter 110 done\n",
      "......iter 111 done\n",
      "......iter 112 done\n",
      "......iter 113 done\n",
      "......iter 114 done\n",
      "......iter 115 done\n",
      "......iter 116 done\n",
      "......iter 117 done\n",
      "......iter 118 done\n",
      "......iter 119 done\n",
      "......iter 120 done\n",
      "......iter 121 done\n",
      "......iter 122 done\n",
      "......iter 123 done\n",
      "......iter 124 done\n",
      "......iter 125 done\n",
      "......iter 126 done\n",
      "......iter 127 done\n",
      "......iter 128 done\n",
      "......iter 129 done\n",
      "......iter 130 done\n",
      "......iter 131 done\n",
      "......iter 132 done\n",
      "......iter 133 done\n",
      "......iter 134 done\n",
      "......iter 135 done\n",
      "......iter 136 done\n",
      "......iter 137 done\n",
      "......iter 138 done\n",
      "......iter 139 done\n",
      "......iter 140 done\n",
      "......iter 141 done\n",
      "......iter 142 done\n",
      "......iter 143 done\n",
      "......iter 144 done\n",
      "......iter 145 done\n",
      "......iter 146 done\n",
      "......iter 147 done\n",
      "......iter 148 done\n",
      "......iter 149 done\n",
      "......iter 150 done\n",
      "......iter 151 done\n",
      "......iter 152 done\n",
      "......iter 153 done\n",
      "......iter 154 done\n",
      "......iter 155 done\n",
      "......iter 156 done\n",
      "......iter 157 done\n",
      "......iter 158 done\n",
      "......iter 159 done\n",
      "......iter 160 done\n",
      "......iter 161 done\n",
      "......iter 162 done\n",
      "......iter 163 done\n",
      "......iter 164 done\n",
      "......iter 165 done\n",
      "......iter 166 done\n",
      "......iter 167 done\n",
      "......iter 168 done\n",
      "......iter 169 done\n",
      "......iter 170 done\n",
      "......iter 171 done\n",
      "......iter 172 done\n",
      "......iter 173 done\n",
      "......iter 174 done\n",
      "......iter 175 done\n",
      "......iter 176 done\n",
      "......iter 177 done\n",
      "......iter 178 done\n",
      "......iter 179 done\n",
      "......iter 180 done\n",
      "......iter 181 done\n",
      "......iter 182 done\n",
      "......iter 183 done\n",
      "......iter 184 done\n",
      "......iter 185 done\n",
      "......iter 186 done\n",
      "......iter 187 done\n",
      "......iter 188 done\n",
      "......iter 189 done\n",
      "......iter 190 done\n",
      "......iter 191 done\n",
      "......iter 192 done\n",
      "......iter 193 done\n",
      "......iter 194 done\n",
      "......iter 195 done\n",
      "......iter 196 done\n",
      "......iter 197 done\n",
      "......iter 198 done\n",
      "......iter 199 done\n",
      "......iter 200 done\n",
      "......iter 201 done\n",
      "......iter 202 done\n",
      "......iter 203 done\n",
      "......iter 204 done\n",
      "......iter 205 done\n",
      "......iter 206 done\n",
      "......iter 207 done\n",
      "......iter 208 done\n",
      "......iter 209 done\n",
      "......iter 210 done\n",
      "......iter 211 done\n",
      "......iter 212 done\n",
      "......iter 213 done\n",
      "......iter 214 done\n",
      "......iter 215 done\n",
      "......iter 216 done\n",
      "......iter 217 done\n",
      "......iter 218 done\n",
      "......iter 219 done\n",
      "......iter 220 done\n",
      "......iter 221 done\n",
      "......iter 222 done\n",
      "......iter 223 done\n",
      "......iter 224 done\n",
      "......iter 225 done\n",
      "......iter 226 done\n",
      "......iter 227 done\n",
      "......iter 228 done\n",
      "......iter 229 done\n",
      "......iter 230 done\n",
      "......iter 231 done\n",
      "......iter 232 done\n",
      "......iter 233 done\n",
      "......iter 234 done\n",
      "......iter 235 done\n",
      "......iter 236 done\n",
      "......iter 237 done\n",
      "......iter 238 done\n",
      "......iter 239 done\n",
      "......iter 240 done\n",
      "......iter 241 done\n",
      "......iter 242 done\n",
      "......iter 243 done\n",
      "......iter 244 done\n",
      "......iter 245 done\n",
      "......iter 246 done\n",
      "......iter 247 done\n",
      "......iter 248 done\n",
      "......iter 249 done\n",
      "......iter 250 done\n",
      "......iter 251 done\n",
      "......iter 252 done\n",
      "......iter 253 done\n",
      "......iter 254 done\n",
      "......iter 255 done\n",
      "......iter 256 done\n",
      "......iter 257 done\n",
      "......iter 258 done\n",
      "......iter 259 done\n",
      "......iter 260 done\n",
      "......iter 261 done\n",
      "......iter 262 done\n",
      "......iter 263 done\n",
      "......iter 264 done\n",
      "......iter 265 done\n",
      "......iter 266 done\n",
      "......iter 267 done\n",
      "......iter 268 done\n",
      "......iter 269 done\n",
      "......iter 270 done\n",
      "......iter 271 done\n",
      "......iter 272 done\n",
      "......iter 273 done\n",
      "......iter 274 done\n",
      "......iter 275 done\n",
      "......iter 276 done\n",
      "......iter 277 done\n",
      "......iter 278 done\n",
      "......iter 279 done\n",
      "......iter 280 done\n",
      "......iter 281 done\n",
      "......iter 282 done\n",
      "......iter 283 done\n",
      "......iter 284 done\n",
      "......iter 285 done\n",
      "......iter 286 done\n",
      "......iter 287 done\n",
      "......iter 288 done\n",
      "......iter 289 done\n",
      "......iter 290 done\n",
      "......iter 291 done\n",
      "......iter 292 done\n",
      "......iter 293 done\n",
      "......iter 294 done\n",
      "......iter 295 done\n",
      "......iter 296 done\n",
      "......iter 297 done\n",
      "......iter 298 done\n",
      "......iter 299 done\n",
      "......iter 300 done\n",
      "Wall time: 1h 55min 37s\n"
     ]
    }
   ],
   "source": [
    "%%time\n",
    "recco = create_reconstruction_2(mask=mask_main,\n",
    "                                starting_borderline_voxels=borderline_voxels,\n",
    "                                iters=300)"
   ]
  },
  {
   "cell_type": "code",
   "execution_count": 116,
   "metadata": {},
   "outputs": [],
   "source": [
    "rr = np.pad(recco, 1) # padding reconstruction to avoid padding later\n",
    "np.save(source_dir + TREE_NAME + '/reconstruction-new', rr)"
   ]
  },
  {
   "cell_type": "code",
   "execution_count": null,
   "metadata": {},
   "outputs": [],
   "source": []
  },
  {
   "cell_type": "code",
   "execution_count": 33,
   "metadata": {},
   "outputs": [],
   "source": [
    "visualize_mask_non_bin(reco)"
   ]
  },
  {
   "cell_type": "code",
   "execution_count": 35,
   "metadata": {},
   "outputs": [
    {
     "name": "stdout",
     "output_type": "stream",
     "text": [
      "Wall time: 7min 43s\n"
     ]
    }
   ],
   "source": [
    "%%time\n",
    "skeleton = skeletonize_3d(reco).astype(np.uint8)"
   ]
  },
  {
   "cell_type": "code",
   "execution_count": 37,
   "metadata": {},
   "outputs": [],
   "source": [
    "visualize_mask_bin(skeleton)"
   ]
  },
  {
   "cell_type": "code",
   "execution_count": null,
   "metadata": {},
   "outputs": [],
   "source": [
    "visualize_mask_non_bin(reco)"
   ]
  },
  {
   "cell_type": "code",
   "execution_count": null,
   "metadata": {},
   "outputs": [],
   "source": []
  },
  {
   "cell_type": "code",
   "execution_count": null,
   "metadata": {},
   "outputs": [],
   "source": []
  },
  {
   "cell_type": "code",
   "execution_count": 139,
   "metadata": {},
   "outputs": [
    {
     "data": {
      "text/plain": [
       "array([[[0, 0, 0],\n",
       "        [0, 1, 0],\n",
       "        [0, 0, 0]],\n",
       "\n",
       "       [[0, 1, 0],\n",
       "        [1, 1, 1],\n",
       "        [0, 1, 0]],\n",
       "\n",
       "       [[0, 0, 0],\n",
       "        [0, 1, 0],\n",
       "        [0, 0, 0]]], dtype=uint8)"
      ]
     },
     "execution_count": 139,
     "metadata": {},
     "output_type": "execute_result"
    }
   ],
   "source": [
    "spherical_kernel(1)"
   ]
  },
  {
   "cell_type": "code",
   "execution_count": null,
   "metadata": {},
   "outputs": [],
   "source": []
  },
  {
   "cell_type": "code",
   "execution_count": null,
   "metadata": {},
   "outputs": [],
   "source": []
  },
  {
   "cell_type": "code",
   "execution_count": 18,
   "metadata": {},
   "outputs": [
    {
     "name": "stdout",
     "output_type": "stream",
     "text": [
      "Iteration 1 kernel 10 done\n",
      "Iteration 1 ended successfully\n",
      "Wall time: 2min 5s\n"
     ]
    }
   ],
   "source": [
    "%%time\n",
    "lsd_trees = annihilate_jemiolas(mask_main, kernel_sizes=[10], iters=1)"
   ]
  },
  {
   "cell_type": "code",
   "execution_count": 25,
   "metadata": {},
   "outputs": [],
   "source": [
    "def convolve_with_ball(img, ball_radius, dtype=np.uint16, normalize=True):\n",
    "    kernel = spherical_kernel(ball_radius, filled=True)\n",
    "    convolved = signal.convolve(img.astype(dtype), kernel.astype(dtype), mode='same')\n",
    "    \n",
    "    if not normalize:\n",
    "        return convolved\n",
    "    \n",
    "    return (convolved / kernel.sum()).astype(np.float16)"
   ]
  },
  {
   "cell_type": "code",
   "execution_count": 26,
   "metadata": {},
   "outputs": [
    {
     "name": "stdout",
     "output_type": "stream",
     "text": [
      "Iteration 1 kernel 10 done\n",
      "Iteration 1 ended successfully\n",
      "Wall time: 2min 45s\n"
     ]
    }
   ],
   "source": [
    "%%time\n",
    "lsd_trees = annihilate_jemiolas(mask_main, kernel_sizes=[10], iters=1)"
   ]
  },
  {
   "cell_type": "code",
   "execution_count": 17,
   "metadata": {},
   "outputs": [
    {
     "data": {
      "text/plain": [
       "409.5"
      ]
     },
     "execution_count": 17,
     "metadata": {},
     "output_type": "execute_result"
    }
   ],
   "source": [
    "7*27*130 / 60"
   ]
  },
  {
   "cell_type": "code",
   "execution_count": 10,
   "metadata": {
    "scrolled": false
   },
   "outputs": [
    {
     "name": "stdout",
     "output_type": "stream",
     "text": [
      "Iteration 1 kernel 0 done\n",
      "Iteration 1 kernel 1 done\n",
      "Iteration 1 kernel 2 done\n",
      "Iteration 1 kernel 3 done\n",
      "Iteration 1 kernel 4 done\n",
      "Iteration 1 kernel 5 done\n",
      "Iteration 1 kernel 6 done\n",
      "Iteration 1 kernel 7 done\n",
      "Iteration 1 kernel 8 done\n",
      "Iteration 1 kernel 9 done\n",
      "Iteration 1 kernel 10 done\n",
      "Iteration 1 kernel 11 done\n",
      "Iteration 1 kernel 12 done\n",
      "Iteration 1 kernel 13 done\n",
      "Iteration 1 kernel 14 done\n",
      "Iteration 1 kernel 15 done\n",
      "Iteration 1 kernel 16 done\n",
      "Iteration 1 kernel 17 done\n",
      "Iteration 1 kernel 18 done\n",
      "Iteration 1 kernel 19 done\n",
      "Iteration 1 kernel 20 done\n",
      "Iteration 1 kernel 21 done\n",
      "Iteration 1 kernel 22 done\n",
      "Iteration 1 kernel 23 done\n",
      "Iteration 1 kernel 24 done\n",
      "Iteration 1 kernel 25 done\n",
      "Iteration 1 kernel 26 done\n",
      "Iteration 1 kernel 27 done\n",
      "Iteration 1 ended successfully\n",
      "Iteration 2 kernel 0 done\n",
      "Iteration 2 kernel 1 done\n",
      "Iteration 2 kernel 2 done\n",
      "Iteration 2 kernel 3 done\n",
      "Iteration 2 kernel 4 done\n",
      "Iteration 2 kernel 5 done\n",
      "Iteration 2 kernel 6 done\n",
      "Iteration 2 kernel 7 done\n",
      "Iteration 2 kernel 8 done\n",
      "Iteration 2 kernel 9 done\n",
      "Iteration 2 kernel 10 done\n",
      "Iteration 2 kernel 11 done\n",
      "Iteration 2 kernel 12 done\n",
      "Iteration 2 kernel 13 done\n",
      "Iteration 2 kernel 14 done\n",
      "Iteration 2 kernel 15 done\n",
      "Iteration 2 kernel 16 done\n",
      "Iteration 2 kernel 17 done\n",
      "Iteration 2 kernel 18 done\n",
      "Iteration 2 kernel 19 done\n",
      "Iteration 2 kernel 20 done\n",
      "Iteration 2 kernel 21 done\n",
      "Iteration 2 kernel 22 done\n",
      "Iteration 2 kernel 23 done\n",
      "Iteration 2 kernel 24 done\n",
      "Iteration 2 kernel 25 done\n",
      "Iteration 2 kernel 26 done\n",
      "Iteration 2 kernel 27 done\n",
      "Iteration 2 ended successfully\n",
      "Iteration 3 kernel 0 done\n",
      "Iteration 3 kernel 1 done\n",
      "Iteration 3 kernel 2 done\n",
      "Iteration 3 kernel 3 done\n",
      "Iteration 3 kernel 4 done\n",
      "Iteration 3 kernel 5 done\n",
      "Iteration 3 kernel 6 done\n",
      "Iteration 3 kernel 7 done\n",
      "Iteration 3 kernel 8 done\n",
      "Iteration 3 kernel 9 done\n",
      "Iteration 3 kernel 10 done\n",
      "Iteration 3 kernel 11 done\n",
      "Iteration 3 kernel 12 done\n",
      "Iteration 3 kernel 13 done\n",
      "Iteration 3 kernel 14 done\n",
      "Iteration 3 kernel 15 done\n",
      "Iteration 3 kernel 16 done\n",
      "Iteration 3 kernel 17 done\n",
      "Iteration 3 kernel 18 done\n",
      "Iteration 3 kernel 19 done\n",
      "Iteration 3 kernel 20 done\n",
      "Iteration 3 kernel 21 done\n",
      "Iteration 3 kernel 22 done\n",
      "Iteration 3 kernel 23 done\n",
      "Iteration 3 kernel 24 done\n",
      "Iteration 3 kernel 25 done\n",
      "Iteration 3 kernel 26 done\n",
      "Iteration 3 kernel 27 done\n",
      "Iteration 3 ended successfully\n",
      "Iteration 4 kernel 0 done\n",
      "Iteration 4 kernel 1 done\n",
      "Iteration 4 kernel 2 done\n",
      "Iteration 4 kernel 3 done\n",
      "Iteration 4 kernel 4 done\n",
      "Iteration 4 kernel 5 done\n",
      "Iteration 4 kernel 6 done\n",
      "Iteration 4 kernel 7 done\n",
      "Iteration 4 kernel 8 done\n",
      "Iteration 4 kernel 9 done\n",
      "Iteration 4 kernel 10 done\n",
      "Iteration 4 kernel 11 done\n",
      "Iteration 4 kernel 12 done\n",
      "Iteration 4 kernel 13 done\n",
      "Iteration 4 kernel 14 done\n",
      "Iteration 4 kernel 15 done\n",
      "Iteration 4 kernel 16 done\n",
      "Iteration 4 kernel 17 done\n",
      "Iteration 4 kernel 18 done\n",
      "Iteration 4 kernel 19 done\n",
      "Iteration 4 kernel 20 done\n",
      "Iteration 4 kernel 21 done\n",
      "Iteration 4 kernel 22 done\n",
      "Iteration 4 kernel 23 done\n",
      "Iteration 4 kernel 24 done\n",
      "Iteration 4 kernel 25 done\n",
      "Iteration 4 kernel 26 done\n",
      "Iteration 4 kernel 27 done\n",
      "Iteration 4 ended successfully\n",
      "Iteration 5 kernel 0 done\n",
      "Iteration 5 kernel 1 done\n",
      "Iteration 5 kernel 2 done\n",
      "Iteration 5 kernel 3 done\n",
      "Iteration 5 kernel 4 done\n",
      "Iteration 5 kernel 5 done\n",
      "Iteration 5 kernel 6 done\n",
      "Iteration 5 kernel 7 done\n",
      "Iteration 5 kernel 8 done\n",
      "Iteration 5 kernel 9 done\n",
      "Iteration 5 kernel 10 done\n",
      "Iteration 5 kernel 11 done\n",
      "Iteration 5 kernel 12 done\n",
      "Iteration 5 kernel 13 done\n",
      "Iteration 5 kernel 14 done\n",
      "Iteration 5 kernel 15 done\n",
      "Iteration 5 kernel 16 done\n",
      "Iteration 5 kernel 17 done\n",
      "Iteration 5 kernel 18 done\n",
      "Iteration 5 kernel 19 done\n",
      "Iteration 5 kernel 20 done\n",
      "Iteration 5 kernel 21 done\n",
      "Iteration 5 kernel 22 done\n",
      "Iteration 5 kernel 23 done\n",
      "Iteration 5 kernel 24 done\n",
      "Iteration 5 kernel 25 done\n",
      "Iteration 5 kernel 26 done\n",
      "Iteration 5 kernel 27 done\n",
      "Iteration 5 ended successfully\n",
      "Iteration 6 kernel 0 done\n",
      "Iteration 6 kernel 1 done\n",
      "Iteration 6 kernel 2 done\n",
      "Iteration 6 kernel 3 done\n",
      "Iteration 6 kernel 4 done\n",
      "Iteration 6 kernel 5 done\n",
      "Iteration 6 kernel 6 done\n",
      "Iteration 6 kernel 7 done\n",
      "Iteration 6 kernel 8 done\n",
      "Iteration 6 kernel 9 done\n",
      "Iteration 6 kernel 10 done\n",
      "Iteration 6 kernel 11 done\n",
      "Iteration 6 kernel 12 done\n",
      "Iteration 6 kernel 13 done\n",
      "Iteration 6 kernel 14 done\n",
      "Iteration 6 kernel 15 done\n",
      "Iteration 6 kernel 16 done\n",
      "Iteration 6 kernel 17 done\n",
      "Iteration 6 kernel 18 done\n",
      "Iteration 6 kernel 19 done\n",
      "Iteration 6 kernel 20 done\n",
      "Iteration 6 kernel 21 done\n",
      "Iteration 6 kernel 22 done\n",
      "Iteration 6 kernel 23 done\n",
      "Iteration 6 kernel 24 done\n",
      "Iteration 6 kernel 25 done\n",
      "Iteration 6 kernel 26 done\n",
      "Iteration 6 kernel 27 done\n",
      "Iteration 6 ended successfully\n",
      "Iteration 7 kernel 0 done\n",
      "Iteration 7 kernel 1 done\n",
      "Iteration 7 kernel 2 done\n",
      "Iteration 7 kernel 3 done\n",
      "Iteration 7 kernel 4 done\n",
      "Iteration 7 kernel 5 done\n",
      "Iteration 7 kernel 6 done\n",
      "Iteration 7 kernel 7 done\n",
      "Iteration 7 kernel 8 done\n",
      "Iteration 7 kernel 9 done\n",
      "Iteration 7 kernel 10 done\n",
      "Iteration 7 kernel 11 done\n",
      "Iteration 7 kernel 12 done\n",
      "Iteration 7 kernel 13 done\n",
      "Iteration 7 kernel 14 done\n",
      "Iteration 7 kernel 15 done\n",
      "Iteration 7 kernel 16 done\n",
      "Iteration 7 kernel 17 done\n",
      "Iteration 7 kernel 18 done\n",
      "Iteration 7 kernel 19 done\n",
      "Iteration 7 kernel 20 done\n",
      "Iteration 7 kernel 21 done\n",
      "Iteration 7 kernel 22 done\n",
      "Iteration 7 kernel 23 done\n",
      "Iteration 7 kernel 24 done\n",
      "Iteration 7 kernel 25 done\n",
      "Iteration 7 kernel 26 done\n",
      "Iteration 7 kernel 27 done\n",
      "Iteration 7 ended successfully\n",
      "Wall time: 8h 22min 12s\n"
     ]
    }
   ],
   "source": [
    "%%time\n",
    "\n",
    "kernel_sizes = {\n",
    "    'P01': range(0, 28),\n",
    "    'P04': range(0, 26),\n",
    "    'P05': range(0, 26),\n",
    "    'P12': range(0, 26),\n",
    "}\n",
    "\n",
    "number_of_iterations = {\n",
    "    'P01': 7,\n",
    "    'P04': 2,\n",
    "    'P05': 3,\n",
    "    'P12': 3,\n",
    "}\n",
    "\n",
    "lsd_trees = annihilate_jemiolas(mask_main, \n",
    "                                kernel_sizes=kernel_sizes.get(TREE_NAME, range(0, 13)), \n",
    "                                iters=number_of_iterations.get(TREE_NAME, 3))"
   ]
  },
  {
   "cell_type": "markdown",
   "metadata": {},
   "source": [
    "## Verifying obtained reconstruction "
   ]
  },
  {
   "cell_type": "code",
   "execution_count": null,
   "metadata": {},
   "outputs": [],
   "source": [
    "# if the reconstruction looks bad try using results of previous iterations\n",
    "# if the skelecon still has mistletoes try increasing number of iterations\n",
    "reconstruction = (lsd_trees[-1] > 0).astype(np.uint8)\n",
    "visualize_mask_non_bin(reconstruction) # check for holes\n",
    "visualize_skeleton(reconstruction) # check for mistletoes\n",
    "visualize_addition(mask_main, reconstruction) # check for anomalies"
   ]
  },
  {
   "cell_type": "markdown",
   "metadata": {},
   "source": [
    "## Saving the reconstruction"
   ]
  },
  {
   "cell_type": "code",
   "execution_count": 12,
   "metadata": {},
   "outputs": [],
   "source": [
    "reconstruction = np.pad(reconstruction, 1) # padding reconstruction to avoid padding later\n",
    "np.save(source_dir + TREE_NAME + '/reconstruction', reconstruction)"
   ]
  },
  {
   "cell_type": "code",
   "execution_count": null,
   "metadata": {},
   "outputs": [],
   "source": [
    "%%time\n",
    "visualize_skeleton(reconstruction)"
   ]
  },
  {
   "cell_type": "code",
   "execution_count": 27,
   "metadata": {},
   "outputs": [],
   "source": [
    "source_dir = './data/'\n",
    "reconstruction = np.load(source_dir + TREE_NAME + '/reconstruction.npy')\n",
    "# visualize_skeleton(reconstruction)"
   ]
  },
  {
   "cell_type": "code",
   "execution_count": null,
   "metadata": {},
   "outputs": [],
   "source": []
  },
  {
   "cell_type": "code",
   "execution_count": 37,
   "metadata": {},
   "outputs": [
    {
     "ename": "KeyboardInterrupt",
     "evalue": "",
     "output_type": "error",
     "traceback": [
      "\u001b[1;31m---------------------------------------------------------------------------\u001b[0m",
      "\u001b[1;31mKeyboardInterrupt\u001b[0m                         Traceback (most recent call last)",
      "\u001b[1;32m<ipython-input-37-1855c0a6ffc0>\u001b[0m in \u001b[0;36m<module>\u001b[1;34m\u001b[0m\n\u001b[1;32m----> 1\u001b[1;33m \u001b[0mvisualize_addition\u001b[0m\u001b[1;33m(\u001b[0m\u001b[0mmask_main\u001b[0m\u001b[1;33m,\u001b[0m \u001b[0mreconstruction\u001b[0m\u001b[1;33m[\u001b[0m\u001b[1;36m1\u001b[0m\u001b[1;33m:\u001b[0m\u001b[1;33m-\u001b[0m\u001b[1;36m1\u001b[0m\u001b[1;33m,\u001b[0m \u001b[1;36m1\u001b[0m\u001b[1;33m:\u001b[0m\u001b[1;33m-\u001b[0m\u001b[1;36m1\u001b[0m\u001b[1;33m,\u001b[0m \u001b[1;36m1\u001b[0m\u001b[1;33m:\u001b[0m\u001b[1;33m-\u001b[0m\u001b[1;36m1\u001b[0m\u001b[1;33m]\u001b[0m\u001b[1;33m)\u001b[0m\u001b[1;33m\u001b[0m\u001b[1;33m\u001b[0m\u001b[0m\n\u001b[0m",
      "\u001b[1;32m<ipython-input-30-41c6df16a4fd>\u001b[0m in \u001b[0;36mvisualize_addition\u001b[1;34m(base, base_with_addition)\u001b[0m\n\u001b[0;32m      3\u001b[0m     \u001b[0maddition\u001b[0m \u001b[1;33m=\u001b[0m \u001b[1;33m(\u001b[0m\u001b[0mbase_with_addition\u001b[0m \u001b[1;33m>\u001b[0m \u001b[1;36m0\u001b[0m\u001b[1;33m)\u001b[0m\u001b[1;33m.\u001b[0m\u001b[0mastype\u001b[0m\u001b[1;33m(\u001b[0m\u001b[0mnp\u001b[0m\u001b[1;33m.\u001b[0m\u001b[0muint8\u001b[0m\u001b[1;33m)\u001b[0m\u001b[1;33m\u001b[0m\u001b[1;33m\u001b[0m\u001b[0m\n\u001b[0;32m      4\u001b[0m     \u001b[0maddition\u001b[0m\u001b[1;33m[\u001b[0m\u001b[0mbase\u001b[0m \u001b[1;33m==\u001b[0m \u001b[1;36m1\u001b[0m\u001b[1;33m]\u001b[0m \u001b[1;33m=\u001b[0m \u001b[1;36m0\u001b[0m\u001b[1;33m\u001b[0m\u001b[1;33m\u001b[0m\u001b[0m\n\u001b[1;32m----> 5\u001b[1;33m     \u001b[0mColorMapVisualizer\u001b[0m\u001b[1;33m(\u001b[0m\u001b[0mbase\u001b[0m \u001b[1;33m+\u001b[0m \u001b[0maddition\u001b[0m \u001b[1;33m*\u001b[0m \u001b[1;36m4\u001b[0m\u001b[1;33m)\u001b[0m\u001b[1;33m.\u001b[0m\u001b[0mvisualize\u001b[0m\u001b[1;33m(\u001b[0m\u001b[1;33m)\u001b[0m\u001b[1;33m\u001b[0m\u001b[1;33m\u001b[0m\u001b[0m\n\u001b[0m\u001b[0;32m      6\u001b[0m \u001b[1;33m\u001b[0m\u001b[0m\n\u001b[0;32m      7\u001b[0m \u001b[1;32mdef\u001b[0m \u001b[0mvisualize_lsd\u001b[0m\u001b[1;33m(\u001b[0m\u001b[0mlsd_mask\u001b[0m\u001b[1;33m)\u001b[0m\u001b[1;33m:\u001b[0m\u001b[1;33m\u001b[0m\u001b[1;33m\u001b[0m\u001b[0m\n",
      "\u001b[1;31mKeyboardInterrupt\u001b[0m: "
     ]
    }
   ],
   "source": [
    "visualize_addition(mask_main, reconstruction[1:-1, 1:-1, 1:-1])"
   ]
  },
  {
   "cell_type": "code",
   "execution_count": null,
   "metadata": {},
   "outputs": [],
   "source": []
  }
 ],
 "metadata": {
  "kernelspec": {
   "display_name": "Python 3",
   "language": "python",
   "name": "python3"
  },
  "language_info": {
   "codemirror_mode": {
    "name": "ipython",
    "version": 3
   },
   "file_extension": ".py",
   "mimetype": "text/x-python",
   "name": "python",
   "nbconvert_exporter": "python",
   "pygments_lexer": "ipython3",
   "version": "3.7.9"
  }
 },
 "nbformat": 4,
 "nbformat_minor": 4
}
