{
 "cells": [
  {
   "cell_type": "markdown",
   "metadata": {},
   "source": [
    "## Necessary imports"
   ]
  },
  {
   "cell_type": "code",
   "execution_count": 16,
   "metadata": {},
   "outputs": [],
   "source": [
    "import os, re # finding all graph files\n",
    "import numpy as np\n",
    "\n",
    "# import glob\n",
    "# import matplotlib.pyplot as plt\n",
    "# import pandas as pd\n",
    "# import seaborn as sns\n",
    "# import pickle\n",
    "# from vis_utils import load_volume, VolumeVisualizer, ColorMapVisualizer\n",
    "# from scipy.ndimage import zoom\n",
    "# from scipy import signal\n",
    "# from PIL import Image\n",
    "# from queue import PriorityQueue\n",
    "# from skimage.morphology import skeletonize_3d, binary_dilation\n",
    "# from skimage import measure, segmentation, feature\n",
    "# from skimage.filters import frangi, sato\n",
    "# from skimage.draw import line_nd\n",
    "# from skimage import filters, morphology"
   ]
  },
  {
   "cell_type": "markdown",
   "metadata": {},
   "source": [
    "### All avalible graphs for kidneys"
   ]
  },
  {
   "cell_type": "code",
   "execution_count": 17,
   "metadata": {},
   "outputs": [
    {
     "name": "stdout",
     "output_type": "stream",
     "text": [
      "Currently avalible graph files: ['.\\\\data\\\\P01\\\\dag.pkl', '.\\\\data\\\\P07\\\\dag.pkl', '.\\\\data\\\\P09\\\\dag.pkl', '.\\\\data\\\\P12\\\\dag.pkl', '.\\\\data\\\\P18\\\\dag.pkl']\n"
     ]
    }
   ],
   "source": [
    "pkl_re = re.compile('.*P[0-9]*\\\\\\\\dag.pkl')\n",
    "data_files = [os.path.join(path, name) for path, _, files in os.walk('.\\\\data') for name in files]\n",
    "graph_files = list(filter(pkl_re.match, data_files)) \n",
    "print(f\"Currently avalible graph files: {graph_files}\")"
   ]
  },
  {
   "cell_type": "markdown",
   "metadata": {},
   "source": [
    "## Graph definition"
   ]
  },
  {
   "cell_type": "code",
   "execution_count": 18,
   "metadata": {},
   "outputs": [],
   "source": [
    "def get_nodes_with_dfs(root):\n",
    "    nodes = [root]\n",
    "    for e in root.edges:\n",
    "        if e.node_a != root:\n",
    "            print(e)\n",
    "        \n",
    "        nodes += get_nodes_with_dfs(e.node_b)\n",
    "        \n",
    "    return nodes\n",
    "\n",
    "\n",
    "def get_edges_with_dfs(root):\n",
    "    edges = []\n",
    "    for e in root.edges:\n",
    "        edges += [e]\n",
    "        edges += get_edges_with_dfs(e.node_b)\n",
    "        \n",
    "    return edges"
   ]
  },
  {
   "cell_type": "code",
   "execution_count": 19,
   "metadata": {},
   "outputs": [],
   "source": [
    "class Node:\n",
    "    def __init__(self, coords):\n",
    "        self.coords = coords\n",
    "        self.edges = []\n",
    "        self.data = {}\n",
    "            \n",
    "    def add_edge(self, edge):\n",
    "        self.edges.append(edge)\n",
    "        \n",
    "    def get_neighbours(self):\n",
    "        return [e.node_a if e.node_a.coords != self.coords else e.node_b for e in self.edges]\n",
    "    \n",
    "    def copy_without_edges(self):\n",
    "        copied_node = Node(self.coords)\n",
    "        copied_node.data = self.data\n",
    "        return copied_node\n",
    "    \n",
    "    def __setitem__(self, key, value):\n",
    "        self.data[key] = value\n",
    "    \n",
    "    def __getitem__(self, key):\n",
    "        return self.data[key]\n",
    "    \n",
    "    def __hash__(self):\n",
    "        return hash(self.coords)\n",
    "    \n",
    "    def __repr__(self):\n",
    "        return f'Node {str(self.coords)}'\n",
    "       \n",
    "        \n",
    "class Edge:\n",
    "    def __init__(self, node_a, node_b):\n",
    "        self.node_a = node_a\n",
    "        self.node_b = node_b\n",
    "        self.data = {}\n",
    "        \n",
    "    def __setitem__(self, key, value):\n",
    "        self.data[key] = value\n",
    "    \n",
    "    def __getitem__(self, key):\n",
    "        return self.data[key]\n",
    "    \n",
    "    def __repr__(self):\n",
    "        return f'Edge {self.node_a.coords} -> {self.node_b.coords}'\n",
    "\n",
    "    \n",
    "class DAG:\n",
    "    def __init__(self, root, volume_shape):\n",
    "        self.root = root\n",
    "        self.nodes = get_nodes_with_dfs(root)\n",
    "        self.edges = get_edges_with_dfs(root)\n",
    "        self.volume_shape = volume_shape\n",
    "        self.data = {}\n",
    "    \n",
    "    def __setitem__(self, key, value):\n",
    "        self.data[key] = value\n",
    "    \n",
    "    def __getitem__(self, key):\n",
    "        return self.data[key]\n",
    "           \n",
    "\n",
    "def save_dag(dag, filename):\n",
    "    with open(filename, 'wb') as output:\n",
    "        pickle.dump(dag, output)\n",
    "        \n",
    "\n",
    "def load_dag(filename):\n",
    "    with open(filename, 'rb') as input_:\n",
    "        dag = pickle.load(input_)\n",
    "        return dag"
   ]
  },
  {
   "cell_type": "markdown",
   "metadata": {},
   "source": [
    "### Example DAG"
   ]
  },
  {
   "cell_type": "code",
   "execution_count": 20,
   "metadata": {},
   "outputs": [],
   "source": [
    "dag = load_dag(graph_files[0])\n",
    "# reconstruction = np.load(source_dir + TREE_NAME + '/reconstruction.npy')"
   ]
  },
  {
   "cell_type": "markdown",
   "metadata": {},
   "source": [
    "## Mean length (L)"
   ]
  },
  {
   "cell_type": "code",
   "execution_count": 21,
   "metadata": {},
   "outputs": [],
   "source": [
    "def l_ratio(edges, listt):\n",
    "    print(len(edges), len(listt))\n",
    "#     print(len(listt))\n",
    "#     print(np.array([node.edges for node in nodes]).flatten())\n",
    "    nodes = [edge.node_b for edge in edges]\n",
    "    if len(nodes) == 0:\n",
    "        return listt\n",
    "    \n",
    "    new_edges = []\n",
    "    for edge in edges:\n",
    "        children = edge.node_b.edges\n",
    "        for e in children:\n",
    "            listt.append( e['length'] / edge['length'] )\n",
    "            new_edges.append(e)\n",
    "    return l_ratio(new_edges, listt)"
   ]
  },
  {
   "cell_type": "code",
   "execution_count": null,
   "metadata": {},
   "outputs": [],
   "source": []
  },
  {
   "cell_type": "markdown",
   "metadata": {},
   "source": [
    "## Mean diameter (D)"
   ]
  },
  {
   "cell_type": "code",
   "execution_count": 29,
   "metadata": {},
   "outputs": [],
   "source": [
    "def d_ratio(edges, listt):\n",
    "    print(len(edges), len(listt))\n",
    "#     print(len(listt))\n",
    "#     print(np.array([node.edges for node in nodes]).flatten())\n",
    "    nodes = [edge.node_b for edge in edges]\n",
    "    if len(nodes) == 0:\n",
    "        return listt\n",
    "    \n",
    "    new_edges = []\n",
    "    for edge in edges:\n",
    "        children = edge.node_b.edges\n",
    "        for e in children:\n",
    "            listt.append( e['mean_radius'] / edge['mean_radius'] )\n",
    "            new_edges.append(e)\n",
    "    return l_ratio(new_edges, listt)"
   ]
  },
  {
   "cell_type": "markdown",
   "metadata": {},
   "source": [
    "## Calculating parameters for graphs"
   ]
  },
  {
   "cell_type": "code",
   "execution_count": 28,
   "metadata": {},
   "outputs": [
    {
     "name": "stdout",
     "output_type": "stream",
     "text": [
      "1 0\n",
      "2 2\n",
      "4 6\n",
      "8 14\n",
      "16 30\n",
      "32 62\n",
      "58 120\n",
      "74 194\n",
      "105 299\n",
      "141 440\n",
      "201 641\n",
      "257 898\n",
      "300 1198\n",
      "341 1539\n",
      "345 1884\n",
      "385 2269\n",
      "405 2674\n",
      "369 3043\n",
      "385 3428\n",
      "354 3782\n",
      "311 4093\n",
      "230 4323\n",
      "165 4488\n",
      "111 4599\n",
      "71 4670\n",
      "40 4710\n",
      "14 4724\n",
      "5 4729\n",
      "2 4731\n",
      "2 4733\n",
      "0 4733\n"
     ]
    },
    {
     "data": {
      "text/plain": [
       "1.7432396478856604"
      ]
     },
     "execution_count": 28,
     "metadata": {},
     "output_type": "execute_result"
    }
   ],
   "source": [
    "dag = load_dag(graph_files[1])\n",
    "\n",
    "xd = l_ratio(dag.root.edges, [])\n",
    "np.mean(xd[2:])"
   ]
  },
  {
   "cell_type": "code",
   "execution_count": 30,
   "metadata": {},
   "outputs": [
    {
     "name": "stdout",
     "output_type": "stream",
     "text": [
      "1 0\n",
      "2 2\n",
      "4 6\n",
      "8 14\n",
      "16 30\n",
      "32 62\n",
      "58 120\n",
      "74 194\n",
      "105 299\n",
      "141 440\n",
      "201 641\n",
      "257 898\n",
      "300 1198\n",
      "341 1539\n",
      "345 1884\n",
      "385 2269\n",
      "405 2674\n",
      "369 3043\n",
      "385 3428\n",
      "354 3782\n",
      "311 4093\n",
      "230 4323\n",
      "165 4488\n",
      "111 4599\n",
      "71 4670\n",
      "40 4710\n",
      "14 4724\n",
      "5 4729\n",
      "2 4731\n",
      "2 4733\n",
      "0 4733\n"
     ]
    }
   ],
   "source": [
    "xd2 = d_ratio(dag.root.edges, [])"
   ]
  },
  {
   "cell_type": "code",
   "execution_count": 31,
   "metadata": {},
   "outputs": [
    {
     "data": {
      "text/plain": [
       "1.742845955921278"
      ]
     },
     "execution_count": 31,
     "metadata": {},
     "output_type": "execute_result"
    }
   ],
   "source": [
    "np.mean(xd2)"
   ]
  }
 ],
 "metadata": {
  "interpreter": {
   "hash": "414b77679a3a442eccdbdbd543a479bf3bea3e6ae027e3b62d9a787c7f3afdca"
  },
  "kernelspec": {
   "display_name": "Python 3.10.0 64-bit",
   "language": "python",
   "name": "python3"
  },
  "language_info": {
   "codemirror_mode": {
    "name": "ipython",
    "version": 3
   },
   "file_extension": ".py",
   "mimetype": "text/x-python",
   "name": "python",
   "nbconvert_exporter": "python",
   "pygments_lexer": "ipython3",
   "version": "3.10.0"
  },
  "orig_nbformat": 4
 },
 "nbformat": 4,
 "nbformat_minor": 2
}
